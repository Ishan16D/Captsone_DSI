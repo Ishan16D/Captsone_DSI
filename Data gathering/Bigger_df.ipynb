{
 "cells": [
  {
   "cell_type": "code",
   "execution_count": 5,
   "metadata": {},
   "outputs": [],
   "source": [
    "import pandas as pd\n",
    "import numpy as np\n",
    "\n",
    "from nltk.tokenize import RegexpTokenizer\n",
    "from nltk import WordNetLemmatizer\n",
    "\n",
    "from sklearn.feature_extraction.text import CountVectorizer, TfidfVectorizer"
   ]
  },
  {
   "cell_type": "code",
   "execution_count": 4,
   "metadata": {
    "scrolled": true
   },
   "outputs": [
    {
     "name": "stderr",
     "output_type": "stream",
     "text": [
      "C:\\Users\\Ishan\\Anaconda3\\envs\\nltktb\\lib\\site-packages\\IPython\\core\\interactiveshell.py:3058: DtypeWarning: Columns (3) have mixed types. Specify dtype option on import or set low_memory=False.\n",
      "  interactivity=interactivity, compiler=compiler, result=result)\n"
     ]
    },
    {
     "name": "stdout",
     "output_type": "stream",
     "text": [
      "Inital shape : (8776119, 2)\n"
     ]
    }
   ],
   "source": [
    "filepath = '../datasets/news_cleaned_2018_02_13.csv'\n",
    "nlinesfile = 9408908\n",
    "\n",
    "cols = ['type', 'title']\n",
    "\n",
    "nlinesrandomsample = 9400000\n",
    "lines2skip = np.random.choice(np.arange(1,nlinesfile+1), (nlinesfile-nlinesrandomsample), replace=False, )\n",
    "df = pd.read_csv(filepath, skiprows=lines2skip, usecols= cols )\n",
    "\n",
    "\n",
    "print(f\"Inital shape : {df.shape}\")"
   ]
  },
  {
   "cell_type": "code",
   "execution_count": 6,
   "metadata": {},
   "outputs": [
    {
     "data": {
      "text/html": [
       "<div>\n",
       "<style scoped>\n",
       "    .dataframe tbody tr th:only-of-type {\n",
       "        vertical-align: middle;\n",
       "    }\n",
       "\n",
       "    .dataframe tbody tr th {\n",
       "        vertical-align: top;\n",
       "    }\n",
       "\n",
       "    .dataframe thead th {\n",
       "        text-align: right;\n",
       "    }\n",
       "</style>\n",
       "<table border=\"1\" class=\"dataframe\">\n",
       "  <thead>\n",
       "    <tr style=\"text-align: right;\">\n",
       "      <th></th>\n",
       "      <th>type</th>\n",
       "      <th>title</th>\n",
       "    </tr>\n",
       "  </thead>\n",
       "  <tbody>\n",
       "    <tr>\n",
       "      <th>4536511</th>\n",
       "      <td>political</td>\n",
       "      <td>Gravel retaining support in Palmetto State (UP...</td>\n",
       "    </tr>\n",
       "    <tr>\n",
       "      <th>2832395</th>\n",
       "      <td>hate</td>\n",
       "      <td>Who’s Lying? White House Denies Kyl’s Immigrat...</td>\n",
       "    </tr>\n",
       "    <tr>\n",
       "      <th>5000714</th>\n",
       "      <td>political</td>\n",
       "      <td>Texas man killed over karaoke song choice</td>\n",
       "    </tr>\n",
       "    <tr>\n",
       "      <th>3370566</th>\n",
       "      <td>bias</td>\n",
       "      <td>CLN : Conscious Life News</td>\n",
       "    </tr>\n",
       "    <tr>\n",
       "      <th>1408688</th>\n",
       "      <td>reliable</td>\n",
       "      <td>BUSINESS DIGEST</td>\n",
       "    </tr>\n",
       "    <tr>\n",
       "      <th>2486221</th>\n",
       "      <td>reliable</td>\n",
       "      <td>Financing Site to Designers: Leave the Busines...</td>\n",
       "    </tr>\n",
       "    <tr>\n",
       "      <th>5497919</th>\n",
       "      <td>political</td>\n",
       "      <td>Iran News Round Up</td>\n",
       "    </tr>\n",
       "    <tr>\n",
       "      <th>3737454</th>\n",
       "      <td>bias</td>\n",
       "      <td>Constitutional Court, March 2010 : The Voice o...</td>\n",
       "    </tr>\n",
       "    <tr>\n",
       "      <th>4099228</th>\n",
       "      <td>political</td>\n",
       "      <td>MN National Guard Gets Shafted, Bush Yawns</td>\n",
       "    </tr>\n",
       "    <tr>\n",
       "      <th>1143310</th>\n",
       "      <td>reliable</td>\n",
       "      <td>Refugee to referee: Syrian eyes promotion to B...</td>\n",
       "    </tr>\n",
       "  </tbody>\n",
       "</table>\n",
       "</div>"
      ],
      "text/plain": [
       "              type                                              title\n",
       "4536511  political  Gravel retaining support in Palmetto State (UP...\n",
       "2832395       hate  Who’s Lying? White House Denies Kyl’s Immigrat...\n",
       "5000714  political          Texas man killed over karaoke song choice\n",
       "3370566       bias                          CLN : Conscious Life News\n",
       "1408688   reliable                                    BUSINESS DIGEST\n",
       "2486221   reliable  Financing Site to Designers: Leave the Busines...\n",
       "5497919  political                                 Iran News Round Up\n",
       "3737454       bias  Constitutional Court, March 2010 : The Voice o...\n",
       "4099228  political         MN National Guard Gets Shafted, Bush Yawns\n",
       "1143310   reliable  Refugee to referee: Syrian eyes promotion to B..."
      ]
     },
     "execution_count": 6,
     "metadata": {},
     "output_type": "execute_result"
    }
   ],
   "source": [
    "df_f = df[df['type'] == 'fake']\n",
    "df_h = df[df['type'] == 'hate']\n",
    "df_b = df[df['type'] == 'bias']\n",
    "df_p = df[df['type'] == 'political']\n",
    "df_r = df[df['type'] == 'reliable']\n",
    "\n",
    "df = pd.concat([df_f, df_r, df_h, df_b, df_p], axis = 0)\n",
    "\n",
    "df.index = range(0, len(df.index))\n",
    "\n",
    "df.sample(10)"
   ]
  },
  {
   "cell_type": "code",
   "execution_count": 7,
   "metadata": {
    "scrolled": true
   },
   "outputs": [
    {
     "name": "stdout",
     "output_type": "stream",
     "text": [
      "Subsection df shape : (5692175, 2)\n"
     ]
    }
   ],
   "source": [
    "print(f\"Subsection df shape : {df.shape}\")"
   ]
  },
  {
   "cell_type": "code",
   "execution_count": 8,
   "metadata": {
    "scrolled": true
   },
   "outputs": [
    {
     "data": {
      "text/plain": [
       "reliable     0.335795\n",
       "political    0.293825\n",
       "bias         0.199906\n",
       "fake         0.157048\n",
       "hate         0.013427\n",
       "Name: type, dtype: float64"
      ]
     },
     "execution_count": 8,
     "metadata": {},
     "output_type": "execute_result"
    }
   ],
   "source": [
    "df['type'].value_counts(normalize = True)"
   ]
  },
  {
   "cell_type": "code",
   "execution_count": 9,
   "metadata": {
    "scrolled": true
   },
   "outputs": [
    {
     "data": {
      "text/plain": [
       "type     0.000000\n",
       "title    0.000088\n",
       "dtype: float64"
      ]
     },
     "execution_count": 9,
     "metadata": {},
     "output_type": "execute_result"
    }
   ],
   "source": [
    "df.isna().mean()"
   ]
  },
  {
   "cell_type": "code",
   "execution_count": 10,
   "metadata": {},
   "outputs": [],
   "source": [
    "df.dropna(inplace=True)"
   ]
  },
  {
   "cell_type": "code",
   "execution_count": 12,
   "metadata": {},
   "outputs": [],
   "source": [
    "df.to_csv('../datasets/df_5mil.csv')"
   ]
  },
  {
   "cell_type": "code",
   "execution_count": 13,
   "metadata": {},
   "outputs": [
    {
     "data": {
      "text/html": [
       "<div>\n",
       "<style scoped>\n",
       "    .dataframe tbody tr th:only-of-type {\n",
       "        vertical-align: middle;\n",
       "    }\n",
       "\n",
       "    .dataframe tbody tr th {\n",
       "        vertical-align: top;\n",
       "    }\n",
       "\n",
       "    .dataframe thead th {\n",
       "        text-align: right;\n",
       "    }\n",
       "</style>\n",
       "<table border=\"1\" class=\"dataframe\">\n",
       "  <thead>\n",
       "    <tr style=\"text-align: right;\">\n",
       "      <th></th>\n",
       "      <th>type</th>\n",
       "      <th>title</th>\n",
       "      <th>tokens</th>\n",
       "      <th>lemma</th>\n",
       "    </tr>\n",
       "  </thead>\n",
       "  <tbody>\n",
       "    <tr>\n",
       "      <th>4395772</th>\n",
       "      <td>political</td>\n",
       "      <td>Cuban Province Well on Its Way to 100% Renewab...</td>\n",
       "      <td>[Cuban, Province, Well, on, Its, Way, to, 100,...</td>\n",
       "      <td>Cuban Province Well on Its Way to 100 Renewabl...</td>\n",
       "    </tr>\n",
       "    <tr>\n",
       "      <th>3635314</th>\n",
       "      <td>bias</td>\n",
       "      <td>На выборах в Латвии победили оппозиционные \"кр...</td>\n",
       "      <td>[На, выборах, в, Латвии, победили, оппозиционн...</td>\n",
       "      <td>На выборах в Латвии победили оппозиционные кра...</td>\n",
       "    </tr>\n",
       "    <tr>\n",
       "      <th>1298894</th>\n",
       "      <td>reliable</td>\n",
       "      <td>Bing Wright</td>\n",
       "      <td>[Bing, Wright]</td>\n",
       "      <td>Bing Wright</td>\n",
       "    </tr>\n",
       "    <tr>\n",
       "      <th>1456511</th>\n",
       "      <td>reliable</td>\n",
       "      <td>World Briefing | United Nations: Concern Over ...</td>\n",
       "      <td>[World, Briefing, United, Nations, Concern, Ov...</td>\n",
       "      <td>World Briefing United Nations Concern Over Dan...</td>\n",
       "    </tr>\n",
       "    <tr>\n",
       "      <th>5342533</th>\n",
       "      <td>political</td>\n",
       "      <td>Who's Stayin' Alive After South Carolina? | Fe...</td>\n",
       "      <td>[Who, s, Stayin, Alive, After, South, Carolina...</td>\n",
       "      <td>Who s Stayin Alive After South Carolina Februa...</td>\n",
       "    </tr>\n",
       "    <tr>\n",
       "      <th>3022379</th>\n",
       "      <td>bias</td>\n",
       "      <td>But we're all racist</td>\n",
       "      <td>[But, we, re, all, racist]</td>\n",
       "      <td>But we re all racist</td>\n",
       "    </tr>\n",
       "    <tr>\n",
       "      <th>4518023</th>\n",
       "      <td>political</td>\n",
       "      <td>Daily Kos: minimumwages</td>\n",
       "      <td>[Daily, Kos, minimumwages]</td>\n",
       "      <td>Daily Kos minimumwages</td>\n",
       "    </tr>\n",
       "    <tr>\n",
       "      <th>2893793</th>\n",
       "      <td>bias</td>\n",
       "      <td>Russia Says GLONASS Accuracy Could Be Boosted ...</td>\n",
       "      <td>[Russia, Says, GLONASS, Accuracy, Could, Be, B...</td>\n",
       "      <td>Russia Says GLONASS Accuracy Could Be Boosted ...</td>\n",
       "    </tr>\n",
       "    <tr>\n",
       "      <th>2168659</th>\n",
       "      <td>reliable</td>\n",
       "      <td>Paid Notice: Deaths  CALTABIANO, LETIZIA S</td>\n",
       "      <td>[Paid, Notice, Deaths, CALTABIANO, LETIZIA, S]</td>\n",
       "      <td>Paid Notice Deaths CALTABIANO LETIZIA S</td>\n",
       "    </tr>\n",
       "    <tr>\n",
       "      <th>765613</th>\n",
       "      <td>fake</td>\n",
       "      <td>YWC Featured in Campus Reform Video</td>\n",
       "      <td>[YWC, Featured, in, Campus, Reform, Video]</td>\n",
       "      <td>YWC Featured in Campus Reform Video</td>\n",
       "    </tr>\n",
       "  </tbody>\n",
       "</table>\n",
       "</div>"
      ],
      "text/plain": [
       "              type                                              title  \\\n",
       "4395772  political  Cuban Province Well on Its Way to 100% Renewab...   \n",
       "3635314       bias  На выборах в Латвии победили оппозиционные \"кр...   \n",
       "1298894   reliable                                        Bing Wright   \n",
       "1456511   reliable  World Briefing | United Nations: Concern Over ...   \n",
       "5342533  political  Who's Stayin' Alive After South Carolina? | Fe...   \n",
       "3022379       bias                               But we're all racist   \n",
       "4518023  political                            Daily Kos: minimumwages   \n",
       "2893793       bias  Russia Says GLONASS Accuracy Could Be Boosted ...   \n",
       "2168659   reliable         Paid Notice: Deaths  CALTABIANO, LETIZIA S   \n",
       "765613        fake                YWC Featured in Campus Reform Video   \n",
       "\n",
       "                                                    tokens  \\\n",
       "4395772  [Cuban, Province, Well, on, Its, Way, to, 100,...   \n",
       "3635314  [На, выборах, в, Латвии, победили, оппозиционн...   \n",
       "1298894                                     [Bing, Wright]   \n",
       "1456511  [World, Briefing, United, Nations, Concern, Ov...   \n",
       "5342533  [Who, s, Stayin, Alive, After, South, Carolina...   \n",
       "3022379                         [But, we, re, all, racist]   \n",
       "4518023                         [Daily, Kos, minimumwages]   \n",
       "2893793  [Russia, Says, GLONASS, Accuracy, Could, Be, B...   \n",
       "2168659     [Paid, Notice, Deaths, CALTABIANO, LETIZIA, S]   \n",
       "765613          [YWC, Featured, in, Campus, Reform, Video]   \n",
       "\n",
       "                                                     lemma  \n",
       "4395772  Cuban Province Well on Its Way to 100 Renewabl...  \n",
       "3635314  На выборах в Латвии победили оппозиционные кра...  \n",
       "1298894                                        Bing Wright  \n",
       "1456511  World Briefing United Nations Concern Over Dan...  \n",
       "5342533  Who s Stayin Alive After South Carolina Februa...  \n",
       "3022379                               But we re all racist  \n",
       "4518023                             Daily Kos minimumwages  \n",
       "2893793  Russia Says GLONASS Accuracy Could Be Boosted ...  \n",
       "2168659            Paid Notice Deaths CALTABIANO LETIZIA S  \n",
       "765613                 YWC Featured in Campus Reform Video  "
      ]
     },
     "execution_count": 13,
     "metadata": {},
     "output_type": "execute_result"
    }
   ],
   "source": [
    "df.sample(10)"
   ]
  },
  {
   "cell_type": "code",
   "execution_count": 11,
   "metadata": {},
   "outputs": [],
   "source": [
    "def tokenize(x):\n",
    "    tokenizer = RegexpTokenizer(r'\\w+')\n",
    "    return tokenizer.tokenize(x)\n",
    "\n",
    "df['tokens'] = df['title'].map(tokenize)\n",
    "\n",
    "def lemmatize(x):\n",
    "    lemmatizer = WordNetLemmatizer()\n",
    "    return ' '.join([lemmatizer.lemmatize(word) for word in x])\n",
    "\n",
    "df['lemma'] = df['tokens'].map(lemmatize)"
   ]
  },
  {
   "cell_type": "code",
   "execution_count": null,
   "metadata": {},
   "outputs": [],
   "source": [
    "cvec = CountVectorizer(max_df=0.8, min_df = 4, stop_words = 'english', ngram_range=(1,2))\n",
    "\n",
    "X = cvec.fit_transform(df['lemma'])"
   ]
  }
 ],
 "metadata": {
  "kernelspec": {
   "display_name": "Python 3",
   "language": "python",
   "name": "python3"
  },
  "language_info": {
   "codemirror_mode": {
    "name": "ipython",
    "version": 3
   },
   "file_extension": ".py",
   "mimetype": "text/x-python",
   "name": "python",
   "nbconvert_exporter": "python",
   "pygments_lexer": "ipython3",
   "version": "3.6.9"
  }
 },
 "nbformat": 4,
 "nbformat_minor": 2
}
