{
 "cells": [
  {
   "cell_type": "code",
   "execution_count": 3,
   "metadata": {},
   "outputs": [],
   "source": [
    "# Save Model Using Pickle\n",
    "# Imports\n",
    "\n",
    "import pandas as pd\n",
    "from sklearn import model_selection\n",
    "import xgboost\n",
    "from sklearn.model_selection import train_test_split\n",
    "from sklearn.feature_extraction.text import CountVectorizer, TfidfVectorizer\n",
    "import pickle\n",
    "\n",
    "# Reading in data\n",
    "\n",
    "df = pd.read_csv('../../datasets/Fake_finder/clean_text.csv')\n",
    "\n",
    "df.drop(columns = 'Unnamed: 0', inplace = True)\n",
    "\n",
    "df.dropna(inplace = True)\n",
    "\n",
    "# Feature engineering and training split\n",
    "\n",
    "tf = TfidfVectorizer(max_df=0.8, min_df = 3, stop_words = 'english', ngram_range=(1,2))\n",
    "\n",
    "X = tf.fit_transform(df['clean_text'])\n",
    "y = df['label']\n",
    "\n",
    "X_train, X_test, y_train, y_test = train_test_split(X, y, stratify=y, random_state = 42)\n",
    "\n",
    "\n",
    "# Fit the model on training set\n",
    "\n",
    "xgb = xgboost.XGBClassifier(max_depth=8, n_jobs = -1, verbosity=1)\n",
    "\n",
    "xgb.fit(X_train, y_train)\n",
    "\n",
    "# save the model to disk\n",
    "filename = 'xgb_model.sav'\n",
    "pickle.dump(xgb, open(filename, 'wb'))\n",
    "\n",
    "# # some time later...\n",
    "\n",
    "# # load the model from disk\n",
    "# loaded_model = pickle.load(open(filename, 'rb'))\n",
    "# result = loaded_model.score(X_test, Y_test)\n",
    "# print(result)"
   ]
  },
  {
   "cell_type": "code",
   "execution_count": 4,
   "metadata": {},
   "outputs": [],
   "source": [
    "filename = 'model.pkl'\n",
    "pickle.dump(xgb, open(filename, 'wb'))"
   ]
  }
 ],
 "metadata": {
  "kernelspec": {
   "display_name": "Python 3",
   "language": "python",
   "name": "python3"
  },
  "language_info": {
   "codemirror_mode": {
    "name": "ipython",
    "version": 3
   },
   "file_extension": ".py",
   "mimetype": "text/x-python",
   "name": "python",
   "nbconvert_exporter": "python",
   "pygments_lexer": "ipython3",
   "version": "3.6.9"
  }
 },
 "nbformat": 4,
 "nbformat_minor": 2
}
