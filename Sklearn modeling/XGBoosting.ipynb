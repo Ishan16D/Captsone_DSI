{
 "cells": [
  {
   "cell_type": "code",
   "execution_count": 1,
   "metadata": {},
   "outputs": [],
   "source": [
    "import pandas as pd\n",
    "import numpy as np\n",
    "\n",
    "\n",
    "from sklearn.model_selection import GridSearchCV, RandomizedSearchCV\n",
    "from sklearn.pipeline import Pipeline\n",
    "from sklearn.model_selection import train_test_split\n",
    "from sklearn.feature_extraction.text import CountVectorizer, TfidfVectorizer\n",
    "from sklearn.metrics import roc_auc_score, precision_score\n",
    "\n",
    "import xgboost as xgb\n",
    "from xgboost.sklearn import XGBClassifier\n",
    "\n",
    "\n"
   ]
  },
  {
   "cell_type": "code",
   "execution_count": 2,
   "metadata": {},
   "outputs": [],
   "source": [
    "df = pd.read_csv('../fake_finder_df_full.csv')"
   ]
  },
  {
   "cell_type": "code",
   "execution_count": 3,
   "metadata": {
    "scrolled": false
   },
   "outputs": [
    {
     "data": {
      "text/html": [
       "<div>\n",
       "<style scoped>\n",
       "    .dataframe tbody tr th:only-of-type {\n",
       "        vertical-align: middle;\n",
       "    }\n",
       "\n",
       "    .dataframe tbody tr th {\n",
       "        vertical-align: top;\n",
       "    }\n",
       "\n",
       "    .dataframe thead th {\n",
       "        text-align: right;\n",
       "    }\n",
       "</style>\n",
       "<table border=\"1\" class=\"dataframe\">\n",
       "  <thead>\n",
       "    <tr style=\"text-align: right;\">\n",
       "      <th></th>\n",
       "      <th>Unnamed: 0</th>\n",
       "      <th>text</th>\n",
       "      <th>title</th>\n",
       "      <th>label</th>\n",
       "      <th>dc_score</th>\n",
       "      <th>sub</th>\n",
       "      <th>tokens</th>\n",
       "      <th>text_length</th>\n",
       "      <th>lemma</th>\n",
       "      <th>clean_text</th>\n",
       "      <th>vs</th>\n",
       "    </tr>\n",
       "  </thead>\n",
       "  <tbody>\n",
       "    <tr>\n",
       "      <th>0</th>\n",
       "      <td>0</td>\n",
       "      <td>U.S. Secretary of State John F. Kerry said Mon...</td>\n",
       "      <td>Kerry to go to Paris in gesture of sympathy</td>\n",
       "      <td>0</td>\n",
       "      <td>27.93</td>\n",
       "      <td>0.348775</td>\n",
       "      <td>['U', 'S', 'Secretary', 'of', 'State', 'John',...</td>\n",
       "      <td>439</td>\n",
       "      <td>U S Secretary of State John F Kerry said Monda...</td>\n",
       "      <td>U S Secretary of State John F Kerry said Monda...</td>\n",
       "      <td>0.833</td>\n",
       "    </tr>\n",
       "    <tr>\n",
       "      <th>1</th>\n",
       "      <td>1</td>\n",
       "      <td>It's primary day in New York and front-runners...</td>\n",
       "      <td>The Battle of New York: Why This Primary Matters</td>\n",
       "      <td>0</td>\n",
       "      <td>22.23</td>\n",
       "      <td>0.448090</td>\n",
       "      <td>['It', 's', 'primary', 'day', 'in', 'New', 'Yo...</td>\n",
       "      <td>335</td>\n",
       "      <td>It s primary day in New York and front runner ...</td>\n",
       "      <td>It s primary day in New York and front runner ...</td>\n",
       "      <td>0.745</td>\n",
       "    </tr>\n",
       "    <tr>\n",
       "      <th>2</th>\n",
       "      <td>2</td>\n",
       "      <td>A Czech stockbroker who saved more than 650 Je...</td>\n",
       "      <td>‘Britain’s Schindler’ Dies at 106</td>\n",
       "      <td>0</td>\n",
       "      <td>12.74</td>\n",
       "      <td>0.318750</td>\n",
       "      <td>['A', 'Czech', 'stockbroker', 'who', 'saved', ...</td>\n",
       "      <td>125</td>\n",
       "      <td>A Czech stockbroker who saved more than 650 Je...</td>\n",
       "      <td>A Czech stockbroker who saved more than 650 Je...</td>\n",
       "      <td>0.863</td>\n",
       "    </tr>\n",
       "    <tr>\n",
       "      <th>3</th>\n",
       "      <td>3</td>\n",
       "      <td>Hillary Clinton and Donald Trump made some ina...</td>\n",
       "      <td>Fact check: Trump and Clinton at the 'commande...</td>\n",
       "      <td>0</td>\n",
       "      <td>125.54</td>\n",
       "      <td>0.375304</td>\n",
       "      <td>['Hillary', 'Clinton', 'and', 'Donald', 'Trump...</td>\n",
       "      <td>2424</td>\n",
       "      <td>Hillary Clinton and Donald Trump made some ina...</td>\n",
       "      <td>Hillary Clinton and Donald Trump made some ina...</td>\n",
       "      <td>0.771</td>\n",
       "    </tr>\n",
       "    <tr>\n",
       "      <th>4</th>\n",
       "      <td>4</td>\n",
       "      <td>Iranian negotiators reportedly have made a las...</td>\n",
       "      <td>Iran reportedly makes new push for uranium con...</td>\n",
       "      <td>0</td>\n",
       "      <td>42.70</td>\n",
       "      <td>0.407948</td>\n",
       "      <td>['Iranian', 'negotiators', 'reportedly', 'have...</td>\n",
       "      <td>732</td>\n",
       "      <td>Iranian negotiator reportedly have made a last...</td>\n",
       "      <td>Iranian negotiator reportedly have made a last...</td>\n",
       "      <td>0.815</td>\n",
       "    </tr>\n",
       "  </tbody>\n",
       "</table>\n",
       "</div>"
      ],
      "text/plain": [
       "   Unnamed: 0                                               text  \\\n",
       "0           0  U.S. Secretary of State John F. Kerry said Mon...   \n",
       "1           1  It's primary day in New York and front-runners...   \n",
       "2           2  A Czech stockbroker who saved more than 650 Je...   \n",
       "3           3  Hillary Clinton and Donald Trump made some ina...   \n",
       "4           4  Iranian negotiators reportedly have made a las...   \n",
       "\n",
       "                                               title  label  dc_score  \\\n",
       "0        Kerry to go to Paris in gesture of sympathy      0     27.93   \n",
       "1   The Battle of New York: Why This Primary Matters      0     22.23   \n",
       "2                  ‘Britain’s Schindler’ Dies at 106      0     12.74   \n",
       "3  Fact check: Trump and Clinton at the 'commande...      0    125.54   \n",
       "4  Iran reportedly makes new push for uranium con...      0     42.70   \n",
       "\n",
       "        sub                                             tokens  text_length  \\\n",
       "0  0.348775  ['U', 'S', 'Secretary', 'of', 'State', 'John',...          439   \n",
       "1  0.448090  ['It', 's', 'primary', 'day', 'in', 'New', 'Yo...          335   \n",
       "2  0.318750  ['A', 'Czech', 'stockbroker', 'who', 'saved', ...          125   \n",
       "3  0.375304  ['Hillary', 'Clinton', 'and', 'Donald', 'Trump...         2424   \n",
       "4  0.407948  ['Iranian', 'negotiators', 'reportedly', 'have...          732   \n",
       "\n",
       "                                               lemma  \\\n",
       "0  U S Secretary of State John F Kerry said Monda...   \n",
       "1  It s primary day in New York and front runner ...   \n",
       "2  A Czech stockbroker who saved more than 650 Je...   \n",
       "3  Hillary Clinton and Donald Trump made some ina...   \n",
       "4  Iranian negotiator reportedly have made a last...   \n",
       "\n",
       "                                          clean_text     vs  \n",
       "0  U S Secretary of State John F Kerry said Monda...  0.833  \n",
       "1  It s primary day in New York and front runner ...  0.745  \n",
       "2  A Czech stockbroker who saved more than 650 Je...  0.863  \n",
       "3  Hillary Clinton and Donald Trump made some ina...  0.771  \n",
       "4  Iranian negotiator reportedly have made a last...  0.815  "
      ]
     },
     "execution_count": 3,
     "metadata": {},
     "output_type": "execute_result"
    }
   ],
   "source": [
    "df.head()"
   ]
  },
  {
   "cell_type": "code",
   "execution_count": 4,
   "metadata": {
    "scrolled": true
   },
   "outputs": [
    {
     "data": {
      "text/plain": [
       "Unnamed: 0     0.000000\n",
       "text           0.000000\n",
       "title          0.000000\n",
       "label          0.000000\n",
       "dc_score       0.000000\n",
       "sub            0.000000\n",
       "tokens         0.000000\n",
       "text_length    0.000000\n",
       "lemma          0.004604\n",
       "clean_text     0.004604\n",
       "vs             0.000000\n",
       "dtype: float64"
      ]
     },
     "execution_count": 4,
     "metadata": {},
     "output_type": "execute_result"
    }
   ],
   "source": [
    "df.isna().mean()"
   ]
  },
  {
   "cell_type": "code",
   "execution_count": 5,
   "metadata": {},
   "outputs": [
    {
     "data": {
      "text/plain": [
       "(24107, 11)"
      ]
     },
     "execution_count": 5,
     "metadata": {},
     "output_type": "execute_result"
    }
   ],
   "source": [
    "df.shape"
   ]
  },
  {
   "cell_type": "code",
   "execution_count": 6,
   "metadata": {},
   "outputs": [],
   "source": [
    "df.dropna(inplace=True)"
   ]
  },
  {
   "cell_type": "code",
   "execution_count": 9,
   "metadata": {},
   "outputs": [],
   "source": [
    "tf = TfidfVectorizer(max_df=0.8, min_df = 3, stop_words = 'english', ngram_range=(1,2))\n",
    "\n",
    "X = tf.fit_transform(df['clean_text'])\n",
    "y = df['label']\n",
    "\n",
    "X_train, X_test, y_train, y_test = train_test_split(X, y, stratify=y, random_state = 42)"
   ]
  },
  {
   "cell_type": "code",
   "execution_count": 13,
   "metadata": {},
   "outputs": [
    {
     "name": "stdout",
     "output_type": "stream",
     "text": [
      "[02:19:45] INFO: C:\\Jenkins\\workspace\\xgboost-win64_release_0.90\\src\\tree\\updater_prune.cc:74: tree pruning end, 1 roots, 64 extra nodes, 0 pruned nodes, max_depth=6\n",
      "[02:19:46] INFO: C:\\Jenkins\\workspace\\xgboost-win64_release_0.90\\src\\tree\\updater_prune.cc:74: tree pruning end, 1 roots, 66 extra nodes, 0 pruned nodes, max_depth=6\n",
      "[02:19:48] INFO: C:\\Jenkins\\workspace\\xgboost-win64_release_0.90\\src\\tree\\updater_prune.cc:74: tree pruning end, 1 roots, 68 extra nodes, 0 pruned nodes, max_depth=6\n",
      "[02:19:49] INFO: C:\\Jenkins\\workspace\\xgboost-win64_release_0.90\\src\\tree\\updater_prune.cc:74: tree pruning end, 1 roots, 70 extra nodes, 0 pruned nodes, max_depth=6\n",
      "[02:19:50] INFO: C:\\Jenkins\\workspace\\xgboost-win64_release_0.90\\src\\tree\\updater_prune.cc:74: tree pruning end, 1 roots, 54 extra nodes, 0 pruned nodes, max_depth=6\n",
      "[02:19:52] INFO: C:\\Jenkins\\workspace\\xgboost-win64_release_0.90\\src\\tree\\updater_prune.cc:74: tree pruning end, 1 roots, 74 extra nodes, 0 pruned nodes, max_depth=6\n",
      "[02:19:53] INFO: C:\\Jenkins\\workspace\\xgboost-win64_release_0.90\\src\\tree\\updater_prune.cc:74: tree pruning end, 1 roots, 52 extra nodes, 0 pruned nodes, max_depth=6\n",
      "[02:19:54] INFO: C:\\Jenkins\\workspace\\xgboost-win64_release_0.90\\src\\tree\\updater_prune.cc:74: tree pruning end, 1 roots, 72 extra nodes, 0 pruned nodes, max_depth=6\n",
      "[02:19:56] INFO: C:\\Jenkins\\workspace\\xgboost-win64_release_0.90\\src\\tree\\updater_prune.cc:74: tree pruning end, 1 roots, 50 extra nodes, 0 pruned nodes, max_depth=6\n",
      "[02:19:57] INFO: C:\\Jenkins\\workspace\\xgboost-win64_release_0.90\\src\\tree\\updater_prune.cc:74: tree pruning end, 1 roots, 54 extra nodes, 0 pruned nodes, max_depth=6\n",
      "[02:19:58] INFO: C:\\Jenkins\\workspace\\xgboost-win64_release_0.90\\src\\tree\\updater_prune.cc:74: tree pruning end, 1 roots, 54 extra nodes, 0 pruned nodes, max_depth=6\n",
      "[02:20:00] INFO: C:\\Jenkins\\workspace\\xgboost-win64_release_0.90\\src\\tree\\updater_prune.cc:74: tree pruning end, 1 roots, 64 extra nodes, 0 pruned nodes, max_depth=6\n",
      "[02:20:01] INFO: C:\\Jenkins\\workspace\\xgboost-win64_release_0.90\\src\\tree\\updater_prune.cc:74: tree pruning end, 1 roots, 58 extra nodes, 0 pruned nodes, max_depth=6\n",
      "[02:20:03] INFO: C:\\Jenkins\\workspace\\xgboost-win64_release_0.90\\src\\tree\\updater_prune.cc:74: tree pruning end, 1 roots, 58 extra nodes, 0 pruned nodes, max_depth=6\n",
      "[02:20:04] INFO: C:\\Jenkins\\workspace\\xgboost-win64_release_0.90\\src\\tree\\updater_prune.cc:74: tree pruning end, 1 roots, 62 extra nodes, 0 pruned nodes, max_depth=6\n",
      "[02:20:05] INFO: C:\\Jenkins\\workspace\\xgboost-win64_release_0.90\\src\\tree\\updater_prune.cc:74: tree pruning end, 1 roots, 56 extra nodes, 0 pruned nodes, max_depth=6\n",
      "[02:20:07] INFO: C:\\Jenkins\\workspace\\xgboost-win64_release_0.90\\src\\tree\\updater_prune.cc:74: tree pruning end, 1 roots, 64 extra nodes, 0 pruned nodes, max_depth=6\n",
      "[02:20:08] INFO: C:\\Jenkins\\workspace\\xgboost-win64_release_0.90\\src\\tree\\updater_prune.cc:74: tree pruning end, 1 roots, 62 extra nodes, 0 pruned nodes, max_depth=6\n",
      "[02:20:10] INFO: C:\\Jenkins\\workspace\\xgboost-win64_release_0.90\\src\\tree\\updater_prune.cc:74: tree pruning end, 1 roots, 84 extra nodes, 0 pruned nodes, max_depth=6\n",
      "[02:20:11] INFO: C:\\Jenkins\\workspace\\xgboost-win64_release_0.90\\src\\tree\\updater_prune.cc:74: tree pruning end, 1 roots, 58 extra nodes, 0 pruned nodes, max_depth=6\n",
      "[02:20:13] INFO: C:\\Jenkins\\workspace\\xgboost-win64_release_0.90\\src\\tree\\updater_prune.cc:74: tree pruning end, 1 roots, 74 extra nodes, 0 pruned nodes, max_depth=6\n",
      "[02:20:14] INFO: C:\\Jenkins\\workspace\\xgboost-win64_release_0.90\\src\\tree\\updater_prune.cc:74: tree pruning end, 1 roots, 52 extra nodes, 0 pruned nodes, max_depth=6\n",
      "[02:20:16] INFO: C:\\Jenkins\\workspace\\xgboost-win64_release_0.90\\src\\tree\\updater_prune.cc:74: tree pruning end, 1 roots, 44 extra nodes, 0 pruned nodes, max_depth=6\n",
      "[02:20:17] INFO: C:\\Jenkins\\workspace\\xgboost-win64_release_0.90\\src\\tree\\updater_prune.cc:74: tree pruning end, 1 roots, 80 extra nodes, 0 pruned nodes, max_depth=6\n",
      "[02:20:18] INFO: C:\\Jenkins\\workspace\\xgboost-win64_release_0.90\\src\\tree\\updater_prune.cc:74: tree pruning end, 1 roots, 52 extra nodes, 0 pruned nodes, max_depth=6\n",
      "[02:20:20] INFO: C:\\Jenkins\\workspace\\xgboost-win64_release_0.90\\src\\tree\\updater_prune.cc:74: tree pruning end, 1 roots, 66 extra nodes, 0 pruned nodes, max_depth=6\n",
      "[02:20:21] INFO: C:\\Jenkins\\workspace\\xgboost-win64_release_0.90\\src\\tree\\updater_prune.cc:74: tree pruning end, 1 roots, 66 extra nodes, 0 pruned nodes, max_depth=6\n",
      "[02:20:22] INFO: C:\\Jenkins\\workspace\\xgboost-win64_release_0.90\\src\\tree\\updater_prune.cc:74: tree pruning end, 1 roots, 48 extra nodes, 0 pruned nodes, max_depth=6\n",
      "[02:20:24] INFO: C:\\Jenkins\\workspace\\xgboost-win64_release_0.90\\src\\tree\\updater_prune.cc:74: tree pruning end, 1 roots, 62 extra nodes, 0 pruned nodes, max_depth=6\n",
      "[02:20:25] INFO: C:\\Jenkins\\workspace\\xgboost-win64_release_0.90\\src\\tree\\updater_prune.cc:74: tree pruning end, 1 roots, 48 extra nodes, 0 pruned nodes, max_depth=6\n",
      "[02:20:27] INFO: C:\\Jenkins\\workspace\\xgboost-win64_release_0.90\\src\\tree\\updater_prune.cc:74: tree pruning end, 1 roots, 84 extra nodes, 0 pruned nodes, max_depth=6\n",
      "[02:20:28] INFO: C:\\Jenkins\\workspace\\xgboost-win64_release_0.90\\src\\tree\\updater_prune.cc:74: tree pruning end, 1 roots, 50 extra nodes, 0 pruned nodes, max_depth=6\n",
      "[02:20:30] INFO: C:\\Jenkins\\workspace\\xgboost-win64_release_0.90\\src\\tree\\updater_prune.cc:74: tree pruning end, 1 roots, 82 extra nodes, 0 pruned nodes, max_depth=6\n",
      "[02:20:31] INFO: C:\\Jenkins\\workspace\\xgboost-win64_release_0.90\\src\\tree\\updater_prune.cc:74: tree pruning end, 1 roots, 74 extra nodes, 0 pruned nodes, max_depth=6\n",
      "[02:20:33] INFO: C:\\Jenkins\\workspace\\xgboost-win64_release_0.90\\src\\tree\\updater_prune.cc:74: tree pruning end, 1 roots, 72 extra nodes, 0 pruned nodes, max_depth=6\n",
      "[02:20:34] INFO: C:\\Jenkins\\workspace\\xgboost-win64_release_0.90\\src\\tree\\updater_prune.cc:74: tree pruning end, 1 roots, 30 extra nodes, 0 pruned nodes, max_depth=6\n",
      "[02:20:35] INFO: C:\\Jenkins\\workspace\\xgboost-win64_release_0.90\\src\\tree\\updater_prune.cc:74: tree pruning end, 1 roots, 96 extra nodes, 0 pruned nodes, max_depth=6\n",
      "[02:20:37] INFO: C:\\Jenkins\\workspace\\xgboost-win64_release_0.90\\src\\tree\\updater_prune.cc:74: tree pruning end, 1 roots, 68 extra nodes, 0 pruned nodes, max_depth=6\n",
      "[02:20:38] INFO: C:\\Jenkins\\workspace\\xgboost-win64_release_0.90\\src\\tree\\updater_prune.cc:74: tree pruning end, 1 roots, 68 extra nodes, 0 pruned nodes, max_depth=6\n",
      "[02:20:40] INFO: C:\\Jenkins\\workspace\\xgboost-win64_release_0.90\\src\\tree\\updater_prune.cc:74: tree pruning end, 1 roots, 44 extra nodes, 0 pruned nodes, max_depth=6\n",
      "[02:20:41] INFO: C:\\Jenkins\\workspace\\xgboost-win64_release_0.90\\src\\tree\\updater_prune.cc:74: tree pruning end, 1 roots, 52 extra nodes, 0 pruned nodes, max_depth=6\n",
      "[02:20:43] INFO: C:\\Jenkins\\workspace\\xgboost-win64_release_0.90\\src\\tree\\updater_prune.cc:74: tree pruning end, 1 roots, 58 extra nodes, 0 pruned nodes, max_depth=6\n",
      "[02:20:44] INFO: C:\\Jenkins\\workspace\\xgboost-win64_release_0.90\\src\\tree\\updater_prune.cc:74: tree pruning end, 1 roots, 66 extra nodes, 0 pruned nodes, max_depth=6\n",
      "[02:20:46] INFO: C:\\Jenkins\\workspace\\xgboost-win64_release_0.90\\src\\tree\\updater_prune.cc:74: tree pruning end, 1 roots, 36 extra nodes, 0 pruned nodes, max_depth=6\n",
      "[02:20:47] INFO: C:\\Jenkins\\workspace\\xgboost-win64_release_0.90\\src\\tree\\updater_prune.cc:74: tree pruning end, 1 roots, 28 extra nodes, 0 pruned nodes, max_depth=6\n",
      "[02:20:48] INFO: C:\\Jenkins\\workspace\\xgboost-win64_release_0.90\\src\\tree\\updater_prune.cc:74: tree pruning end, 1 roots, 68 extra nodes, 0 pruned nodes, max_depth=6\n",
      "[02:20:49] INFO: C:\\Jenkins\\workspace\\xgboost-win64_release_0.90\\src\\tree\\updater_prune.cc:74: tree pruning end, 1 roots, 68 extra nodes, 0 pruned nodes, max_depth=6\n",
      "[02:20:51] INFO: C:\\Jenkins\\workspace\\xgboost-win64_release_0.90\\src\\tree\\updater_prune.cc:74: tree pruning end, 1 roots, 56 extra nodes, 0 pruned nodes, max_depth=6\n",
      "[02:20:52] INFO: C:\\Jenkins\\workspace\\xgboost-win64_release_0.90\\src\\tree\\updater_prune.cc:74: tree pruning end, 1 roots, 66 extra nodes, 0 pruned nodes, max_depth=6\n",
      "[02:20:53] INFO: C:\\Jenkins\\workspace\\xgboost-win64_release_0.90\\src\\tree\\updater_prune.cc:74: tree pruning end, 1 roots, 66 extra nodes, 0 pruned nodes, max_depth=6\n"
     ]
    },
    {
     "name": "stdout",
     "output_type": "stream",
     "text": [
      "[02:20:55] INFO: C:\\Jenkins\\workspace\\xgboost-win64_release_0.90\\src\\tree\\updater_prune.cc:74: tree pruning end, 1 roots, 72 extra nodes, 0 pruned nodes, max_depth=6\n",
      "[02:20:56] INFO: C:\\Jenkins\\workspace\\xgboost-win64_release_0.90\\src\\tree\\updater_prune.cc:74: tree pruning end, 1 roots, 62 extra nodes, 0 pruned nodes, max_depth=6\n",
      "[02:20:58] INFO: C:\\Jenkins\\workspace\\xgboost-win64_release_0.90\\src\\tree\\updater_prune.cc:74: tree pruning end, 1 roots, 48 extra nodes, 0 pruned nodes, max_depth=6\n",
      "[02:20:59] INFO: C:\\Jenkins\\workspace\\xgboost-win64_release_0.90\\src\\tree\\updater_prune.cc:74: tree pruning end, 1 roots, 52 extra nodes, 0 pruned nodes, max_depth=6\n",
      "[02:21:00] INFO: C:\\Jenkins\\workspace\\xgboost-win64_release_0.90\\src\\tree\\updater_prune.cc:74: tree pruning end, 1 roots, 48 extra nodes, 0 pruned nodes, max_depth=6\n",
      "[02:21:02] INFO: C:\\Jenkins\\workspace\\xgboost-win64_release_0.90\\src\\tree\\updater_prune.cc:74: tree pruning end, 1 roots, 32 extra nodes, 0 pruned nodes, max_depth=6\n",
      "[02:21:03] INFO: C:\\Jenkins\\workspace\\xgboost-win64_release_0.90\\src\\tree\\updater_prune.cc:74: tree pruning end, 1 roots, 42 extra nodes, 0 pruned nodes, max_depth=6\n",
      "[02:21:04] INFO: C:\\Jenkins\\workspace\\xgboost-win64_release_0.90\\src\\tree\\updater_prune.cc:74: tree pruning end, 1 roots, 46 extra nodes, 0 pruned nodes, max_depth=6\n",
      "[02:21:06] INFO: C:\\Jenkins\\workspace\\xgboost-win64_release_0.90\\src\\tree\\updater_prune.cc:74: tree pruning end, 1 roots, 66 extra nodes, 0 pruned nodes, max_depth=6\n",
      "[02:21:07] INFO: C:\\Jenkins\\workspace\\xgboost-win64_release_0.90\\src\\tree\\updater_prune.cc:74: tree pruning end, 1 roots, 50 extra nodes, 0 pruned nodes, max_depth=6\n",
      "[02:21:09] INFO: C:\\Jenkins\\workspace\\xgboost-win64_release_0.90\\src\\tree\\updater_prune.cc:74: tree pruning end, 1 roots, 48 extra nodes, 0 pruned nodes, max_depth=6\n",
      "[02:21:10] INFO: C:\\Jenkins\\workspace\\xgboost-win64_release_0.90\\src\\tree\\updater_prune.cc:74: tree pruning end, 1 roots, 44 extra nodes, 0 pruned nodes, max_depth=6\n",
      "[02:21:11] INFO: C:\\Jenkins\\workspace\\xgboost-win64_release_0.90\\src\\tree\\updater_prune.cc:74: tree pruning end, 1 roots, 60 extra nodes, 0 pruned nodes, max_depth=6\n",
      "[02:21:13] INFO: C:\\Jenkins\\workspace\\xgboost-win64_release_0.90\\src\\tree\\updater_prune.cc:74: tree pruning end, 1 roots, 52 extra nodes, 0 pruned nodes, max_depth=6\n",
      "[02:21:14] INFO: C:\\Jenkins\\workspace\\xgboost-win64_release_0.90\\src\\tree\\updater_prune.cc:74: tree pruning end, 1 roots, 34 extra nodes, 0 pruned nodes, max_depth=6\n",
      "[02:21:15] INFO: C:\\Jenkins\\workspace\\xgboost-win64_release_0.90\\src\\tree\\updater_prune.cc:74: tree pruning end, 1 roots, 48 extra nodes, 0 pruned nodes, max_depth=6\n",
      "[02:21:17] INFO: C:\\Jenkins\\workspace\\xgboost-win64_release_0.90\\src\\tree\\updater_prune.cc:74: tree pruning end, 1 roots, 68 extra nodes, 0 pruned nodes, max_depth=6\n",
      "[02:21:18] INFO: C:\\Jenkins\\workspace\\xgboost-win64_release_0.90\\src\\tree\\updater_prune.cc:74: tree pruning end, 1 roots, 64 extra nodes, 0 pruned nodes, max_depth=6\n",
      "[02:21:19] INFO: C:\\Jenkins\\workspace\\xgboost-win64_release_0.90\\src\\tree\\updater_prune.cc:74: tree pruning end, 1 roots, 40 extra nodes, 0 pruned nodes, max_depth=6\n",
      "[02:21:21] INFO: C:\\Jenkins\\workspace\\xgboost-win64_release_0.90\\src\\tree\\updater_prune.cc:74: tree pruning end, 1 roots, 50 extra nodes, 0 pruned nodes, max_depth=6\n",
      "[02:21:22] INFO: C:\\Jenkins\\workspace\\xgboost-win64_release_0.90\\src\\tree\\updater_prune.cc:74: tree pruning end, 1 roots, 56 extra nodes, 0 pruned nodes, max_depth=6\n",
      "[02:21:23] INFO: C:\\Jenkins\\workspace\\xgboost-win64_release_0.90\\src\\tree\\updater_prune.cc:74: tree pruning end, 1 roots, 78 extra nodes, 0 pruned nodes, max_depth=6\n",
      "[02:21:25] INFO: C:\\Jenkins\\workspace\\xgboost-win64_release_0.90\\src\\tree\\updater_prune.cc:74: tree pruning end, 1 roots, 30 extra nodes, 0 pruned nodes, max_depth=6\n",
      "[02:21:26] INFO: C:\\Jenkins\\workspace\\xgboost-win64_release_0.90\\src\\tree\\updater_prune.cc:74: tree pruning end, 1 roots, 44 extra nodes, 0 pruned nodes, max_depth=6\n",
      "[02:21:28] INFO: C:\\Jenkins\\workspace\\xgboost-win64_release_0.90\\src\\tree\\updater_prune.cc:74: tree pruning end, 1 roots, 56 extra nodes, 0 pruned nodes, max_depth=6\n",
      "[02:21:30] INFO: C:\\Jenkins\\workspace\\xgboost-win64_release_0.90\\src\\tree\\updater_prune.cc:74: tree pruning end, 1 roots, 60 extra nodes, 0 pruned nodes, max_depth=6\n",
      "[02:21:31] INFO: C:\\Jenkins\\workspace\\xgboost-win64_release_0.90\\src\\tree\\updater_prune.cc:74: tree pruning end, 1 roots, 56 extra nodes, 0 pruned nodes, max_depth=6\n",
      "[02:21:32] INFO: C:\\Jenkins\\workspace\\xgboost-win64_release_0.90\\src\\tree\\updater_prune.cc:74: tree pruning end, 1 roots, 30 extra nodes, 0 pruned nodes, max_depth=6\n",
      "[02:21:34] INFO: C:\\Jenkins\\workspace\\xgboost-win64_release_0.90\\src\\tree\\updater_prune.cc:74: tree pruning end, 1 roots, 52 extra nodes, 0 pruned nodes, max_depth=6\n",
      "[02:21:35] INFO: C:\\Jenkins\\workspace\\xgboost-win64_release_0.90\\src\\tree\\updater_prune.cc:74: tree pruning end, 1 roots, 28 extra nodes, 0 pruned nodes, max_depth=6\n",
      "[02:21:37] INFO: C:\\Jenkins\\workspace\\xgboost-win64_release_0.90\\src\\tree\\updater_prune.cc:74: tree pruning end, 1 roots, 32 extra nodes, 0 pruned nodes, max_depth=6\n",
      "[02:21:38] INFO: C:\\Jenkins\\workspace\\xgboost-win64_release_0.90\\src\\tree\\updater_prune.cc:74: tree pruning end, 1 roots, 46 extra nodes, 0 pruned nodes, max_depth=6\n",
      "[02:21:40] INFO: C:\\Jenkins\\workspace\\xgboost-win64_release_0.90\\src\\tree\\updater_prune.cc:74: tree pruning end, 1 roots, 50 extra nodes, 0 pruned nodes, max_depth=6\n",
      "[02:21:41] INFO: C:\\Jenkins\\workspace\\xgboost-win64_release_0.90\\src\\tree\\updater_prune.cc:74: tree pruning end, 1 roots, 54 extra nodes, 0 pruned nodes, max_depth=6\n",
      "[02:21:43] INFO: C:\\Jenkins\\workspace\\xgboost-win64_release_0.90\\src\\tree\\updater_prune.cc:74: tree pruning end, 1 roots, 36 extra nodes, 0 pruned nodes, max_depth=6\n",
      "[02:21:44] INFO: C:\\Jenkins\\workspace\\xgboost-win64_release_0.90\\src\\tree\\updater_prune.cc:74: tree pruning end, 1 roots, 24 extra nodes, 0 pruned nodes, max_depth=6\n",
      "[02:21:46] INFO: C:\\Jenkins\\workspace\\xgboost-win64_release_0.90\\src\\tree\\updater_prune.cc:74: tree pruning end, 1 roots, 36 extra nodes, 0 pruned nodes, max_depth=6\n",
      "[02:21:47] INFO: C:\\Jenkins\\workspace\\xgboost-win64_release_0.90\\src\\tree\\updater_prune.cc:74: tree pruning end, 1 roots, 44 extra nodes, 0 pruned nodes, max_depth=6\n",
      "[02:21:49] INFO: C:\\Jenkins\\workspace\\xgboost-win64_release_0.90\\src\\tree\\updater_prune.cc:74: tree pruning end, 1 roots, 44 extra nodes, 0 pruned nodes, max_depth=6\n",
      "[02:21:50] INFO: C:\\Jenkins\\workspace\\xgboost-win64_release_0.90\\src\\tree\\updater_prune.cc:74: tree pruning end, 1 roots, 62 extra nodes, 0 pruned nodes, max_depth=6\n",
      "[02:21:52] INFO: C:\\Jenkins\\workspace\\xgboost-win64_release_0.90\\src\\tree\\updater_prune.cc:74: tree pruning end, 1 roots, 68 extra nodes, 0 pruned nodes, max_depth=6\n",
      "[02:21:53] INFO: C:\\Jenkins\\workspace\\xgboost-win64_release_0.90\\src\\tree\\updater_prune.cc:74: tree pruning end, 1 roots, 22 extra nodes, 0 pruned nodes, max_depth=6\n",
      "[02:21:54] INFO: C:\\Jenkins\\workspace\\xgboost-win64_release_0.90\\src\\tree\\updater_prune.cc:74: tree pruning end, 1 roots, 34 extra nodes, 0 pruned nodes, max_depth=6\n",
      "[02:21:56] INFO: C:\\Jenkins\\workspace\\xgboost-win64_release_0.90\\src\\tree\\updater_prune.cc:74: tree pruning end, 1 roots, 30 extra nodes, 0 pruned nodes, max_depth=6\n",
      "[02:21:57] INFO: C:\\Jenkins\\workspace\\xgboost-win64_release_0.90\\src\\tree\\updater_prune.cc:74: tree pruning end, 1 roots, 40 extra nodes, 0 pruned nodes, max_depth=6\n",
      "[02:21:58] INFO: C:\\Jenkins\\workspace\\xgboost-win64_release_0.90\\src\\tree\\updater_prune.cc:74: tree pruning end, 1 roots, 32 extra nodes, 0 pruned nodes, max_depth=6\n",
      "[02:22:00] INFO: C:\\Jenkins\\workspace\\xgboost-win64_release_0.90\\src\\tree\\updater_prune.cc:74: tree pruning end, 1 roots, 34 extra nodes, 0 pruned nodes, max_depth=6\n",
      "[02:22:01] INFO: C:\\Jenkins\\workspace\\xgboost-win64_release_0.90\\src\\tree\\updater_prune.cc:74: tree pruning end, 1 roots, 52 extra nodes, 0 pruned nodes, max_depth=6\n",
      "[02:22:02] INFO: C:\\Jenkins\\workspace\\xgboost-win64_release_0.90\\src\\tree\\updater_prune.cc:74: tree pruning end, 1 roots, 58 extra nodes, 0 pruned nodes, max_depth=6\n",
      "[02:22:04] INFO: C:\\Jenkins\\workspace\\xgboost-win64_release_0.90\\src\\tree\\updater_prune.cc:74: tree pruning end, 1 roots, 58 extra nodes, 0 pruned nodes, max_depth=6\n"
     ]
    },
    {
     "name": "stdout",
     "output_type": "stream",
     "text": [
      "Training score is 0.966494415735956\n",
      "Test score is 0.9393232205367561\n"
     ]
    }
   ],
   "source": [
    "xgb_0 = xgb.XGBClassifier(max_depth=6, n_jobs = -1, verbosity=1)\n",
    "\n",
    "xgb_0.fit(X_train, y_train)\n",
    "\n",
    "print(f'Training score is {xgb_0.score(X_train, y_train)}')\n",
    "print(f'Test score is {xgb_0.score(X_test, y_test)}')"
   ]
  },
  {
   "cell_type": "code",
   "execution_count": 14,
   "metadata": {},
   "outputs": [
    {
     "name": "stdout",
     "output_type": "stream",
     "text": [
      "Training score is 0.966494415735956\n",
      "Test score is 0.9393232205367561\n"
     ]
    }
   ],
   "source": [
    "xgb_1 = xgb.XGBClassifier(max_depth=8, n_jobs = -1, verbosity=1)\n",
    "\n",
    "xgb_1.fit(X_train, y_train)\n",
    "\n"
   ]
  },
  {
   "cell_type": "code",
   "execution_count": 15,
   "metadata": {},
   "outputs": [
    {
     "name": "stdout",
     "output_type": "stream",
     "text": [
      "Training score is 0.9821636939489915\n",
      "Test score is 0.9433238873145524\n"
     ]
    }
   ],
   "source": [
    "print(f'Training score is {xgb_1.score(X_train, y_train)}')\n",
    "print(f'Test score is {xgb_1.score(X_test, y_test)}')"
   ]
  },
  {
   "cell_type": "code",
   "execution_count": 18,
   "metadata": {},
   "outputs": [
    {
     "data": {
      "text/plain": [
       "(23996, 546199)"
      ]
     },
     "execution_count": 18,
     "metadata": {},
     "output_type": "execute_result"
    }
   ],
   "source": []
  },
  {
   "cell_type": "code",
   "execution_count": 16,
   "metadata": {},
   "outputs": [],
   "source": [
    "preds = xgb_1.predict_proba(X)"
   ]
  },
  {
   "cell_type": "code",
   "execution_count": 23,
   "metadata": {},
   "outputs": [
    {
     "data": {
      "text/plain": [
       "(23996, 2)"
      ]
     },
     "execution_count": 23,
     "metadata": {},
     "output_type": "execute_result"
    }
   ],
   "source": [
    "preds.shape"
   ]
  },
  {
   "cell_type": "code",
   "execution_count": 24,
   "metadata": {
    "scrolled": true
   },
   "outputs": [
    {
     "data": {
      "text/plain": [
       "array([0, 1], dtype=int64)"
      ]
     },
     "execution_count": 24,
     "metadata": {},
     "output_type": "execute_result"
    }
   ],
   "source": [
    "xgb_1.classes_"
   ]
  },
  {
   "cell_type": "code",
   "execution_count": 29,
   "metadata": {},
   "outputs": [
    {
     "data": {
      "text/plain": [
       "array([0.03572702, 0.964273  ], dtype=float32)"
      ]
     },
     "execution_count": 29,
     "metadata": {},
     "output_type": "execute_result"
    }
   ],
   "source": [
    "preds[23995]"
   ]
  },
  {
   "cell_type": "code",
   "execution_count": 30,
   "metadata": {},
   "outputs": [],
   "source": [
    "prob_true = []\n",
    "prob_fake = []\n",
    "\n",
    "for i in range(len(df.index)):\n",
    "    prob_true.append(preds[i][0])\n",
    "    prob_fake.append(preds[i][1])\n",
    "\n",
    "df['prob_true'] = prob_true\n",
    "df['prob_fake'] = prob_fake\n",
    "    "
   ]
  },
  {
   "cell_type": "code",
   "execution_count": 32,
   "metadata": {},
   "outputs": [],
   "source": [
    "pred_label = xgb_1.predict(X)"
   ]
  },
  {
   "cell_type": "code",
   "execution_count": 33,
   "metadata": {},
   "outputs": [],
   "source": [
    "df['pred'] = pred_label"
   ]
  },
  {
   "cell_type": "code",
   "execution_count": 34,
   "metadata": {
    "scrolled": true
   },
   "outputs": [
    {
     "data": {
      "text/html": [
       "<div>\n",
       "<style scoped>\n",
       "    .dataframe tbody tr th:only-of-type {\n",
       "        vertical-align: middle;\n",
       "    }\n",
       "\n",
       "    .dataframe tbody tr th {\n",
       "        vertical-align: top;\n",
       "    }\n",
       "\n",
       "    .dataframe thead th {\n",
       "        text-align: right;\n",
       "    }\n",
       "</style>\n",
       "<table border=\"1\" class=\"dataframe\">\n",
       "  <thead>\n",
       "    <tr style=\"text-align: right;\">\n",
       "      <th></th>\n",
       "      <th>Unnamed: 0</th>\n",
       "      <th>text</th>\n",
       "      <th>title</th>\n",
       "      <th>label</th>\n",
       "      <th>dc_score</th>\n",
       "      <th>sub</th>\n",
       "      <th>tokens</th>\n",
       "      <th>text_length</th>\n",
       "      <th>lemma</th>\n",
       "      <th>clean_text</th>\n",
       "      <th>vs</th>\n",
       "      <th>prob_true</th>\n",
       "      <th>prob_fake</th>\n",
       "      <th>pred</th>\n",
       "    </tr>\n",
       "  </thead>\n",
       "  <tbody>\n",
       "    <tr>\n",
       "      <th>16809</th>\n",
       "      <td>18066</td>\n",
       "      <td>If a gaffe is when a politician speaks the tr...</td>\n",
       "      <td>KRAUTHAMMER Skewers John Kerry On Comment Abou...</td>\n",
       "      <td>1</td>\n",
       "      <td>12.25</td>\n",
       "      <td>0.473765</td>\n",
       "      <td>['If', 'a', 'gaffe', 'is', 'when', 'a', 'polit...</td>\n",
       "      <td>110</td>\n",
       "      <td>If a gaffe is when a politician speaks the tru...</td>\n",
       "      <td>If a gaffe is when a politician speaks the tru...</td>\n",
       "      <td>0.787</td>\n",
       "      <td>0.003694</td>\n",
       "      <td>0.996306</td>\n",
       "      <td>1</td>\n",
       "    </tr>\n",
       "    <tr>\n",
       "      <th>9582</th>\n",
       "      <td>9649</td>\n",
       "      <td>Region: Russia in the World More bang for the ...</td>\n",
       "      <td>More Bang for the Buck | New Eastern Outlook</td>\n",
       "      <td>1</td>\n",
       "      <td>70.66</td>\n",
       "      <td>0.372431</td>\n",
       "      <td>['Region', 'Russia', 'in', 'the', 'World', 'Mo...</td>\n",
       "      <td>1290</td>\n",
       "      <td>Region Russia in the World More bang for the b...</td>\n",
       "      <td>Region Russia in the World More bang for the b...</td>\n",
       "      <td>0.840</td>\n",
       "      <td>0.080092</td>\n",
       "      <td>0.919908</td>\n",
       "      <td>1</td>\n",
       "    </tr>\n",
       "    <tr>\n",
       "      <th>12006</th>\n",
       "      <td>12410</td>\n",
       "      <td>Search form Search From Bad to Worse : Obamas...</td>\n",
       "      <td>From Bad to Worse: Obamas Ransom Payment to I...</td>\n",
       "      <td>1</td>\n",
       "      <td>65.38</td>\n",
       "      <td>0.449996</td>\n",
       "      <td>['Search', 'form', 'Search', 'From', 'Bad', 't...</td>\n",
       "      <td>1182</td>\n",
       "      <td>Search form Search From Bad to Worse Obama s R...</td>\n",
       "      <td>Search form Search From Bad to Worse Obama s R...</td>\n",
       "      <td>0.802</td>\n",
       "      <td>0.007979</td>\n",
       "      <td>0.992021</td>\n",
       "      <td>1</td>\n",
       "    </tr>\n",
       "    <tr>\n",
       "      <th>13126</th>\n",
       "      <td>13764</td>\n",
       "      <td>Print \\nPremiums will go up sharply next year...</td>\n",
       "      <td>Obamacare shrinks employment, drives up premiu...</td>\n",
       "      <td>1</td>\n",
       "      <td>34.53</td>\n",
       "      <td>0.415057</td>\n",
       "      <td>['Print', 'Premiums', 'will', 'go', 'up', 'sha...</td>\n",
       "      <td>563</td>\n",
       "      <td>Print Premiums will go up sharply next year un...</td>\n",
       "      <td>Print Premiums will go up sharply next year un...</td>\n",
       "      <td>0.797</td>\n",
       "      <td>0.244122</td>\n",
       "      <td>0.755878</td>\n",
       "      <td>1</td>\n",
       "    </tr>\n",
       "    <tr>\n",
       "      <th>3605</th>\n",
       "      <td>3610</td>\n",
       "      <td>Here's a look at some recent cases of foreign ...</td>\n",
       "      <td>Detained Americans Fast Facts - CNN.com</td>\n",
       "      <td>0</td>\n",
       "      <td>152.65</td>\n",
       "      <td>0.261350</td>\n",
       "      <td>['Here', 's', 'a', 'look', 'at', 'some', 'rece...</td>\n",
       "      <td>2961</td>\n",
       "      <td>Here s a look at some recent case of foreign g...</td>\n",
       "      <td>Here s a look at some recent case of foreign g...</td>\n",
       "      <td>0.786</td>\n",
       "      <td>0.942047</td>\n",
       "      <td>0.057953</td>\n",
       "      <td>0</td>\n",
       "    </tr>\n",
       "    <tr>\n",
       "      <th>5391</th>\n",
       "      <td>5408</td>\n",
       "      <td>As he considers a presidential run, Louisiana'...</td>\n",
       "      <td>In Common Core, a larger battle over the size ...</td>\n",
       "      <td>0</td>\n",
       "      <td>35.49</td>\n",
       "      <td>0.421839</td>\n",
       "      <td>['As', 'he', 'considers', 'a', 'presidential',...</td>\n",
       "      <td>594</td>\n",
       "      <td>As he considers a presidential run Louisiana s...</td>\n",
       "      <td>As he considers a presidential run Louisiana s...</td>\n",
       "      <td>0.908</td>\n",
       "      <td>0.983861</td>\n",
       "      <td>0.016139</td>\n",
       "      <td>0</td>\n",
       "    </tr>\n",
       "    <tr>\n",
       "      <th>14997</th>\n",
       "      <td>16070</td>\n",
       "      <td>\\n My Name is Fate (@Destini41) October 29, 2...</td>\n",
       "      <td>Flashback: Clinton campaigns press secretary ...</td>\n",
       "      <td>1</td>\n",
       "      <td>28.37</td>\n",
       "      <td>0.458394</td>\n",
       "      <td>['My', 'Name', 'is', 'Fate', 'Destini41', 'Oct...</td>\n",
       "      <td>445</td>\n",
       "      <td>My Name is Fate Destini41 October 29 2016 Clin...</td>\n",
       "      <td>My Name is Fate Destini41 October 29 2016 Clin...</td>\n",
       "      <td>0.903</td>\n",
       "      <td>0.015015</td>\n",
       "      <td>0.984985</td>\n",
       "      <td>1</td>\n",
       "    </tr>\n",
       "    <tr>\n",
       "      <th>1741</th>\n",
       "      <td>1744</td>\n",
       "      <td>William’s wife, Patricia, turned the maisonett...</td>\n",
       "      <td>William F. Buckley would have loathed Fox News...</td>\n",
       "      <td>0</td>\n",
       "      <td>148.51</td>\n",
       "      <td>0.467201</td>\n",
       "      <td>['William', 's', 'wife', 'Patricia', 'turned',...</td>\n",
       "      <td>2859</td>\n",
       "      <td>William s wife Patricia turned the maisonette ...</td>\n",
       "      <td>William s wife Patricia turned the maisonette ...</td>\n",
       "      <td>0.733</td>\n",
       "      <td>0.970454</td>\n",
       "      <td>0.029546</td>\n",
       "      <td>0</td>\n",
       "    </tr>\n",
       "    <tr>\n",
       "      <th>16848</th>\n",
       "      <td>18106</td>\n",
       "      <td>Hillarys been coughing to the point of almost...</td>\n",
       "      <td>HILLARYS PHYSICIAN CLAIMS She Has Pneumonia",
       "D...</td>\n",
       "      <td>1</td>\n",
       "      <td>16.69</td>\n",
       "      <td>0.440741</td>\n",
       "      <td>['Hillary', 's', 'been', 'coughing', 'to', 'th...</td>\n",
       "      <td>214</td>\n",
       "      <td>Hillary s been coughing to the point of almost...</td>\n",
       "      <td>Hillary s been coughing to the point of almost...</td>\n",
       "      <td>0.856</td>\n",
       "      <td>0.002280</td>\n",
       "      <td>0.997720</td>\n",
       "      <td>1</td>\n",
       "    </tr>\n",
       "    <tr>\n",
       "      <th>13025</th>\n",
       "      <td>13640</td>\n",
       "      <td>FBI Reviewing Clinton Emails Found While Inves...</td>\n",
       "      <td>FBI Reviewing Clinton Emails Found While Inves...</td>\n",
       "      <td>1</td>\n",
       "      <td>35.87</td>\n",
       "      <td>0.415010</td>\n",
       "      <td>['FBI', 'Reviewing', 'Clinton', 'Emails', 'Fou...</td>\n",
       "      <td>596</td>\n",
       "      <td>FBI Reviewing Clinton Emails Found While Inves...</td>\n",
       "      <td>FBI Reviewing Clinton Emails Found While Inves...</td>\n",
       "      <td>0.923</td>\n",
       "      <td>0.006456</td>\n",
       "      <td>0.993544</td>\n",
       "      <td>1</td>\n",
       "    </tr>\n",
       "  </tbody>\n",
       "</table>\n",
       "</div>"
      ],
      "text/plain": [
       "       Unnamed: 0                                               text  \\\n",
       "16809       18066  If a gaffe is when a politician speaks the tr...   \n",
       "9582         9649  Region: Russia in the World More bang for the ...   \n",
       "12006       12410  Search form Search From Bad to Worse : Obamas...   \n",
       "13126       13764  Print \\nPremiums will go up sharply next year...   \n",
       "3605         3610  Here's a look at some recent cases of foreign ...   \n",
       "5391         5408  As he considers a presidential run, Louisiana'...   \n",
       "14997       16070  \\n My Name is Fate (@Destini41) October 29, 2...   \n",
       "1741         1744  William’s wife, Patricia, turned the maisonett...   \n",
       "16848       18106  Hillarys been coughing to the point of almost...   \n",
       "13025       13640  FBI Reviewing Clinton Emails Found While Inves...   \n",
       "\n",
       "                                                   title  label  dc_score  \\\n",
       "16809  KRAUTHAMMER Skewers John Kerry On Comment Abou...      1     12.25   \n",
       "9582        More Bang for the Buck | New Eastern Outlook      1     70.66   \n",
       "12006  From Bad to Worse: Obamas Ransom Payment to I...      1     65.38   \n",
       "13126  Obamacare shrinks employment, drives up premiu...      1     34.53   \n",
       "3605             Detained Americans Fast Facts - CNN.com      0    152.65   \n",
       "5391   In Common Core, a larger battle over the size ...      0     35.49   \n",
       "14997  Flashback: Clinton campaigns press secretary ...      1     28.37   \n",
       "1741   William F. Buckley would have loathed Fox News...      0    148.51   \n",
       "16848  HILLARYS PHYSICIAN CLAIMS She Has Pneumonia\n",
       "D...      1     16.69   \n",
       "13025  FBI Reviewing Clinton Emails Found While Inves...      1     35.87   \n",
       "\n",
       "            sub                                             tokens  \\\n",
       "16809  0.473765  ['If', 'a', 'gaffe', 'is', 'when', 'a', 'polit...   \n",
       "9582   0.372431  ['Region', 'Russia', 'in', 'the', 'World', 'Mo...   \n",
       "12006  0.449996  ['Search', 'form', 'Search', 'From', 'Bad', 't...   \n",
       "13126  0.415057  ['Print', 'Premiums', 'will', 'go', 'up', 'sha...   \n",
       "3605   0.261350  ['Here', 's', 'a', 'look', 'at', 'some', 'rece...   \n",
       "5391   0.421839  ['As', 'he', 'considers', 'a', 'presidential',...   \n",
       "14997  0.458394  ['My', 'Name', 'is', 'Fate', 'Destini41', 'Oct...   \n",
       "1741   0.467201  ['William', 's', 'wife', 'Patricia', 'turned',...   \n",
       "16848  0.440741  ['Hillary', 's', 'been', 'coughing', 'to', 'th...   \n",
       "13025  0.415010  ['FBI', 'Reviewing', 'Clinton', 'Emails', 'Fou...   \n",
       "\n",
       "       text_length                                              lemma  \\\n",
       "16809          110  If a gaffe is when a politician speaks the tru...   \n",
       "9582          1290  Region Russia in the World More bang for the b...   \n",
       "12006         1182  Search form Search From Bad to Worse Obama s R...   \n",
       "13126          563  Print Premiums will go up sharply next year un...   \n",
       "3605          2961  Here s a look at some recent case of foreign g...   \n",
       "5391           594  As he considers a presidential run Louisiana s...   \n",
       "14997          445  My Name is Fate Destini41 October 29 2016 Clin...   \n",
       "1741          2859  William s wife Patricia turned the maisonette ...   \n",
       "16848          214  Hillary s been coughing to the point of almost...   \n",
       "13025          596  FBI Reviewing Clinton Emails Found While Inves...   \n",
       "\n",
       "                                              clean_text     vs  prob_true  \\\n",
       "16809  If a gaffe is when a politician speaks the tru...  0.787   0.003694   \n",
       "9582   Region Russia in the World More bang for the b...  0.840   0.080092   \n",
       "12006  Search form Search From Bad to Worse Obama s R...  0.802   0.007979   \n",
       "13126  Print Premiums will go up sharply next year un...  0.797   0.244122   \n",
       "3605   Here s a look at some recent case of foreign g...  0.786   0.942047   \n",
       "5391   As he considers a presidential run Louisiana s...  0.908   0.983861   \n",
       "14997  My Name is Fate Destini41 October 29 2016 Clin...  0.903   0.015015   \n",
       "1741   William s wife Patricia turned the maisonette ...  0.733   0.970454   \n",
       "16848  Hillary s been coughing to the point of almost...  0.856   0.002280   \n",
       "13025  FBI Reviewing Clinton Emails Found While Inves...  0.923   0.006456   \n",
       "\n",
       "       prob_fake  pred  \n",
       "16809   0.996306     1  \n",
       "9582    0.919908     1  \n",
       "12006   0.992021     1  \n",
       "13126   0.755878     1  \n",
       "3605    0.057953     0  \n",
       "5391    0.016139     0  \n",
       "14997   0.984985     1  \n",
       "1741    0.029546     0  \n",
       "16848   0.997720     1  \n",
       "13025   0.993544     1  "
      ]
     },
     "execution_count": 34,
     "metadata": {},
     "output_type": "execute_result"
    }
   ],
   "source": [
    "df.sample(10)"
   ]
  },
  {
   "cell_type": "code",
   "execution_count": 35,
   "metadata": {},
   "outputs": [],
   "source": [
    "df[['text', 'title', 'label', 'prob_true', 'prob_fake', 'pred']].to_csv('../datasets/xgb_preds_df.csv')"
   ]
  },
  {
   "cell_type": "code",
   "execution_count": 36,
   "metadata": {
    "scrolled": true
   },
   "outputs": [
    {
     "data": {
      "text/html": [
       "<div>\n",
       "<style scoped>\n",
       "    .dataframe tbody tr th:only-of-type {\n",
       "        vertical-align: middle;\n",
       "    }\n",
       "\n",
       "    .dataframe tbody tr th {\n",
       "        vertical-align: top;\n",
       "    }\n",
       "\n",
       "    .dataframe thead th {\n",
       "        text-align: right;\n",
       "    }\n",
       "</style>\n",
       "<table border=\"1\" class=\"dataframe\">\n",
       "  <thead>\n",
       "    <tr style=\"text-align: right;\">\n",
       "      <th></th>\n",
       "      <th>text</th>\n",
       "      <th>title</th>\n",
       "      <th>label</th>\n",
       "      <th>prob_true</th>\n",
       "      <th>prob_fake</th>\n",
       "      <th>pred</th>\n",
       "    </tr>\n",
       "  </thead>\n",
       "  <tbody>\n",
       "    <tr>\n",
       "      <th>0</th>\n",
       "      <td>U.S. Secretary of State John F. Kerry said Mon...</td>\n",
       "      <td>Kerry to go to Paris in gesture of sympathy</td>\n",
       "      <td>0</td>\n",
       "      <td>0.988266</td>\n",
       "      <td>0.011734</td>\n",
       "      <td>0</td>\n",
       "    </tr>\n",
       "    <tr>\n",
       "      <th>1</th>\n",
       "      <td>It's primary day in New York and front-runners...</td>\n",
       "      <td>The Battle of New York: Why This Primary Matters</td>\n",
       "      <td>0</td>\n",
       "      <td>0.922406</td>\n",
       "      <td>0.077594</td>\n",
       "      <td>0</td>\n",
       "    </tr>\n",
       "    <tr>\n",
       "      <th>2</th>\n",
       "      <td>A Czech stockbroker who saved more than 650 Je...</td>\n",
       "      <td>‘Britain’s Schindler’ Dies at 106</td>\n",
       "      <td>0</td>\n",
       "      <td>0.157023</td>\n",
       "      <td>0.842977</td>\n",
       "      <td>1</td>\n",
       "    </tr>\n",
       "    <tr>\n",
       "      <th>3</th>\n",
       "      <td>Hillary Clinton and Donald Trump made some ina...</td>\n",
       "      <td>Fact check: Trump and Clinton at the 'commande...</td>\n",
       "      <td>0</td>\n",
       "      <td>0.910249</td>\n",
       "      <td>0.089751</td>\n",
       "      <td>0</td>\n",
       "    </tr>\n",
       "    <tr>\n",
       "      <th>4</th>\n",
       "      <td>Iranian negotiators reportedly have made a las...</td>\n",
       "      <td>Iran reportedly makes new push for uranium con...</td>\n",
       "      <td>0</td>\n",
       "      <td>0.971948</td>\n",
       "      <td>0.028052</td>\n",
       "      <td>0</td>\n",
       "    </tr>\n",
       "    <tr>\n",
       "      <th>...</th>\n",
       "      <td>...</td>\n",
       "      <td>...</td>\n",
       "      <td>...</td>\n",
       "      <td>...</td>\n",
       "      <td>...</td>\n",
       "      <td>...</td>\n",
       "    </tr>\n",
       "    <tr>\n",
       "      <th>24102</th>\n",
       "      <td>Don't Diss The Dark Ages Oct 26, 2016 2:50 P...</td>\n",
       "      <td>Don't Diss The Dark Ages</td>\n",
       "      <td>1</td>\n",
       "      <td>0.045484</td>\n",
       "      <td>0.954516</td>\n",
       "      <td>1</td>\n",
       "    </tr>\n",
       "    <tr>\n",
       "      <th>24103</th>\n",
       "      <td>Oct 26, 2016 4:26 PM 0 SHARES \\nThere was a su...</td>\n",
       "      <td>Tesla Earnings Smash Expectations After Dramat...</td>\n",
       "      <td>1</td>\n",
       "      <td>0.026493</td>\n",
       "      <td>0.973507</td>\n",
       "      <td>1</td>\n",
       "    </tr>\n",
       "    <tr>\n",
       "      <th>24104</th>\n",
       "      <td>The following video is a must watch, particula...</td>\n",
       "      <td>Rules For Rulers (Or How The World Really Works)</td>\n",
       "      <td>1</td>\n",
       "      <td>0.071306</td>\n",
       "      <td>0.928694</td>\n",
       "      <td>1</td>\n",
       "    </tr>\n",
       "    <tr>\n",
       "      <th>24105</th>\n",
       "      <td>YHC-FTSE Oct 26, 2016 5:14 PM \\nWould have bee...</td>\n",
       "      <td>Caught On Tape: ISIS Destroys Iraqi Abrams Wit...</td>\n",
       "      <td>1</td>\n",
       "      <td>0.029730</td>\n",
       "      <td>0.970270</td>\n",
       "      <td>1</td>\n",
       "    </tr>\n",
       "    <tr>\n",
       "      <th>24106</th>\n",
       "      <td>Oct 26, 2016 5:20 PM 0 \\nSubmitted by Joseph J...</td>\n",
       "      <td>ObamaCare Architect Admits \"The Law Is Working...</td>\n",
       "      <td>1</td>\n",
       "      <td>0.035727</td>\n",
       "      <td>0.964273</td>\n",
       "      <td>1</td>\n",
       "    </tr>\n",
       "  </tbody>\n",
       "</table>\n",
       "<p>23996 rows × 6 columns</p>\n",
       "</div>"
      ],
      "text/plain": [
       "                                                    text  \\\n",
       "0      U.S. Secretary of State John F. Kerry said Mon...   \n",
       "1      It's primary day in New York and front-runners...   \n",
       "2      A Czech stockbroker who saved more than 650 Je...   \n",
       "3      Hillary Clinton and Donald Trump made some ina...   \n",
       "4      Iranian negotiators reportedly have made a las...   \n",
       "...                                                  ...   \n",
       "24102    Don't Diss The Dark Ages Oct 26, 2016 2:50 P...   \n",
       "24103  Oct 26, 2016 4:26 PM 0 SHARES \\nThere was a su...   \n",
       "24104  The following video is a must watch, particula...   \n",
       "24105  YHC-FTSE Oct 26, 2016 5:14 PM \\nWould have bee...   \n",
       "24106  Oct 26, 2016 5:20 PM 0 \\nSubmitted by Joseph J...   \n",
       "\n",
       "                                                   title  label  prob_true  \\\n",
       "0            Kerry to go to Paris in gesture of sympathy      0   0.988266   \n",
       "1       The Battle of New York: Why This Primary Matters      0   0.922406   \n",
       "2                      ‘Britain’s Schindler’ Dies at 106      0   0.157023   \n",
       "3      Fact check: Trump and Clinton at the 'commande...      0   0.910249   \n",
       "4      Iran reportedly makes new push for uranium con...      0   0.971948   \n",
       "...                                                  ...    ...        ...   \n",
       "24102                           Don't Diss The Dark Ages      1   0.045484   \n",
       "24103  Tesla Earnings Smash Expectations After Dramat...      1   0.026493   \n",
       "24104   Rules For Rulers (Or How The World Really Works)      1   0.071306   \n",
       "24105  Caught On Tape: ISIS Destroys Iraqi Abrams Wit...      1   0.029730   \n",
       "24106  ObamaCare Architect Admits \"The Law Is Working...      1   0.035727   \n",
       "\n",
       "       prob_fake  pred  \n",
       "0       0.011734     0  \n",
       "1       0.077594     0  \n",
       "2       0.842977     1  \n",
       "3       0.089751     0  \n",
       "4       0.028052     0  \n",
       "...          ...   ...  \n",
       "24102   0.954516     1  \n",
       "24103   0.973507     1  \n",
       "24104   0.928694     1  \n",
       "24105   0.970270     1  \n",
       "24106   0.964273     1  \n",
       "\n",
       "[23996 rows x 6 columns]"
      ]
     },
     "execution_count": 36,
     "metadata": {},
     "output_type": "execute_result"
    }
   ],
   "source": [
    "df[['text', 'title', 'label', 'prob_true', 'prob_fake', 'pred']]"
   ]
  },
  {
   "cell_type": "code",
   "execution_count": 37,
   "metadata": {},
   "outputs": [],
   "source": [
    "from sklearn.metrics import f1_score, precision_score, recall_score"
   ]
  },
  {
   "cell_type": "code",
   "execution_count": 39,
   "metadata": {},
   "outputs": [
    {
     "data": {
      "text/plain": [
       "0.9805993366792873"
      ]
     },
     "execution_count": 39,
     "metadata": {},
     "output_type": "execute_result"
    }
   ],
   "source": [
    "f1_score(df['label'], df['pred'])"
   ]
  },
  {
   "cell_type": "code",
   "execution_count": 41,
   "metadata": {},
   "outputs": [
    {
     "name": "stdout",
     "output_type": "stream",
     "text": [
      "The f1 score is 0.9805993366792873\n",
      "The precision score is 0.9698676265675801\n",
      "The recall score is 0.9915711996201104\n"
     ]
    }
   ],
   "source": [
    "print(f'The f1 score is {f1_score(df[\"label\"], df[\"pred\"])}')\n",
    "\n",
    "print(f'The precision score is {precision_score(df[\"label\"], df[\"pred\"])}')\n",
    "\n",
    "print(f'The recall score is {recall_score(df[\"label\"], df[\"pred\"])}')"
   ]
  }
 ],
 "metadata": {
  "kernelspec": {
   "display_name": "Python 3",
   "language": "python",
   "name": "python3"
  },
  "language_info": {
   "codemirror_mode": {
    "name": "ipython",
    "version": 3
   },
   "file_extension": ".py",
   "mimetype": "text/x-python",
   "name": "python",
   "nbconvert_exporter": "python",
   "pygments_lexer": "ipython3",
   "version": "3.6.9"
  }
 },
 "nbformat": 4,
 "nbformat_minor": 2
}
