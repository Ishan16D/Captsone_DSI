{
 "cells": [
  {
   "cell_type": "code",
   "execution_count": 44,
   "metadata": {},
   "outputs": [],
   "source": [
    "import pandas as pd\n",
    "import numpy as np\n",
    "from scipy.sparse import hstack\n",
    "import seaborn as sns\n",
    "\n",
    "import textstat\n",
    "from vaderSentiment.vaderSentiment import SentimentIntensityAnalyzer\n",
    "import stanfordnlp\n",
    "from textblob import TextBlob\n",
    "\n",
    "from nltk.tokenize import RegexpTokenizer\n",
    "from nltk import WordNetLemmatizer\n",
    "\n",
    "from sklearn.feature_extraction.text import CountVectorizer, TfidfVectorizer\n",
    "from sklearn.model_selection import GridSearchCV, RandomizedSearchCV\n",
    "from sklearn.pipeline import Pipeline\n",
    "from sklearn.model_selection import train_test_split\n",
    "from sklearn.ensemble import RandomForestClassifier\n",
    "from sklearn.naive_bayes import BernoulliNB \n",
    "from sklearn.naive_bayes import MultinomialNB \n"
   ]
  },
  {
   "cell_type": "code",
   "execution_count": 21,
   "metadata": {},
   "outputs": [],
   "source": [
    "df = pd.read_csv('../datasets/real_or_fake.csv')"
   ]
  },
  {
   "cell_type": "code",
   "execution_count": 22,
   "metadata": {},
   "outputs": [
    {
     "data": {
      "text/plain": [
       "(19917, 4)"
      ]
     },
     "execution_count": 22,
     "metadata": {},
     "output_type": "execute_result"
    }
   ],
   "source": [
    "df.shape"
   ]
  },
  {
   "cell_type": "code",
   "execution_count": 23,
   "metadata": {
    "scrolled": false
   },
   "outputs": [
    {
     "data": {
      "text/html": [
       "<div>\n",
       "<style scoped>\n",
       "    .dataframe tbody tr th:only-of-type {\n",
       "        vertical-align: middle;\n",
       "    }\n",
       "\n",
       "    .dataframe tbody tr th {\n",
       "        vertical-align: top;\n",
       "    }\n",
       "\n",
       "    .dataframe thead th {\n",
       "        text-align: right;\n",
       "    }\n",
       "</style>\n",
       "<table border=\"1\" class=\"dataframe\">\n",
       "  <thead>\n",
       "    <tr style=\"text-align: right;\">\n",
       "      <th></th>\n",
       "      <th>Unnamed: 0</th>\n",
       "      <th>text</th>\n",
       "      <th>title</th>\n",
       "      <th>label</th>\n",
       "    </tr>\n",
       "  </thead>\n",
       "  <tbody>\n",
       "    <tr>\n",
       "      <th>4110</th>\n",
       "      <td>4110</td>\n",
       "      <td>Last updated at 00:23 GMT 's Spencer Kelly lo...</td>\n",
       "      <td>The helicopter drone that can help fight fires</td>\n",
       "      <td>1</td>\n",
       "    </tr>\n",
       "    <tr>\n",
       "      <th>1219</th>\n",
       "      <td>1219</td>\n",
       "      <td>There was an unfamiliar buzz on the debate sta...</td>\n",
       "      <td>GOP candidates set aside insults</td>\n",
       "      <td>1</td>\n",
       "    </tr>\n",
       "    <tr>\n",
       "      <th>5229</th>\n",
       "      <td>5229</td>\n",
       "      <td>Hillary Clinton and Vermont Sen. Bernie Sander...</td>\n",
       "      <td>Democratic debate: CNN's Reality Check Team ve...</td>\n",
       "      <td>1</td>\n",
       "    </tr>\n",
       "    <tr>\n",
       "      <th>16158</th>\n",
       "      <td>16158</td>\n",
       "      <td>Here's something interesting from The Unz Revi...</td>\n",
       "      <td>US Public Opinion Speaks to Anti-Militarism, t...</td>\n",
       "      <td>-1</td>\n",
       "    </tr>\n",
       "    <tr>\n",
       "      <th>14237</th>\n",
       "      <td>14237</td>\n",
       "      <td>SNAPCHAT: 100,000,000 people worldwide , with ...</td>\n",
       "      <td>If You Are On Social Media, Then You Are Alrea...</td>\n",
       "      <td>-1</td>\n",
       "    </tr>\n",
       "  </tbody>\n",
       "</table>\n",
       "</div>"
      ],
      "text/plain": [
       "       Unnamed: 0                                               text  \\\n",
       "4110         4110   Last updated at 00:23 GMT 's Spencer Kelly lo...   \n",
       "1219         1219  There was an unfamiliar buzz on the debate sta...   \n",
       "5229         5229  Hillary Clinton and Vermont Sen. Bernie Sander...   \n",
       "16158       16158  Here's something interesting from The Unz Revi...   \n",
       "14237       14237  SNAPCHAT: 100,000,000 people worldwide , with ...   \n",
       "\n",
       "                                                   title  label  \n",
       "4110      The helicopter drone that can help fight fires      1  \n",
       "1219                    GOP candidates set aside insults      1  \n",
       "5229   Democratic debate: CNN's Reality Check Team ve...      1  \n",
       "16158  US Public Opinion Speaks to Anti-Militarism, t...     -1  \n",
       "14237  If You Are On Social Media, Then You Are Alrea...     -1  "
      ]
     },
     "execution_count": 23,
     "metadata": {},
     "output_type": "execute_result"
    }
   ],
   "source": [
    "df.sample(5)"
   ]
  },
  {
   "cell_type": "code",
   "execution_count": 24,
   "metadata": {},
   "outputs": [],
   "source": [
    "df.drop(columns = ['Unnamed: 0'], inplace = True)"
   ]
  },
  {
   "cell_type": "code",
   "execution_count": 5,
   "metadata": {
    "scrolled": true
   },
   "outputs": [
    {
     "name": "stdout",
     "output_type": "stream",
     "text": [
      "(9692, 10)\n"
     ]
    },
    {
     "data": {
      "text/html": [
       "<div>\n",
       "<style scoped>\n",
       "    .dataframe tbody tr th:only-of-type {\n",
       "        vertical-align: middle;\n",
       "    }\n",
       "\n",
       "    .dataframe tbody tr th {\n",
       "        vertical-align: top;\n",
       "    }\n",
       "\n",
       "    .dataframe thead th {\n",
       "        text-align: right;\n",
       "    }\n",
       "</style>\n",
       "<table border=\"1\" class=\"dataframe\">\n",
       "  <thead>\n",
       "    <tr style=\"text-align: right;\">\n",
       "      <th></th>\n",
       "      <th>Unnamed: 0</th>\n",
       "      <th>authors</th>\n",
       "      <th>crawled_date</th>\n",
       "      <th>imgs</th>\n",
       "      <th>linked_tweets</th>\n",
       "      <th>published</th>\n",
       "      <th>related_links</th>\n",
       "      <th>text</th>\n",
       "      <th>title</th>\n",
       "      <th>url</th>\n",
       "    </tr>\n",
       "  </thead>\n",
       "  <tbody>\n",
       "    <tr>\n",
       "      <th>0</th>\n",
       "      <td>0</td>\n",
       "      <td>Barracuda Brigade</td>\n",
       "      <td>2016-10-27T01:49:27.168+03:00</td>\n",
       "      <td>http://bb4sp.com/wp-content/uploads/2016/10/Fu...</td>\n",
       "      <td>0</td>\n",
       "      <td>2016-10-26T21:41:00.000+03:00</td>\n",
       "      <td>1</td>\n",
       "      <td>Print They should pay all the back all the mon...</td>\n",
       "      <td>Muslims BUSTED: They Stole Millions In Govt B...</td>\n",
       "      <td>100percentfedup.com</td>\n",
       "    </tr>\n",
       "    <tr>\n",
       "      <th>1</th>\n",
       "      <td>1</td>\n",
       "      <td>reasoning with facts</td>\n",
       "      <td>2016-10-29T08:47:11.259+03:00</td>\n",
       "      <td>http://bb4sp.com/wp-content/uploads/2016/10/Fu...</td>\n",
       "      <td>0</td>\n",
       "      <td>2016-10-29T08:47:11.259+03:00</td>\n",
       "      <td>1</td>\n",
       "      <td>Why Did Attorney General Loretta Lynch Plead T...</td>\n",
       "      <td>Re: Why Did Attorney General Loretta Lynch Ple...</td>\n",
       "      <td>100percentfedup.com</td>\n",
       "    </tr>\n",
       "    <tr>\n",
       "      <th>2</th>\n",
       "      <td>2</td>\n",
       "      <td>Barracuda Brigade</td>\n",
       "      <td>2016-10-31T01:41:49.479+02:00</td>\n",
       "      <td>http://bb4sp.com/wp-content/uploads/2016/10/Fu...</td>\n",
       "      <td>0</td>\n",
       "      <td>2016-10-31T01:41:49.479+02:00</td>\n",
       "      <td>1</td>\n",
       "      <td>Red State : \\nFox News Sunday reported this mo...</td>\n",
       "      <td>BREAKING: Weiner Cooperating With FBI On Hilla...</td>\n",
       "      <td>100percentfedup.com</td>\n",
       "    </tr>\n",
       "    <tr>\n",
       "      <th>3</th>\n",
       "      <td>3</td>\n",
       "      <td>Fed Up</td>\n",
       "      <td>2016-11-01T15:46:26.304+02:00</td>\n",
       "      <td>http://100percentfedup.com/wp-content/uploads/...</td>\n",
       "      <td>0</td>\n",
       "      <td>2016-11-01T05:22:00.000+02:00</td>\n",
       "      <td>0</td>\n",
       "      <td>Email Kayla Mueller was a prisoner and torture...</td>\n",
       "      <td>PIN DROP SPEECH BY FATHER OF DAUGHTER Kidnappe...</td>\n",
       "      <td>100percentfedup.com</td>\n",
       "    </tr>\n",
       "    <tr>\n",
       "      <th>4</th>\n",
       "      <td>4</td>\n",
       "      <td>Fed Up</td>\n",
       "      <td>2016-11-01T23:59:42.266+02:00</td>\n",
       "      <td>http://100percentfedup.com/wp-content/uploads/...</td>\n",
       "      <td>0</td>\n",
       "      <td>2016-11-01T21:56:00.000+02:00</td>\n",
       "      <td>0</td>\n",
       "      <td>Email HEALTHCARE REFORM TO MAKE AMERICA GREAT ...</td>\n",
       "      <td>FANTASTIC! TRUMP'S 7 POINT PLAN To Reform Heal...</td>\n",
       "      <td>100percentfedup.com</td>\n",
       "    </tr>\n",
       "  </tbody>\n",
       "</table>\n",
       "</div>"
      ],
      "text/plain": [
       "   Unnamed: 0               authors                   crawled_date  \\\n",
       "0           0     Barracuda Brigade  2016-10-27T01:49:27.168+03:00   \n",
       "1           1  reasoning with facts  2016-10-29T08:47:11.259+03:00   \n",
       "2           2     Barracuda Brigade  2016-10-31T01:41:49.479+02:00   \n",
       "3           3                Fed Up  2016-11-01T15:46:26.304+02:00   \n",
       "4           4                Fed Up  2016-11-01T23:59:42.266+02:00   \n",
       "\n",
       "                                                imgs  linked_tweets  \\\n",
       "0  http://bb4sp.com/wp-content/uploads/2016/10/Fu...              0   \n",
       "1  http://bb4sp.com/wp-content/uploads/2016/10/Fu...              0   \n",
       "2  http://bb4sp.com/wp-content/uploads/2016/10/Fu...              0   \n",
       "3  http://100percentfedup.com/wp-content/uploads/...              0   \n",
       "4  http://100percentfedup.com/wp-content/uploads/...              0   \n",
       "\n",
       "                       published  related_links  \\\n",
       "0  2016-10-26T21:41:00.000+03:00              1   \n",
       "1  2016-10-29T08:47:11.259+03:00              1   \n",
       "2  2016-10-31T01:41:49.479+02:00              1   \n",
       "3  2016-11-01T05:22:00.000+02:00              0   \n",
       "4  2016-11-01T21:56:00.000+02:00              0   \n",
       "\n",
       "                                                text  \\\n",
       "0  Print They should pay all the back all the mon...   \n",
       "1  Why Did Attorney General Loretta Lynch Plead T...   \n",
       "2  Red State : \\nFox News Sunday reported this mo...   \n",
       "3  Email Kayla Mueller was a prisoner and torture...   \n",
       "4  Email HEALTHCARE REFORM TO MAKE AMERICA GREAT ...   \n",
       "\n",
       "                                               title                  url  \n",
       "0  Muslims BUSTED: They Stole Millions In Govt B...  100percentfedup.com  \n",
       "1  Re: Why Did Attorney General Loretta Lynch Ple...  100percentfedup.com  \n",
       "2  BREAKING: Weiner Cooperating With FBI On Hilla...  100percentfedup.com  \n",
       "3  PIN DROP SPEECH BY FATHER OF DAUGHTER Kidnappe...  100percentfedup.com  \n",
       "4  FANTASTIC! TRUMP'S 7 POINT PLAN To Reform Heal...  100percentfedup.com  "
      ]
     },
     "execution_count": 5,
     "metadata": {},
     "output_type": "execute_result"
    }
   ],
   "source": [
    "cfd = pd.read_csv('../datasets/clean_fake_data.csv',  encoding='iso-8859-1')\n",
    "print(cfd.shape)\n",
    "cfd.head()"
   ]
  },
  {
   "cell_type": "code",
   "execution_count": 12,
   "metadata": {},
   "outputs": [],
   "source": [
    "cfd.drop(columns = 'Unnamed: 0', inplace = True)"
   ]
  },
  {
   "cell_type": "code",
   "execution_count": 15,
   "metadata": {},
   "outputs": [],
   "source": [
    "cfd = cfd[['text', 'title']]\n",
    "\n",
    "cfd['label'] = -1"
   ]
  },
  {
   "cell_type": "code",
   "execution_count": 6,
   "metadata": {
    "scrolled": true
   },
   "outputs": [
    {
     "name": "stdout",
     "output_type": "stream",
     "text": [
      "(4112, 9)\n"
     ]
    },
    {
     "data": {
      "text/html": [
       "<div>\n",
       "<style scoped>\n",
       "    .dataframe tbody tr th:only-of-type {\n",
       "        vertical-align: middle;\n",
       "    }\n",
       "\n",
       "    .dataframe tbody tr th {\n",
       "        vertical-align: top;\n",
       "    }\n",
       "\n",
       "    .dataframe thead th {\n",
       "        text-align: right;\n",
       "    }\n",
       "</style>\n",
       "<table border=\"1\" class=\"dataframe\">\n",
       "  <thead>\n",
       "    <tr style=\"text-align: right;\">\n",
       "      <th></th>\n",
       "      <th>authors</th>\n",
       "      <th>crawled_date</th>\n",
       "      <th>imgs</th>\n",
       "      <th>linked_tweets</th>\n",
       "      <th>published</th>\n",
       "      <th>related_links</th>\n",
       "      <th>text</th>\n",
       "      <th>title</th>\n",
       "      <th>url</th>\n",
       "    </tr>\n",
       "  </thead>\n",
       "  <tbody>\n",
       "    <tr>\n",
       "      <th>0</th>\n",
       "      <td>Kevin Liptak, CNN White House Producer</td>\n",
       "      <td>2017-02-04 17:27:32.306</td>\n",
       "      <td>['http://i2.cdn.cnn.com/cnnnext/dam/assets/170...</td>\n",
       "      <td>0</td>\n",
       "      <td>2017-02-04 19:27:30.000</td>\n",
       "      <td>3</td>\n",
       "      <td>The rapid halting of President Donald Trump's ...</td>\n",
       "      <td>Trump just got checked and balanced - CNNPolit...</td>\n",
       "      <td>http://www.cnn.com/2017/02/04/politics/donald-...</td>\n",
       "    </tr>\n",
       "    <tr>\n",
       "      <th>1</th>\n",
       "      <td>Deirdre Walsh, CNN Senior Congressional Producer</td>\n",
       "      <td>2017-02-04 16:17:29.864</td>\n",
       "      <td>['http://i2.cdn.cnn.com/cnnnext/dam/assets/121...</td>\n",
       "      <td>0</td>\n",
       "      <td>2017-02-02 04:31:14.000</td>\n",
       "      <td>2</td>\n",
       "      <td>The Republican-led Congress took its first ste...</td>\n",
       "      <td>GOP House votes to reject stream protection ru...</td>\n",
       "      <td>http://www.cnn.com/2017/02/01/politics/stream-...</td>\n",
       "    </tr>\n",
       "    <tr>\n",
       "      <th>2</th>\n",
       "      <td>Eli Watkins, CNN</td>\n",
       "      <td>2017-02-04 16:17:59.886</td>\n",
       "      <td>['http://i2.cdn.cnn.com/cnnnext/dam/assets/161...</td>\n",
       "      <td>0</td>\n",
       "      <td>2016-12-14 16:40:46.000</td>\n",
       "      <td>2</td>\n",
       "      <td>Oklahoma Attorney General Scott Pruitt has led...</td>\n",
       "      <td>Who is Scott Pruitt, Trump's anti-EPA choice t...</td>\n",
       "      <td>http://www.cnn.com/2016/12/14/politics/scott-p...</td>\n",
       "    </tr>\n",
       "    <tr>\n",
       "      <th>3</th>\n",
       "      <td>Eli Watkins, CNN</td>\n",
       "      <td>2017-02-04 16:18:06.074</td>\n",
       "      <td>['http://i2.cdn.cnn.com/cnnnext/dam/assets/161...</td>\n",
       "      <td>1</td>\n",
       "      <td>2016-12-15 14:31:34.000</td>\n",
       "      <td>1</td>\n",
       "      <td>President-elect Donald Trump picked something ...</td>\n",
       "      <td>Who is Wilbur Ross, Trump's pick for Commerce?...</td>\n",
       "      <td>http://www.cnn.com/2016/12/15/politics/wilbur-...</td>\n",
       "    </tr>\n",
       "    <tr>\n",
       "      <th>4</th>\n",
       "      <td>Ryan Browne</td>\n",
       "      <td>2017-02-04 16:15:06.417</td>\n",
       "      <td>['http://i2.cdn.cnn.com/cnnnext/dam/assets/170...</td>\n",
       "      <td>0</td>\n",
       "      <td>2017-01-31 12:41:46.000</td>\n",
       "      <td>0</td>\n",
       "      <td>Amid controversy over the reshuffling of the N...</td>\n",
       "      <td>Flynn takes a page from Colin Powell  - CNNPol...</td>\n",
       "      <td>http://www.cnn.com/2017/01/31/politics/flynn-c...</td>\n",
       "    </tr>\n",
       "  </tbody>\n",
       "</table>\n",
       "</div>"
      ],
      "text/plain": [
       "                                            authors             crawled_date  \\\n",
       "0            Kevin Liptak, CNN White House Producer  2017-02-04 17:27:32.306   \n",
       "1  Deirdre Walsh, CNN Senior Congressional Producer  2017-02-04 16:17:29.864   \n",
       "2                                  Eli Watkins, CNN  2017-02-04 16:17:59.886   \n",
       "3                                  Eli Watkins, CNN  2017-02-04 16:18:06.074   \n",
       "4                                       Ryan Browne  2017-02-04 16:15:06.417   \n",
       "\n",
       "                                                imgs  linked_tweets  \\\n",
       "0  ['http://i2.cdn.cnn.com/cnnnext/dam/assets/170...              0   \n",
       "1  ['http://i2.cdn.cnn.com/cnnnext/dam/assets/121...              0   \n",
       "2  ['http://i2.cdn.cnn.com/cnnnext/dam/assets/161...              0   \n",
       "3  ['http://i2.cdn.cnn.com/cnnnext/dam/assets/161...              1   \n",
       "4  ['http://i2.cdn.cnn.com/cnnnext/dam/assets/170...              0   \n",
       "\n",
       "                 published  related_links  \\\n",
       "0  2017-02-04 19:27:30.000              3   \n",
       "1  2017-02-02 04:31:14.000              2   \n",
       "2  2016-12-14 16:40:46.000              2   \n",
       "3  2016-12-15 14:31:34.000              1   \n",
       "4  2017-01-31 12:41:46.000              0   \n",
       "\n",
       "                                                text  \\\n",
       "0  The rapid halting of President Donald Trump's ...   \n",
       "1  The Republican-led Congress took its first ste...   \n",
       "2  Oklahoma Attorney General Scott Pruitt has led...   \n",
       "3  President-elect Donald Trump picked something ...   \n",
       "4  Amid controversy over the reshuffling of the N...   \n",
       "\n",
       "                                               title  \\\n",
       "0  Trump just got checked and balanced - CNNPolit...   \n",
       "1  GOP House votes to reject stream protection ru...   \n",
       "2  Who is Scott Pruitt, Trump's anti-EPA choice t...   \n",
       "3  Who is Wilbur Ross, Trump's pick for Commerce?...   \n",
       "4  Flynn takes a page from Colin Powell  - CNNPol...   \n",
       "\n",
       "                                                 url  \n",
       "0  http://www.cnn.com/2017/02/04/politics/donald-...  \n",
       "1  http://www.cnn.com/2017/02/01/politics/stream-...  \n",
       "2  http://www.cnn.com/2016/12/14/politics/scott-p...  \n",
       "3  http://www.cnn.com/2016/12/15/politics/wilbur-...  \n",
       "4  http://www.cnn.com/2017/01/31/politics/flynn-c...  "
      ]
     },
     "execution_count": 6,
     "metadata": {},
     "output_type": "execute_result"
    }
   ],
   "source": [
    "ctd = pd.read_csv('../datasets/clean_true_data.csv',  encoding='iso-8859-1')\n",
    "print(ctd.shape)\n",
    "ctd.head()"
   ]
  },
  {
   "cell_type": "code",
   "execution_count": 16,
   "metadata": {
    "scrolled": true
   },
   "outputs": [
    {
     "name": "stderr",
     "output_type": "stream",
     "text": [
      "C:\\Users\\Ishan\\Anaconda3\\envs\\nltktb\\lib\\site-packages\\ipykernel_launcher.py:3: SettingWithCopyWarning: \n",
      "A value is trying to be set on a copy of a slice from a DataFrame.\n",
      "Try using .loc[row_indexer,col_indexer] = value instead\n",
      "\n",
      "See the caveats in the documentation: http://pandas.pydata.org/pandas-docs/stable/user_guide/indexing.html#returning-a-view-versus-a-copy\n",
      "  This is separate from the ipykernel package so we can avoid doing imports until\n"
     ]
    }
   ],
   "source": [
    "ctd = ctd[['text', 'title']]\n",
    "\n",
    "ctd['label'] = 1"
   ]
  },
  {
   "cell_type": "code",
   "execution_count": 7,
   "metadata": {
    "scrolled": true
   },
   "outputs": [
    {
     "name": "stdout",
     "output_type": "stream",
     "text": [
      "(6577, 9)\n"
     ]
    },
    {
     "data": {
      "text/html": [
       "<div>\n",
       "<style scoped>\n",
       "    .dataframe tbody tr th:only-of-type {\n",
       "        vertical-align: middle;\n",
       "    }\n",
       "\n",
       "    .dataframe tbody tr th {\n",
       "        vertical-align: top;\n",
       "    }\n",
       "\n",
       "    .dataframe thead th {\n",
       "        text-align: right;\n",
       "    }\n",
       "</style>\n",
       "<table border=\"1\" class=\"dataframe\">\n",
       "  <thead>\n",
       "    <tr style=\"text-align: right;\">\n",
       "      <th></th>\n",
       "      <th>title</th>\n",
       "      <th>authors</th>\n",
       "      <th>text</th>\n",
       "      <th>url</th>\n",
       "      <th>imgs</th>\n",
       "      <th>published</th>\n",
       "      <th>related_links</th>\n",
       "      <th>linked_tweets</th>\n",
       "      <th>crawled_date</th>\n",
       "    </tr>\n",
       "  </thead>\n",
       "  <tbody>\n",
       "    <tr>\n",
       "      <th>0</th>\n",
       "      <td>Muslims BUSTED: They Stole Millions In Govt B...</td>\n",
       "      <td>Barracuda Brigade</td>\n",
       "      <td>Print They should pay all the back all the mon...</td>\n",
       "      <td>100percentfedup.com</td>\n",
       "      <td>http://bb4sp.com/wp-content/uploads/2016/10/Fu...</td>\n",
       "      <td>2016-10-26T21:41:00.000+03:00</td>\n",
       "      <td>1</td>\n",
       "      <td>0</td>\n",
       "      <td>2016-10-27T01:49:27.168+03:00</td>\n",
       "    </tr>\n",
       "    <tr>\n",
       "      <th>1</th>\n",
       "      <td>Re: Why Did Attorney General Loretta Lynch Ple...</td>\n",
       "      <td>reasoning with facts</td>\n",
       "      <td>Why Did Attorney General Loretta Lynch Plead T...</td>\n",
       "      <td>100percentfedup.com</td>\n",
       "      <td>http://bb4sp.com/wp-content/uploads/2016/10/Fu...</td>\n",
       "      <td>2016-10-29T08:47:11.259+03:00</td>\n",
       "      <td>1</td>\n",
       "      <td>0</td>\n",
       "      <td>2016-10-29T08:47:11.259+03:00</td>\n",
       "    </tr>\n",
       "    <tr>\n",
       "      <th>2</th>\n",
       "      <td>BREAKING: Weiner Cooperating With FBI On Hilla...</td>\n",
       "      <td>Barracuda Brigade</td>\n",
       "      <td>Red State : \\nFox News Sunday reported this mo...</td>\n",
       "      <td>100percentfedup.com</td>\n",
       "      <td>http://bb4sp.com/wp-content/uploads/2016/10/Fu...</td>\n",
       "      <td>2016-10-31T01:41:49.479+02:00</td>\n",
       "      <td>1</td>\n",
       "      <td>0</td>\n",
       "      <td>2016-10-31T01:41:49.479+02:00</td>\n",
       "    </tr>\n",
       "    <tr>\n",
       "      <th>3</th>\n",
       "      <td>PIN DROP SPEECH BY FATHER OF DAUGHTER Kidnappe...</td>\n",
       "      <td>Fed Up</td>\n",
       "      <td>Email Kayla Mueller was a prisoner and torture...</td>\n",
       "      <td>100percentfedup.com</td>\n",
       "      <td>http://100percentfedup.com/wp-content/uploads/...</td>\n",
       "      <td>2016-11-01T05:22:00.000+02:00</td>\n",
       "      <td>0</td>\n",
       "      <td>0</td>\n",
       "      <td>2016-11-01T15:46:26.304+02:00</td>\n",
       "    </tr>\n",
       "    <tr>\n",
       "      <th>4</th>\n",
       "      <td>FANTASTIC! TRUMP'S 7 POINT PLAN To Reform Heal...</td>\n",
       "      <td>Fed Up</td>\n",
       "      <td>Email HEALTHCARE REFORM TO MAKE AMERICA GREAT ...</td>\n",
       "      <td>100percentfedup.com</td>\n",
       "      <td>http://100percentfedup.com/wp-content/uploads/...</td>\n",
       "      <td>2016-11-01T21:56:00.000+02:00</td>\n",
       "      <td>0</td>\n",
       "      <td>0</td>\n",
       "      <td>2016-11-01T23:59:42.266+02:00</td>\n",
       "    </tr>\n",
       "  </tbody>\n",
       "</table>\n",
       "</div>"
      ],
      "text/plain": [
       "                                               title               authors  \\\n",
       "0  Muslims BUSTED: They Stole Millions In Govt B...     Barracuda Brigade   \n",
       "1  Re: Why Did Attorney General Loretta Lynch Ple...  reasoning with facts   \n",
       "2  BREAKING: Weiner Cooperating With FBI On Hilla...     Barracuda Brigade   \n",
       "3  PIN DROP SPEECH BY FATHER OF DAUGHTER Kidnappe...                Fed Up   \n",
       "4  FANTASTIC! TRUMP'S 7 POINT PLAN To Reform Heal...                Fed Up   \n",
       "\n",
       "                                                text                  url  \\\n",
       "0  Print They should pay all the back all the mon...  100percentfedup.com   \n",
       "1  Why Did Attorney General Loretta Lynch Plead T...  100percentfedup.com   \n",
       "2  Red State : \\nFox News Sunday reported this mo...  100percentfedup.com   \n",
       "3  Email Kayla Mueller was a prisoner and torture...  100percentfedup.com   \n",
       "4  Email HEALTHCARE REFORM TO MAKE AMERICA GREAT ...  100percentfedup.com   \n",
       "\n",
       "                                                imgs  \\\n",
       "0  http://bb4sp.com/wp-content/uploads/2016/10/Fu...   \n",
       "1  http://bb4sp.com/wp-content/uploads/2016/10/Fu...   \n",
       "2  http://bb4sp.com/wp-content/uploads/2016/10/Fu...   \n",
       "3  http://100percentfedup.com/wp-content/uploads/...   \n",
       "4  http://100percentfedup.com/wp-content/uploads/...   \n",
       "\n",
       "                       published  related_links  linked_tweets  \\\n",
       "0  2016-10-26T21:41:00.000+03:00              1              0   \n",
       "1  2016-10-29T08:47:11.259+03:00              1              0   \n",
       "2  2016-10-31T01:41:49.479+02:00              1              0   \n",
       "3  2016-11-01T05:22:00.000+02:00              0              0   \n",
       "4  2016-11-01T21:56:00.000+02:00              0              0   \n",
       "\n",
       "                    crawled_date  \n",
       "0  2016-10-27T01:49:27.168+03:00  \n",
       "1  2016-10-29T08:47:11.259+03:00  \n",
       "2  2016-10-31T01:41:49.479+02:00  \n",
       "3  2016-11-01T15:46:26.304+02:00  \n",
       "4  2016-11-01T23:59:42.266+02:00  "
      ]
     },
     "execution_count": 7,
     "metadata": {},
     "output_type": "execute_result"
    }
   ],
   "source": [
    "fnc = pd.read_csv('../datasets/fake_news_clean.csv',  encoding='iso-8859-1')\n",
    "print(fnc.shape)\n",
    "fnc.head()"
   ]
  },
  {
   "cell_type": "code",
   "execution_count": 8,
   "metadata": {
    "scrolled": true
   },
   "outputs": [
    {
     "name": "stdout",
     "output_type": "stream",
     "text": [
      "(12999, 20)\n"
     ]
    },
    {
     "data": {
      "text/html": [
       "<div>\n",
       "<style scoped>\n",
       "    .dataframe tbody tr th:only-of-type {\n",
       "        vertical-align: middle;\n",
       "    }\n",
       "\n",
       "    .dataframe tbody tr th {\n",
       "        vertical-align: top;\n",
       "    }\n",
       "\n",
       "    .dataframe thead th {\n",
       "        text-align: right;\n",
       "    }\n",
       "</style>\n",
       "<table border=\"1\" class=\"dataframe\">\n",
       "  <thead>\n",
       "    <tr style=\"text-align: right;\">\n",
       "      <th></th>\n",
       "      <th>uuid</th>\n",
       "      <th>ord_in_thread</th>\n",
       "      <th>author</th>\n",
       "      <th>published</th>\n",
       "      <th>title</th>\n",
       "      <th>text</th>\n",
       "      <th>language</th>\n",
       "      <th>crawled</th>\n",
       "      <th>site_url</th>\n",
       "      <th>country</th>\n",
       "      <th>domain_rank</th>\n",
       "      <th>thread_title</th>\n",
       "      <th>spam_score</th>\n",
       "      <th>main_img_url</th>\n",
       "      <th>replies_count</th>\n",
       "      <th>participants_count</th>\n",
       "      <th>likes</th>\n",
       "      <th>comments</th>\n",
       "      <th>shares</th>\n",
       "      <th>type</th>\n",
       "    </tr>\n",
       "  </thead>\n",
       "  <tbody>\n",
       "    <tr>\n",
       "      <th>0</th>\n",
       "      <td>6a175f46bcd24d39b3e962ad0f29936721db70db</td>\n",
       "      <td>0</td>\n",
       "      <td>Barracuda Brigade</td>\n",
       "      <td>2016-10-26T21:41:00.000+03:00</td>\n",
       "      <td>Muslims BUSTED: They Stole Millions In Gov’t B...</td>\n",
       "      <td>Print They should pay all the back all the mon...</td>\n",
       "      <td>english</td>\n",
       "      <td>2016-10-27T01:49:27.168+03:00</td>\n",
       "      <td>100percentfedup.com</td>\n",
       "      <td>US</td>\n",
       "      <td>25689.0</td>\n",
       "      <td>Muslims BUSTED: They Stole Millions In Gov’t B...</td>\n",
       "      <td>0.000</td>\n",
       "      <td>http://bb4sp.com/wp-content/uploads/2016/10/Fu...</td>\n",
       "      <td>0</td>\n",
       "      <td>1</td>\n",
       "      <td>0</td>\n",
       "      <td>0</td>\n",
       "      <td>0</td>\n",
       "      <td>bias</td>\n",
       "    </tr>\n",
       "    <tr>\n",
       "      <th>1</th>\n",
       "      <td>2bdc29d12605ef9cf3f09f9875040a7113be5d5b</td>\n",
       "      <td>0</td>\n",
       "      <td>reasoning with facts</td>\n",
       "      <td>2016-10-29T08:47:11.259+03:00</td>\n",
       "      <td>Re: Why Did Attorney General Loretta Lynch Ple...</td>\n",
       "      <td>Why Did Attorney General Loretta Lynch Plead T...</td>\n",
       "      <td>english</td>\n",
       "      <td>2016-10-29T08:47:11.259+03:00</td>\n",
       "      <td>100percentfedup.com</td>\n",
       "      <td>US</td>\n",
       "      <td>25689.0</td>\n",
       "      <td>Re: Why Did Attorney General Loretta Lynch Ple...</td>\n",
       "      <td>0.000</td>\n",
       "      <td>http://bb4sp.com/wp-content/uploads/2016/10/Fu...</td>\n",
       "      <td>0</td>\n",
       "      <td>1</td>\n",
       "      <td>0</td>\n",
       "      <td>0</td>\n",
       "      <td>0</td>\n",
       "      <td>bias</td>\n",
       "    </tr>\n",
       "    <tr>\n",
       "      <th>2</th>\n",
       "      <td>c70e149fdd53de5e61c29281100b9de0ed268bc3</td>\n",
       "      <td>0</td>\n",
       "      <td>Barracuda Brigade</td>\n",
       "      <td>2016-10-31T01:41:49.479+02:00</td>\n",
       "      <td>BREAKING: Weiner Cooperating With FBI On Hilla...</td>\n",
       "      <td>Red State : \\nFox News Sunday reported this mo...</td>\n",
       "      <td>english</td>\n",
       "      <td>2016-10-31T01:41:49.479+02:00</td>\n",
       "      <td>100percentfedup.com</td>\n",
       "      <td>US</td>\n",
       "      <td>25689.0</td>\n",
       "      <td>BREAKING: Weiner Cooperating With FBI On Hilla...</td>\n",
       "      <td>0.000</td>\n",
       "      <td>http://bb4sp.com/wp-content/uploads/2016/10/Fu...</td>\n",
       "      <td>0</td>\n",
       "      <td>1</td>\n",
       "      <td>0</td>\n",
       "      <td>0</td>\n",
       "      <td>0</td>\n",
       "      <td>bias</td>\n",
       "    </tr>\n",
       "    <tr>\n",
       "      <th>3</th>\n",
       "      <td>7cf7c15731ac2a116dd7f629bd57ea468ed70284</td>\n",
       "      <td>0</td>\n",
       "      <td>Fed Up</td>\n",
       "      <td>2016-11-01T05:22:00.000+02:00</td>\n",
       "      <td>PIN DROP SPEECH BY FATHER OF DAUGHTER Kidnappe...</td>\n",
       "      <td>Email Kayla Mueller was a prisoner and torture...</td>\n",
       "      <td>english</td>\n",
       "      <td>2016-11-01T15:46:26.304+02:00</td>\n",
       "      <td>100percentfedup.com</td>\n",
       "      <td>US</td>\n",
       "      <td>25689.0</td>\n",
       "      <td>PIN DROP SPEECH BY FATHER OF DAUGHTER Kidnappe...</td>\n",
       "      <td>0.068</td>\n",
       "      <td>http://100percentfedup.com/wp-content/uploads/...</td>\n",
       "      <td>0</td>\n",
       "      <td>0</td>\n",
       "      <td>0</td>\n",
       "      <td>0</td>\n",
       "      <td>0</td>\n",
       "      <td>bias</td>\n",
       "    </tr>\n",
       "    <tr>\n",
       "      <th>4</th>\n",
       "      <td>0206b54719c7e241ffe0ad4315b808290dbe6c0f</td>\n",
       "      <td>0</td>\n",
       "      <td>Fed Up</td>\n",
       "      <td>2016-11-01T21:56:00.000+02:00</td>\n",
       "      <td>FANTASTIC! TRUMP'S 7 POINT PLAN To Reform Heal...</td>\n",
       "      <td>Email HEALTHCARE REFORM TO MAKE AMERICA GREAT ...</td>\n",
       "      <td>english</td>\n",
       "      <td>2016-11-01T23:59:42.266+02:00</td>\n",
       "      <td>100percentfedup.com</td>\n",
       "      <td>US</td>\n",
       "      <td>25689.0</td>\n",
       "      <td>FANTASTIC! TRUMP'S 7 POINT PLAN To Reform Heal...</td>\n",
       "      <td>0.865</td>\n",
       "      <td>http://100percentfedup.com/wp-content/uploads/...</td>\n",
       "      <td>0</td>\n",
       "      <td>0</td>\n",
       "      <td>0</td>\n",
       "      <td>0</td>\n",
       "      <td>0</td>\n",
       "      <td>bias</td>\n",
       "    </tr>\n",
       "  </tbody>\n",
       "</table>\n",
       "</div>"
      ],
      "text/plain": [
       "                                       uuid  ord_in_thread  \\\n",
       "0  6a175f46bcd24d39b3e962ad0f29936721db70db              0   \n",
       "1  2bdc29d12605ef9cf3f09f9875040a7113be5d5b              0   \n",
       "2  c70e149fdd53de5e61c29281100b9de0ed268bc3              0   \n",
       "3  7cf7c15731ac2a116dd7f629bd57ea468ed70284              0   \n",
       "4  0206b54719c7e241ffe0ad4315b808290dbe6c0f              0   \n",
       "\n",
       "                 author                      published  \\\n",
       "0     Barracuda Brigade  2016-10-26T21:41:00.000+03:00   \n",
       "1  reasoning with facts  2016-10-29T08:47:11.259+03:00   \n",
       "2     Barracuda Brigade  2016-10-31T01:41:49.479+02:00   \n",
       "3                Fed Up  2016-11-01T05:22:00.000+02:00   \n",
       "4                Fed Up  2016-11-01T21:56:00.000+02:00   \n",
       "\n",
       "                                               title  \\\n",
       "0  Muslims BUSTED: They Stole Millions In Gov’t B...   \n",
       "1  Re: Why Did Attorney General Loretta Lynch Ple...   \n",
       "2  BREAKING: Weiner Cooperating With FBI On Hilla...   \n",
       "3  PIN DROP SPEECH BY FATHER OF DAUGHTER Kidnappe...   \n",
       "4  FANTASTIC! TRUMP'S 7 POINT PLAN To Reform Heal...   \n",
       "\n",
       "                                                text language  \\\n",
       "0  Print They should pay all the back all the mon...  english   \n",
       "1  Why Did Attorney General Loretta Lynch Plead T...  english   \n",
       "2  Red State : \\nFox News Sunday reported this mo...  english   \n",
       "3  Email Kayla Mueller was a prisoner and torture...  english   \n",
       "4  Email HEALTHCARE REFORM TO MAKE AMERICA GREAT ...  english   \n",
       "\n",
       "                         crawled             site_url country  domain_rank  \\\n",
       "0  2016-10-27T01:49:27.168+03:00  100percentfedup.com      US      25689.0   \n",
       "1  2016-10-29T08:47:11.259+03:00  100percentfedup.com      US      25689.0   \n",
       "2  2016-10-31T01:41:49.479+02:00  100percentfedup.com      US      25689.0   \n",
       "3  2016-11-01T15:46:26.304+02:00  100percentfedup.com      US      25689.0   \n",
       "4  2016-11-01T23:59:42.266+02:00  100percentfedup.com      US      25689.0   \n",
       "\n",
       "                                        thread_title  spam_score  \\\n",
       "0  Muslims BUSTED: They Stole Millions In Gov’t B...       0.000   \n",
       "1  Re: Why Did Attorney General Loretta Lynch Ple...       0.000   \n",
       "2  BREAKING: Weiner Cooperating With FBI On Hilla...       0.000   \n",
       "3  PIN DROP SPEECH BY FATHER OF DAUGHTER Kidnappe...       0.068   \n",
       "4  FANTASTIC! TRUMP'S 7 POINT PLAN To Reform Heal...       0.865   \n",
       "\n",
       "                                        main_img_url  replies_count  \\\n",
       "0  http://bb4sp.com/wp-content/uploads/2016/10/Fu...              0   \n",
       "1  http://bb4sp.com/wp-content/uploads/2016/10/Fu...              0   \n",
       "2  http://bb4sp.com/wp-content/uploads/2016/10/Fu...              0   \n",
       "3  http://100percentfedup.com/wp-content/uploads/...              0   \n",
       "4  http://100percentfedup.com/wp-content/uploads/...              0   \n",
       "\n",
       "   participants_count  likes  comments  shares  type  \n",
       "0                   1      0         0       0  bias  \n",
       "1                   1      0         0       0  bias  \n",
       "2                   1      0         0       0  bias  \n",
       "3                   0      0         0       0  bias  \n",
       "4                   0      0         0       0  bias  "
      ]
     },
     "execution_count": 8,
     "metadata": {},
     "output_type": "execute_result"
    }
   ],
   "source": [
    "fake = pd.read_csv('../datasets/fake.csv')\n",
    "print(fake.shape)\n",
    "fake.head()"
   ]
  },
  {
   "cell_type": "code",
   "execution_count": 11,
   "metadata": {},
   "outputs": [
    {
     "data": {
      "text/plain": [
       "bs            11492\n",
       "bias            443\n",
       "conspiracy      430\n",
       "hate            246\n",
       "satire          146\n",
       "state           121\n",
       "junksci         102\n",
       "fake             19\n",
       "Name: type, dtype: int64"
      ]
     },
     "execution_count": 11,
     "metadata": {},
     "output_type": "execute_result"
    }
   ],
   "source": [
    "fake['type'].value_counts()"
   ]
  },
  {
   "cell_type": "code",
   "execution_count": 18,
   "metadata": {},
   "outputs": [],
   "source": [
    "fake = fake[['text', 'title']]\n",
    "\n",
    "fake['label'] = -1"
   ]
  },
  {
   "cell_type": "code",
   "execution_count": 25,
   "metadata": {},
   "outputs": [],
   "source": [
    "df_list = [df, cfd, ctd, fake]"
   ]
  },
  {
   "cell_type": "code",
   "execution_count": 26,
   "metadata": {},
   "outputs": [],
   "source": [
    "df_full = pd.concat(df_list)"
   ]
  },
  {
   "cell_type": "code",
   "execution_count": 28,
   "metadata": {},
   "outputs": [],
   "source": [
    "df_full.index = range(len(df_full.index))"
   ]
  },
  {
   "cell_type": "code",
   "execution_count": 29,
   "metadata": {
    "scrolled": true
   },
   "outputs": [
    {
     "data": {
      "text/html": [
       "<div>\n",
       "<style scoped>\n",
       "    .dataframe tbody tr th:only-of-type {\n",
       "        vertical-align: middle;\n",
       "    }\n",
       "\n",
       "    .dataframe tbody tr th {\n",
       "        vertical-align: top;\n",
       "    }\n",
       "\n",
       "    .dataframe thead th {\n",
       "        text-align: right;\n",
       "    }\n",
       "</style>\n",
       "<table border=\"1\" class=\"dataframe\">\n",
       "  <thead>\n",
       "    <tr style=\"text-align: right;\">\n",
       "      <th></th>\n",
       "      <th>text</th>\n",
       "      <th>title</th>\n",
       "      <th>label</th>\n",
       "    </tr>\n",
       "  </thead>\n",
       "  <tbody>\n",
       "    <tr>\n",
       "      <th>8226</th>\n",
       "      <td>The man who spoke softly but carried a big sti...</td>\n",
       "      <td>The man who spoke softly but carried a big stick</td>\n",
       "      <td>-1</td>\n",
       "    </tr>\n",
       "    <tr>\n",
       "      <th>46508</th>\n",
       "      <td>posted by Eddie Argentinian and Brazilian Doct...</td>\n",
       "      <td>It’s Not Zika – Substantial Evidence Suggests ...</td>\n",
       "      <td>-1</td>\n",
       "    </tr>\n",
       "    <tr>\n",
       "      <th>8994</th>\n",
       "      <td>The #1 Reason Why People Are Voting for Trump ...</td>\n",
       "      <td>The #1 Reason Why People Are Voting for Trump</td>\n",
       "      <td>-1</td>\n",
       "    </tr>\n",
       "    <tr>\n",
       "      <th>11627</th>\n",
       "      <td>Posted on October 28, 2016 by Jay Syrmopoulos ...</td>\n",
       "      <td>NOT GUILTY: Oregon Standoff Leaders Acquitted ...</td>\n",
       "      <td>-1</td>\n",
       "    </tr>\n",
       "    <tr>\n",
       "      <th>26328</th>\n",
       "      <td>posted by Eddie Two people who were connected ...</td>\n",
       "      <td>Two People Connected To Flint Water Investigat...</td>\n",
       "      <td>-1</td>\n",
       "    </tr>\n",
       "    <tr>\n",
       "      <th>31417</th>\n",
       "      <td>Last updated at 22:31 GMT A ship abandoned by...</td>\n",
       "      <td>Abandoned migrant ship Ezadeen reaches Italy</td>\n",
       "      <td>1</td>\n",
       "    </tr>\n",
       "    <tr>\n",
       "      <th>39923</th>\n",
       "      <td>November 11, 2016 Nusra On The Run - Trump Ind...</td>\n",
       "      <td>Nusra On The Run - Trump Induces First Major P...</td>\n",
       "      <td>-1</td>\n",
       "    </tr>\n",
       "    <tr>\n",
       "      <th>20649</th>\n",
       "      <td>Share on Facebook Share on Twitter We are havi...</td>\n",
       "      <td>New Moon In Scorpio: Making A Calculated Effort</td>\n",
       "      <td>-1</td>\n",
       "    </tr>\n",
       "    <tr>\n",
       "      <th>6362</th>\n",
       "      <td>Last updated at 09:10 BST US intelligence age...</td>\n",
       "      <td>Victims of alleged Syrian chemical attack 'fro...</td>\n",
       "      <td>1</td>\n",
       "    </tr>\n",
       "    <tr>\n",
       "      <th>14472</th>\n",
       "      <td>By Hrafnkell Haraldsson on Thu, Oct 27th, 2016...</td>\n",
       "      <td>Stung By Clinton Allegations, Trump Claims He ...</td>\n",
       "      <td>-1</td>\n",
       "    </tr>\n",
       "  </tbody>\n",
       "</table>\n",
       "</div>"
      ],
      "text/plain": [
       "                                                    text  \\\n",
       "8226   The man who spoke softly but carried a big sti...   \n",
       "46508  posted by Eddie Argentinian and Brazilian Doct...   \n",
       "8994   The #1 Reason Why People Are Voting for Trump ...   \n",
       "11627  Posted on October 28, 2016 by Jay Syrmopoulos ...   \n",
       "26328  posted by Eddie Two people who were connected ...   \n",
       "31417   Last updated at 22:31 GMT A ship abandoned by...   \n",
       "39923  November 11, 2016 Nusra On The Run - Trump Ind...   \n",
       "20649  Share on Facebook Share on Twitter We are havi...   \n",
       "6362    Last updated at 09:10 BST US intelligence age...   \n",
       "14472  By Hrafnkell Haraldsson on Thu, Oct 27th, 2016...   \n",
       "\n",
       "                                                   title  label  \n",
       "8226    The man who spoke softly but carried a big stick     -1  \n",
       "46508  It’s Not Zika – Substantial Evidence Suggests ...     -1  \n",
       "8994       The #1 Reason Why People Are Voting for Trump     -1  \n",
       "11627  NOT GUILTY: Oregon Standoff Leaders Acquitted ...     -1  \n",
       "26328  Two People Connected To Flint Water Investigat...     -1  \n",
       "31417       Abandoned migrant ship Ezadeen reaches Italy      1  \n",
       "39923  Nusra On The Run - Trump Induces First Major P...     -1  \n",
       "20649    New Moon In Scorpio: Making A Calculated Effort     -1  \n",
       "6362   Victims of alleged Syrian chemical attack 'fro...      1  \n",
       "14472  Stung By Clinton Allegations, Trump Claims He ...     -1  "
      ]
     },
     "execution_count": 29,
     "metadata": {},
     "output_type": "execute_result"
    }
   ],
   "source": [
    "df_full.sample(10)"
   ]
  },
  {
   "cell_type": "code",
   "execution_count": 96,
   "metadata": {
    "scrolled": true
   },
   "outputs": [
    {
     "data": {
      "text/plain": [
       "1    0.703406\n",
       "0    0.296594\n",
       "Name: label, dtype: float64"
      ]
     },
     "execution_count": 96,
     "metadata": {},
     "output_type": "execute_result"
    }
   ],
   "source": [
    "df_full['label'].value_counts(normalize = True)"
   ]
  },
  {
   "cell_type": "code",
   "execution_count": 33,
   "metadata": {},
   "outputs": [
    {
     "data": {
      "text/plain": [
       "(46720, 3)"
      ]
     },
     "execution_count": 33,
     "metadata": {},
     "output_type": "execute_result"
    }
   ],
   "source": [
    "df_full.shape"
   ]
  },
  {
   "cell_type": "code",
   "execution_count": 35,
   "metadata": {},
   "outputs": [],
   "source": [
    "df_full.drop_duplicates(subset='title', keep='first', inplace = True)"
   ]
  },
  {
   "cell_type": "code",
   "execution_count": 36,
   "metadata": {},
   "outputs": [],
   "source": [
    "df_full.to_csv('../fake_finder_df_full.csv')"
   ]
  },
  {
   "cell_type": "code",
   "execution_count": 40,
   "metadata": {
    "scrolled": true
   },
   "outputs": [
    {
     "data": {
      "text/plain": [
       "text     0.002235\n",
       "title    0.000041\n",
       "label    0.000000\n",
       "dtype: float64"
      ]
     },
     "execution_count": 40,
     "metadata": {},
     "output_type": "execute_result"
    }
   ],
   "source": [
    "df_full.isna().mean()"
   ]
  },
  {
   "cell_type": "code",
   "execution_count": 41,
   "metadata": {},
   "outputs": [],
   "source": [
    "df_full.dropna(inplace = True)"
   ]
  },
  {
   "cell_type": "code",
   "execution_count": 42,
   "metadata": {},
   "outputs": [],
   "source": [
    "df_full.to_csv('../fake_finder_df_full.csv')"
   ]
  },
  {
   "cell_type": "code",
   "execution_count": 46,
   "metadata": {},
   "outputs": [
    {
     "name": "stderr",
     "output_type": "stream",
     "text": [
      "'c' argument looks like a single numeric RGB or RGBA sequence, which should be avoided as value-mapping will have precedence in case its length matches with 'x' & 'y'.  Please use a 2-D array with a single row if you really want to specify the same RGB or RGBA value for all points.\n"
     ]
    },
    {
     "data": {
      "text/plain": [
       "<matplotlib.axes._subplots.AxesSubplot at 0x1a6e87e6c18>"
      ]
     },
     "execution_count": 46,
     "metadata": {},
     "output_type": "execute_result"
    },
    {
     "data": {
      "image/png": "[encoded data removed]",
      "text/plain": [
       "<Figure size 432x288 with 1 Axes>"
      ]
     },
     "metadata": {
      "needs_background": "light"
     },
     "output_type": "display_data"
    }
   ],
   "source": [
    "def tokenize(x):\n",
    "    tokenizer = RegexpTokenizer(r'\\w+')\n",
    "    return tokenizer.tokenize(x)\n",
    "\n",
    "df_full['tokens'] = df_full['text'].map(tokenize)\n",
    "\n",
    "text_length = []\n",
    "for i in df_full.index:\n",
    "    length = len(df_full['tokens'][i])\n",
    "    text_length.append(length)\n",
    "df_full['text_length'] = text_length\n",
    "\n",
    "sns.boxenplot(x = df_full['text_length'])"
   ]
  },
  {
   "cell_type": "code",
   "execution_count": 48,
   "metadata": {},
   "outputs": [],
   "source": [
    "def lemmatize(x):\n",
    "    lemmatizer = WordNetLemmatizer()\n",
    "    return ' '.join([lemmatizer.lemmatize(word) for word in x])\n",
    "\n",
    "df_full['lemma'] = df_full['tokens'].map(lemmatize)\n",
    "\n",
    "def text_joiner(x):\n",
    "    return ' '.join([word for word in x])\n",
    "\n",
    "df_full['clean_text'] = df_full['tokens'].map(lemmatize)"
   ]
  },
  {
   "cell_type": "code",
   "execution_count": 49,
   "metadata": {},
   "outputs": [
    {
     "data": {
      "text/html": [
       "<div>\n",
       "<style scoped>\n",
       "    .dataframe tbody tr th:only-of-type {\n",
       "        vertical-align: middle;\n",
       "    }\n",
       "\n",
       "    .dataframe tbody tr th {\n",
       "        vertical-align: top;\n",
       "    }\n",
       "\n",
       "    .dataframe thead th {\n",
       "        text-align: right;\n",
       "    }\n",
       "</style>\n",
       "<table border=\"1\" class=\"dataframe\">\n",
       "  <thead>\n",
       "    <tr style=\"text-align: right;\">\n",
       "      <th></th>\n",
       "      <th>clean_text</th>\n",
       "      <th>label</th>\n",
       "    </tr>\n",
       "  </thead>\n",
       "  <tbody>\n",
       "    <tr>\n",
       "      <th>0</th>\n",
       "      <td>U S Secretary of State John F Kerry said Monda...</td>\n",
       "      <td>1</td>\n",
       "    </tr>\n",
       "    <tr>\n",
       "      <th>1</th>\n",
       "      <td>It s primary day in New York and front runner ...</td>\n",
       "      <td>1</td>\n",
       "    </tr>\n",
       "    <tr>\n",
       "      <th>2</th>\n",
       "      <td>A Czech stockbroker who saved more than 650 Je...</td>\n",
       "      <td>1</td>\n",
       "    </tr>\n",
       "    <tr>\n",
       "      <th>3</th>\n",
       "      <td>Hillary Clinton and Donald Trump made some ina...</td>\n",
       "      <td>1</td>\n",
       "    </tr>\n",
       "    <tr>\n",
       "      <th>4</th>\n",
       "      <td>Iranian negotiator reportedly have made a last...</td>\n",
       "      <td>1</td>\n",
       "    </tr>\n",
       "    <tr>\n",
       "      <th>...</th>\n",
       "      <td>...</td>\n",
       "      <td>...</td>\n",
       "    </tr>\n",
       "    <tr>\n",
       "      <th>46623</th>\n",
       "      <td>Don t Diss The Dark Ages Oct 26 2016 2 50 PM 0...</td>\n",
       "      <td>-1</td>\n",
       "    </tr>\n",
       "    <tr>\n",
       "      <th>46629</th>\n",
       "      <td>Oct 26 2016 4 26 PM 0 SHARES There wa a sudden...</td>\n",
       "      <td>-1</td>\n",
       "    </tr>\n",
       "    <tr>\n",
       "      <th>46630</th>\n",
       "      <td>The following video is a must watch particular...</td>\n",
       "      <td>-1</td>\n",
       "    </tr>\n",
       "    <tr>\n",
       "      <th>46632</th>\n",
       "      <td>YHC FTSE Oct 26 2016 5 14 PM Would have been m...</td>\n",
       "      <td>-1</td>\n",
       "    </tr>\n",
       "    <tr>\n",
       "      <th>46633</th>\n",
       "      <td>Oct 26 2016 5 20 PM 0 Submitted by Joseph Jank...</td>\n",
       "      <td>-1</td>\n",
       "    </tr>\n",
       "  </tbody>\n",
       "</table>\n",
       "<p>24107 rows × 2 columns</p>\n",
       "</div>"
      ],
      "text/plain": [
       "                                              clean_text  label\n",
       "0      U S Secretary of State John F Kerry said Monda...      1\n",
       "1      It s primary day in New York and front runner ...      1\n",
       "2      A Czech stockbroker who saved more than 650 Je...      1\n",
       "3      Hillary Clinton and Donald Trump made some ina...      1\n",
       "4      Iranian negotiator reportedly have made a last...      1\n",
       "...                                                  ...    ...\n",
       "46623  Don t Diss The Dark Ages Oct 26 2016 2 50 PM 0...     -1\n",
       "46629  Oct 26 2016 4 26 PM 0 SHARES There wa a sudden...     -1\n",
       "46630  The following video is a must watch particular...     -1\n",
       "46632  YHC FTSE Oct 26 2016 5 14 PM Would have been m...     -1\n",
       "46633  Oct 26 2016 5 20 PM 0 Submitted by Joseph Jank...     -1\n",
       "\n",
       "[24107 rows x 2 columns]"
      ]
     },
     "execution_count": 49,
     "metadata": {},
     "output_type": "execute_result"
    }
   ],
   "source": [
    "df_full[['clean_text', 'label']]"
   ]
  },
  {
   "cell_type": "code",
   "execution_count": 50,
   "metadata": {},
   "outputs": [],
   "source": [
    "df_full[['clean_text', 'label']].to_csv('../datasets/Fake_finder/clean_text.csv')"
   ]
  },
  {
   "cell_type": "code",
   "execution_count": 51,
   "metadata": {},
   "outputs": [],
   "source": [
    "dc_score = []\n",
    "for i in df_full.index:\n",
    "    score = textstat.dale_chall_readability_score(df_full['clean_text'][i])\n",
    "    dc_score.append(score)\n",
    "\n",
    "df_full['dc_score'] = dc_score\n",
    "\n",
    "subjectivity = []\n",
    "for i in df_full.index:\n",
    "    text = TextBlob(df_full['clean_text'][i])\n",
    "    sub = text.sentiment\n",
    "    subjectivity.append(sub[1])\n",
    "\n",
    "df_full['sub'] = subjectivity\n",
    "\n",
    "analyzer = SentimentIntensityAnalyzer()\n",
    "vs_list = []\n",
    "for i in df_full.index:\n",
    "    vs = analyzer.polarity_scores(df_full['clean_text'][i])\n",
    "    vs_list.append(vs['neu'])\n",
    "\n",
    "df_full['vs'] = vs_list"
   ]
  },
  {
   "cell_type": "code",
   "execution_count": 52,
   "metadata": {},
   "outputs": [
    {
     "data": {
      "text/html": [
       "<div>\n",
       "<style scoped>\n",
       "    .dataframe tbody tr th:only-of-type {\n",
       "        vertical-align: middle;\n",
       "    }\n",
       "\n",
       "    .dataframe tbody tr th {\n",
       "        vertical-align: top;\n",
       "    }\n",
       "\n",
       "    .dataframe thead th {\n",
       "        text-align: right;\n",
       "    }\n",
       "</style>\n",
       "<table border=\"1\" class=\"dataframe\">\n",
       "  <thead>\n",
       "    <tr style=\"text-align: right;\">\n",
       "      <th></th>\n",
       "      <th>text</th>\n",
       "      <th>title</th>\n",
       "      <th>label</th>\n",
       "      <th>dc_score</th>\n",
       "      <th>sub</th>\n",
       "      <th>tokens</th>\n",
       "      <th>text_length</th>\n",
       "      <th>lemma</th>\n",
       "      <th>clean_text</th>\n",
       "      <th>vs</th>\n",
       "    </tr>\n",
       "  </thead>\n",
       "  <tbody>\n",
       "    <tr>\n",
       "      <th>3190</th>\n",
       "      <td>President Donald Trump won't have to face vote...</td>\n",
       "      <td>Trump's policies to face early test at the bal...</td>\n",
       "      <td>1</td>\n",
       "      <td>38.71</td>\n",
       "      <td>0.434392</td>\n",
       "      <td>[President, Donald, Trump, won, t, have, to, f...</td>\n",
       "      <td>641</td>\n",
       "      <td>President Donald Trump won t have to face vote...</td>\n",
       "      <td>President Donald Trump won t have to face vote...</td>\n",
       "      <td>0.759</td>\n",
       "    </tr>\n",
       "    <tr>\n",
       "      <th>482</th>\n",
       "      <td>Republican presidential candidate Sen.Ted Cruz...</td>\n",
       "      <td>Cruz blasts Trump as phony conservative in fro...</td>\n",
       "      <td>1</td>\n",
       "      <td>29.91</td>\n",
       "      <td>0.526475</td>\n",
       "      <td>[Republican, presidential, candidate, Sen, Ted...</td>\n",
       "      <td>474</td>\n",
       "      <td>Republican presidential candidate Sen Ted Cruz...</td>\n",
       "      <td>Republican presidential candidate Sen Ted Cruz...</td>\n",
       "      <td>0.759</td>\n",
       "    </tr>\n",
       "    <tr>\n",
       "      <th>44297</th>\n",
       "      <td>Monday, 14 November 2016 Neo-Nazi Immigration ...</td>\n",
       "      <td>Dim Witted Australian Politicians trying to du...</td>\n",
       "      <td>-1</td>\n",
       "      <td>25.11</td>\n",
       "      <td>0.415476</td>\n",
       "      <td>[Monday, 14, November, 2016, Neo, Nazi, Immigr...</td>\n",
       "      <td>368</td>\n",
       "      <td>Monday 14 November 2016 Neo Nazi Immigration M...</td>\n",
       "      <td>Monday 14 November 2016 Neo Nazi Immigration M...</td>\n",
       "      <td>0.830</td>\n",
       "    </tr>\n",
       "    <tr>\n",
       "      <th>15157</th>\n",
       "      <td>Previous The Elite Have Hung Hillary Out to Dr...</td>\n",
       "      <td>The Elite Have Hung Hillary Out to Dry? This I...</td>\n",
       "      <td>-1</td>\n",
       "      <td>12.14</td>\n",
       "      <td>0.502706</td>\n",
       "      <td>[Previous, The, Elite, Have, Hung, Hillary, Ou...</td>\n",
       "      <td>117</td>\n",
       "      <td>Previous The Elite Have Hung Hillary Out to Dr...</td>\n",
       "      <td>Previous The Elite Have Hung Hillary Out to Dr...</td>\n",
       "      <td>0.811</td>\n",
       "    </tr>\n",
       "    <tr>\n",
       "      <th>19878</th>\n",
       "      <td>\\nDear ISIL; this message is for you. Game on....</td>\n",
       "      <td>DEAR ISIS: Colorado Coed Delivers Viral Video ...</td>\n",
       "      <td>-1</td>\n",
       "      <td>6.21</td>\n",
       "      <td>0.400000</td>\n",
       "      <td>[Dear, ISIL, this, message, is, for, you, Game...</td>\n",
       "      <td>20</td>\n",
       "      <td>Dear ISIL this message is for you Game on Post...</td>\n",
       "      <td>Dear ISIL this message is for you Game on Post...</td>\n",
       "      <td>0.880</td>\n",
       "    </tr>\n",
       "  </tbody>\n",
       "</table>\n",
       "</div>"
      ],
      "text/plain": [
       "                                                    text  \\\n",
       "3190   President Donald Trump won't have to face vote...   \n",
       "482    Republican presidential candidate Sen.Ted Cruz...   \n",
       "44297  Monday, 14 November 2016 Neo-Nazi Immigration ...   \n",
       "15157  Previous The Elite Have Hung Hillary Out to Dr...   \n",
       "19878  \\nDear ISIL; this message is for you. Game on....   \n",
       "\n",
       "                                                   title  label  dc_score  \\\n",
       "3190   Trump's policies to face early test at the bal...      1     38.71   \n",
       "482    Cruz blasts Trump as phony conservative in fro...      1     29.91   \n",
       "44297  Dim Witted Australian Politicians trying to du...     -1     25.11   \n",
       "15157  The Elite Have Hung Hillary Out to Dry? This I...     -1     12.14   \n",
       "19878  DEAR ISIS: Colorado Coed Delivers Viral Video ...     -1      6.21   \n",
       "\n",
       "            sub                                             tokens  \\\n",
       "3190   0.434392  [President, Donald, Trump, won, t, have, to, f...   \n",
       "482    0.526475  [Republican, presidential, candidate, Sen, Ted...   \n",
       "44297  0.415476  [Monday, 14, November, 2016, Neo, Nazi, Immigr...   \n",
       "15157  0.502706  [Previous, The, Elite, Have, Hung, Hillary, Ou...   \n",
       "19878  0.400000  [Dear, ISIL, this, message, is, for, you, Game...   \n",
       "\n",
       "       text_length                                              lemma  \\\n",
       "3190           641  President Donald Trump won t have to face vote...   \n",
       "482            474  Republican presidential candidate Sen Ted Cruz...   \n",
       "44297          368  Monday 14 November 2016 Neo Nazi Immigration M...   \n",
       "15157          117  Previous The Elite Have Hung Hillary Out to Dr...   \n",
       "19878           20  Dear ISIL this message is for you Game on Post...   \n",
       "\n",
       "                                              clean_text     vs  \n",
       "3190   President Donald Trump won t have to face vote...  0.759  \n",
       "482    Republican presidential candidate Sen Ted Cruz...  0.759  \n",
       "44297  Monday 14 November 2016 Neo Nazi Immigration M...  0.830  \n",
       "15157  Previous The Elite Have Hung Hillary Out to Dr...  0.811  \n",
       "19878  Dear ISIL this message is for you Game on Post...  0.880  "
      ]
     },
     "execution_count": 52,
     "metadata": {},
     "output_type": "execute_result"
    }
   ],
   "source": [
    "df_full.sample(5)"
   ]
  },
  {
   "cell_type": "code",
   "execution_count": 53,
   "metadata": {},
   "outputs": [],
   "source": [
    "df = df_full"
   ]
  },
  {
   "cell_type": "code",
   "execution_count": 54,
   "metadata": {},
   "outputs": [],
   "source": [
    "df['label'] = df['label'].map({1: 0, -1:1})"
   ]
  },
  {
   "cell_type": "code",
   "execution_count": 55,
   "metadata": {
    "scrolled": true
   },
   "outputs": [
    {
     "data": {
      "text/plain": [
       "1    0.703406\n",
       "0    0.296594\n",
       "Name: label, dtype: float64"
      ]
     },
     "execution_count": 55,
     "metadata": {},
     "output_type": "execute_result"
    }
   ],
   "source": [
    "df['label'].value_counts(normalize = True)"
   ]
  },
  {
   "cell_type": "code",
   "execution_count": 56,
   "metadata": {},
   "outputs": [],
   "source": [
    "tf = TfidfVectorizer(max_df=0.8, min_df = 3, stop_words = 'english', ngram_range=(1,2))"
   ]
  },
  {
   "cell_type": "code",
   "execution_count": 102,
   "metadata": {},
   "outputs": [],
   "source": [
    "X = tf.fit_transform(df['clean_text'])"
   ]
  },
  {
   "cell_type": "code",
   "execution_count": 98,
   "metadata": {},
   "outputs": [],
   "source": [
    "# X =  hstack((X,np.array(df['sub'])[:,None]))\n",
    "\n",
    "# X =  hstack((X,np.array(df['vs'])[:,None]))\n",
    "\n",
    "# X =  hstack((X,np.array(df['dc_score'])[:,None]))\n"
   ]
  },
  {
   "cell_type": "code",
   "execution_count": 103,
   "metadata": {},
   "outputs": [],
   "source": [
    "y = df['label']"
   ]
  },
  {
   "cell_type": "code",
   "execution_count": 104,
   "metadata": {},
   "outputs": [],
   "source": [
    "X_train, X_test, y_train, y_test = train_test_split(X, y,\n",
    "                                                    random_state=42, stratify = y)"
   ]
  },
  {
   "cell_type": "code",
   "execution_count": 105,
   "metadata": {},
   "outputs": [
    {
     "name": "stdout",
     "output_type": "stream",
     "text": [
      "0.8103429203539823\n",
      "0.783142525302804\n"
     ]
    }
   ],
   "source": [
    "nb = MultinomialNB()\n",
    "nb.fit(X_train, y_train)\n",
    "print(nb.score(X_train, y_train))\n",
    "print(nb.score(X_test, y_test))"
   ]
  },
  {
   "cell_type": "code",
   "execution_count": 66,
   "metadata": {
    "scrolled": true
   },
   "outputs": [
    {
     "data": {
      "text/plain": [
       "546199"
      ]
     },
     "execution_count": 66,
     "metadata": {},
     "output_type": "execute_result"
    }
   ],
   "source": [
    "len(nb.coef_[0])"
   ]
  },
  {
   "cell_type": "code",
   "execution_count": 71,
   "metadata": {
    "scrolled": true
   },
   "outputs": [
    {
     "data": {
      "text/plain": [
       "546199"
      ]
     },
     "execution_count": 71,
     "metadata": {},
     "output_type": "execute_result"
    }
   ],
   "source": [
    "len(tf.get_feature_names())"
   ]
  },
  {
   "cell_type": "code",
   "execution_count": 81,
   "metadata": {},
   "outputs": [],
   "source": [
    " top10 = np.argsort(nb.coef_[0])[-10:]"
   ]
  },
  {
   "cell_type": "code",
   "execution_count": 82,
   "metadata": {},
   "outputs": [
    {
     "data": {
      "text/plain": [
       "array([  1100, 485892, 485891, 177071,   1140, 220688, 207922,  88482,\n",
       "       510167, 487527], dtype=int64)"
      ]
     },
     "execution_count": 82,
     "metadata": {},
     "output_type": "execute_result"
    }
   ],
   "source": [
    "top10"
   ]
  },
  {
   "cell_type": "code",
   "execution_count": 97,
   "metadata": {},
   "outputs": [
    {
     "data": {
      "text/plain": [
       "'trump'"
      ]
     },
     "execution_count": 97,
     "metadata": {},
     "output_type": "execute_result"
    }
   ],
   "source": [
    "tf.get_feature_names()[487527]"
   ]
  },
  {
   "cell_type": "code",
   "execution_count": 107,
   "metadata": {},
   "outputs": [],
   "source": [
    "def show_most_informative_features(vectorizer, clf, n=20):\n",
    "    feature_names = vectorizer.get_feature_names()\n",
    "    coefs_with_fns = sorted(zip(clf.coef_[0], feature_names))\n",
    "    top = zip(coefs_with_fns[:n], coefs_with_fns[:-(n + 1):-1])\n",
    "    for (coef_1, fn_1), (coef_2, fn_2) in top:\n",
    "        print (\"\\t%.4f\\t%-15s\\t\\t%.4f\\t%-15s\" % (coef_1, fn_1, coef_2, fn_2))"
   ]
  },
  {
   "cell_type": "code",
   "execution_count": 110,
   "metadata": {},
   "outputs": [
    {
     "name": "stdout",
     "output_type": "stream",
     "text": [
      "\t-13.4831\t00 03          \t\t-7.7152\ttrump          \n",
      "\t-13.4831\t00 04          \t\t-7.8607\twa             \n",
      "\t-13.4831\t00 06          \t\t-7.9183\tclinton        \n",
      "\t-13.4831\t00 07          \t\t-8.1237\tha             \n",
      "\t-13.4831\t00 08          \t\t-8.2166\thillary        \n",
      "\t-13.4831\t00 12          \t\t-8.3166\t100 fed        \n",
      "\t-13.4831\t00 14          \t\t-8.3243\tfed            \n",
      "\t-13.4831\t00 16          \t\t-8.3303\ttrending       \n",
      "\t-13.4831\t00 18          \t\t-8.3306\ttrending 100   \n",
      "\t-13.4831\t00 19          \t\t-8.3708\t100            \n",
      "\t-13.4831\t00 20          \t\t-8.4102\tpeople         \n",
      "\t-13.4831\t00 21          \t\t-8.4470\tsaid           \n",
      "\t-13.4831\t00 23          \t\t-8.5403\t2016           \n",
      "\t-13.4831\t00 24          \t\t-8.5408\telection       \n",
      "\t-13.4831\t00 29          \t\t-8.5851\temail          \n"
     ]
    }
   ],
   "source": [
    "show_most_informative_features(tf, nb, 15)"
   ]
  },
  {
   "cell_type": "code",
   "execution_count": 111,
   "metadata": {},
   "outputs": [],
   "source": [
    "rf = RandomForestClassifier(n_estimators=10, max_features= None, n_jobs=-1, verbose= 2 )"
   ]
  },
  {
   "cell_type": "code",
   "execution_count": 112,
   "metadata": {},
   "outputs": [
    {
     "name": "stderr",
     "output_type": "stream",
     "text": [
      "[Parallel(n_jobs=-1)]: Using backend ThreadingBackend with 8 concurrent workers.\n"
     ]
    },
    {
     "name": "stdout",
     "output_type": "stream",
     "text": [
      "building tree 1 of 10\n",
      "building tree 2 of 10\n",
      "building tree 3 of 10\n",
      "building tree 4 of 10\n",
      "building tree 5 of 10\n",
      "building tree 6 of 10\n",
      "building tree 7 of 10\n",
      "building tree 8 of 10\n",
      "building tree 9 of 10\n",
      "building tree 10 of 10\n"
     ]
    },
    {
     "name": "stderr",
     "output_type": "stream",
     "text": [
      "[Parallel(n_jobs=-1)]: Done   7 out of  10 | elapsed:  1.6min remaining:   42.2s\n",
      "[Parallel(n_jobs=-1)]: Done  10 out of  10 | elapsed:  2.6min finished\n"
     ]
    },
    {
     "data": {
      "text/plain": [
       "RandomForestClassifier(bootstrap=True, class_weight=None, criterion='gini',\n",
       "                       max_depth=None, max_features=None, max_leaf_nodes=None,\n",
       "                       min_impurity_decrease=0.0, min_impurity_split=None,\n",
       "                       min_samples_leaf=1, min_samples_split=2,\n",
       "                       min_weight_fraction_leaf=0.0, n_estimators=10, n_jobs=-1,\n",
       "                       oob_score=False, random_state=None, verbose=2,\n",
       "                       warm_start=False)"
      ]
     },
     "execution_count": 112,
     "metadata": {},
     "output_type": "execute_result"
    }
   ],
   "source": [
    "rf.fit(X_train, y_train)"
   ]
  },
  {
   "cell_type": "code",
   "execution_count": 113,
   "metadata": {
    "scrolled": false
   },
   "outputs": [
    {
     "name": "stderr",
     "output_type": "stream",
     "text": [
      "[Parallel(n_jobs=8)]: Using backend ThreadingBackend with 8 concurrent workers.\n",
      "[Parallel(n_jobs=8)]: Done   7 out of  10 | elapsed:    0.4s remaining:    0.1s\n",
      "[Parallel(n_jobs=8)]: Done  10 out of  10 | elapsed:    0.5s finished\n"
     ]
    },
    {
     "name": "stdout",
     "output_type": "stream",
     "text": [
      "Training score is 0.9959070796460177\n"
     ]
    },
    {
     "name": "stderr",
     "output_type": "stream",
     "text": [
      "[Parallel(n_jobs=8)]: Using backend ThreadingBackend with 8 concurrent workers.\n"
     ]
    },
    {
     "name": "stdout",
     "output_type": "stream",
     "text": [
      "Test score is 0.9213539074166252\n"
     ]
    },
    {
     "name": "stderr",
     "output_type": "stream",
     "text": [
      "[Parallel(n_jobs=8)]: Done   7 out of  10 | elapsed:    0.1s remaining:    0.0s\n",
      "[Parallel(n_jobs=8)]: Done  10 out of  10 | elapsed:    0.1s finished\n"
     ]
    }
   ],
   "source": [
    "print(f'Training score is {rf.score(X_train, y_train)}')\n",
    "print(f'Test score is {rf.score(X_test, y_test)}')"
   ]
  },
  {
   "cell_type": "code",
   "execution_count": null,
   "metadata": {},
   "outputs": [
    {
     "name": "stdout",
     "output_type": "stream",
     "text": [
      "Fitting 5 folds for each of 16 candidates, totalling 80 fits\n"
     ]
    },
    {
     "name": "stderr",
     "output_type": "stream",
     "text": [
      "[Parallel(n_jobs=-1)]: Using backend LokyBackend with 8 concurrent workers.\n"
     ]
    }
   ],
   "source": [
    "rf = RandomForestClassifier()\n",
    "\n",
    "pgrid_rf = {\n",
    "    'n_estimators' : [10, 50],\n",
    "    'max_depth' : [4, 6, 8],\n",
    "    'max_features' : [None, 20]\n",
    "    \n",
    "}\n",
    "\n",
    "gs_rf = GridSearchCV(rf, pgrid_rf, cv = 5, n_jobs = -1, verbose = 2)\n",
    "\n",
    "gs_rf.fit(X_train, y_train)"
   ]
  }
 ],
 "metadata": {
  "kernelspec": {
   "display_name": "Python 3",
   "language": "python",
   "name": "python3"
  },
  "language_info": {
   "codemirror_mode": {
    "name": "ipython",
    "version": 3
   },
   "file_extension": ".py",
   "mimetype": "text/x-python",
   "name": "python",
   "nbconvert_exporter": "python",
   "pygments_lexer": "ipython3",
   "version": "3.6.9"
  }
 },
 "nbformat": 4,
 "nbformat_minor": 2
}
