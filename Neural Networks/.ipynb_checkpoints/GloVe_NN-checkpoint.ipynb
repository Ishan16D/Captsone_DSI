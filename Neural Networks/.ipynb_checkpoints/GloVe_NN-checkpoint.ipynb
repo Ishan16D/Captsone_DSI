{
 "cells": [
  {
   "cell_type": "code",
   "execution_count": 1,
   "metadata": {
    "colab": {
     "base_uri": "https://localhost:8080/",
     "height": 1000
    },
    "colab_type": "code",
    "id": "cvira5Qzbe7A",
    "outputId": "fa4ffe01-382f-435c-bd5d-628d260450db"
   },
   "outputs": [
    {
     "name": "stdout",
     "output_type": "stream",
     "text": [
      "Requirement already satisfied: tensorflow-gpu in /usr/local/lib/python3.6/dist-packages (2.0.0)\n",
      "Requirement already satisfied: protobuf>=3.6.1 in /usr/local/lib/python3.6/dist-packages (from tensorflow-gpu) (3.10.0)\n",
      "Requirement already satisfied: tensorboard<2.1.0,>=2.0.0 in /usr/local/lib/python3.6/dist-packages (from tensorflow-gpu) (2.0.2)\n",
      "Requirement already satisfied: tensorflow-estimator<2.1.0,>=2.0.0 in /usr/local/lib/python3.6/dist-packages (from tensorflow-gpu) (2.0.1)\n",
      "Requirement already satisfied: keras-applications>=1.0.8 in /usr/local/lib/python3.6/dist-packages (from tensorflow-gpu) (1.0.8)\n",
      "Requirement already satisfied: gast==0.2.2 in /usr/local/lib/python3.6/dist-packages (from tensorflow-gpu) (0.2.2)\n",
      "Requirement already satisfied: astor>=0.6.0 in /usr/local/lib/python3.6/dist-packages (from tensorflow-gpu) (0.8.0)\n",
      "Requirement already satisfied: numpy<2.0,>=1.16.0 in /usr/local/lib/python3.6/dist-packages (from tensorflow-gpu) (1.17.4)\n",
      "Requirement already satisfied: google-pasta>=0.1.6 in /usr/local/lib/python3.6/dist-packages (from tensorflow-gpu) (0.1.8)\n",
      "Requirement already satisfied: six>=1.10.0 in /usr/local/lib/python3.6/dist-packages (from tensorflow-gpu) (1.12.0)\n",
      "Requirement already satisfied: termcolor>=1.1.0 in /usr/local/lib/python3.6/dist-packages (from tensorflow-gpu) (1.1.0)\n",
      "Requirement already satisfied: wheel>=0.26 in /usr/local/lib/python3.6/dist-packages (from tensorflow-gpu) (0.33.6)\n",
      "Requirement already satisfied: absl-py>=0.7.0 in /usr/local/lib/python3.6/dist-packages (from tensorflow-gpu) (0.8.1)\n",
      "Requirement already satisfied: grpcio>=1.8.6 in /usr/local/lib/python3.6/dist-packages (from tensorflow-gpu) (1.15.0)\n",
      "Requirement already satisfied: wrapt>=1.11.1 in /usr/local/lib/python3.6/dist-packages (from tensorflow-gpu) (1.11.2)\n",
      "Requirement already satisfied: opt-einsum>=2.3.2 in /usr/local/lib/python3.6/dist-packages (from tensorflow-gpu) (3.1.0)\n",
      "Requirement already satisfied: keras-preprocessing>=1.0.5 in /usr/local/lib/python3.6/dist-packages (from tensorflow-gpu) (1.1.0)\n",
      "Requirement already satisfied: setuptools in /usr/local/lib/python3.6/dist-packages (from protobuf>=3.6.1->tensorflow-gpu) (41.6.0)\n",
      "Requirement already satisfied: requests<3,>=2.21.0 in /usr/local/lib/python3.6/dist-packages (from tensorboard<2.1.0,>=2.0.0->tensorflow-gpu) (2.21.0)\n",
      "Requirement already satisfied: google-auth<2,>=1.6.3 in /usr/local/lib/python3.6/dist-packages (from tensorboard<2.1.0,>=2.0.0->tensorflow-gpu) (1.7.1)\n",
      "Requirement already satisfied: google-auth-oauthlib<0.5,>=0.4.1 in /usr/local/lib/python3.6/dist-packages (from tensorboard<2.1.0,>=2.0.0->tensorflow-gpu) (0.4.1)\n",
      "Requirement already satisfied: markdown>=2.6.8 in /usr/local/lib/python3.6/dist-packages (from tensorboard<2.1.0,>=2.0.0->tensorflow-gpu) (3.1.1)\n",
      "Requirement already satisfied: werkzeug>=0.11.15 in /usr/local/lib/python3.6/dist-packages (from tensorboard<2.1.0,>=2.0.0->tensorflow-gpu) (0.16.0)\n",
      "Requirement already satisfied: h5py in /usr/local/lib/python3.6/dist-packages (from keras-applications>=1.0.8->tensorflow-gpu) (2.8.0)\n",
      "Requirement already satisfied: chardet<3.1.0,>=3.0.2 in /usr/local/lib/python3.6/dist-packages (from requests<3,>=2.21.0->tensorboard<2.1.0,>=2.0.0->tensorflow-gpu) (3.0.4)\n",
      "Requirement already satisfied: urllib3<1.25,>=1.21.1 in /usr/local/lib/python3.6/dist-packages (from requests<3,>=2.21.0->tensorboard<2.1.0,>=2.0.0->tensorflow-gpu) (1.24.3)\n",
      "Requirement already satisfied: idna<2.9,>=2.5 in /usr/local/lib/python3.6/dist-packages (from requests<3,>=2.21.0->tensorboard<2.1.0,>=2.0.0->tensorflow-gpu) (2.8)\n",
      "Requirement already satisfied: certifi>=2017.4.17 in /usr/local/lib/python3.6/dist-packages (from requests<3,>=2.21.0->tensorboard<2.1.0,>=2.0.0->tensorflow-gpu) (2019.9.11)\n",
      "Requirement already satisfied: rsa<4.1,>=3.1.4 in /usr/local/lib/python3.6/dist-packages (from google-auth<2,>=1.6.3->tensorboard<2.1.0,>=2.0.0->tensorflow-gpu) (4.0)\n",
      "Requirement already satisfied: pyasn1-modules>=0.2.1 in /usr/local/lib/python3.6/dist-packages (from google-auth<2,>=1.6.3->tensorboard<2.1.0,>=2.0.0->tensorflow-gpu) (0.2.7)\n",
      "Requirement already satisfied: cachetools<3.2,>=2.0.0 in /usr/local/lib/python3.6/dist-packages (from google-auth<2,>=1.6.3->tensorboard<2.1.0,>=2.0.0->tensorflow-gpu) (3.1.1)\n",
      "Requirement already satisfied: requests-oauthlib>=0.7.0 in /usr/local/lib/python3.6/dist-packages (from google-auth-oauthlib<0.5,>=0.4.1->tensorboard<2.1.0,>=2.0.0->tensorflow-gpu) (1.3.0)\n",
      "Requirement already satisfied: pyasn1>=0.1.3 in /usr/local/lib/python3.6/dist-packages (from rsa<4.1,>=3.1.4->google-auth<2,>=1.6.3->tensorboard<2.1.0,>=2.0.0->tensorflow-gpu) (0.4.7)\n",
      "Requirement already satisfied: oauthlib>=3.0.0 in /usr/local/lib/python3.6/dist-packages (from requests-oauthlib>=0.7.0->google-auth-oauthlib<0.5,>=0.4.1->tensorboard<2.1.0,>=2.0.0->tensorflow-gpu) (3.1.0)\n",
      "Requirement already satisfied: keras in /usr/local/lib/python3.6/dist-packages (2.2.5)\n",
      "Requirement already satisfied: pyyaml in /usr/local/lib/python3.6/dist-packages (from keras) (3.13)\n",
      "Requirement already satisfied: six>=1.9.0 in /usr/local/lib/python3.6/dist-packages (from keras) (1.12.0)\n",
      "Requirement already satisfied: numpy>=1.9.1 in /usr/local/lib/python3.6/dist-packages (from keras) (1.17.4)\n",
      "Requirement already satisfied: keras-preprocessing>=1.1.0 in /usr/local/lib/python3.6/dist-packages (from keras) (1.1.0)\n",
      "Requirement already satisfied: keras-applications>=1.0.8 in /usr/local/lib/python3.6/dist-packages (from keras) (1.0.8)\n",
      "Requirement already satisfied: scipy>=0.14 in /usr/local/lib/python3.6/dist-packages (from keras) (1.3.2)\n",
      "Requirement already satisfied: h5py in /usr/local/lib/python3.6/dist-packages (from keras) (2.8.0)\n",
      "Requirement already satisfied: plotly in /usr/local/lib/python3.6/dist-packages (4.1.1)\n",
      "Requirement already satisfied: six in /usr/local/lib/python3.6/dist-packages (from plotly) (1.12.0)\n",
      "Requirement already satisfied: retrying>=1.3.3 in /usr/local/lib/python3.6/dist-packages (from plotly) (1.3.3)\n",
      "Requirement already satisfied: cufflinks in /usr/local/lib/python3.6/dist-packages (0.17.0)\n",
      "Requirement already satisfied: plotly>=4.1.1 in /usr/local/lib/python3.6/dist-packages (from cufflinks) (4.1.1)\n",
      "Requirement already satisfied: six>=1.9.0 in /usr/local/lib/python3.6/dist-packages (from cufflinks) (1.12.0)\n",
      "Requirement already satisfied: numpy>=1.9.2 in /usr/local/lib/python3.6/dist-packages (from cufflinks) (1.17.4)\n",
      "Requirement already satisfied: ipywidgets>=7.0.0 in /usr/local/lib/python3.6/dist-packages (from cufflinks) (7.5.1)\n",
      "Requirement already satisfied: setuptools>=34.4.1 in /usr/local/lib/python3.6/dist-packages (from cufflinks) (41.6.0)\n",
      "Requirement already satisfied: pandas>=0.19.2 in /usr/local/lib/python3.6/dist-packages (from cufflinks) (0.25.3)\n",
      "Requirement already satisfied: ipython>=5.3.0 in /usr/local/lib/python3.6/dist-packages (from cufflinks) (5.5.0)\n",
      "Requirement already satisfied: chart-studio>=1.0.0 in /usr/local/lib/python3.6/dist-packages (from cufflinks) (1.0.0)\n",
      "Requirement already satisfied: colorlover>=0.2.1 in /usr/local/lib/python3.6/dist-packages (from cufflinks) (0.3.0)\n",
      "Requirement already satisfied: retrying>=1.3.3 in /usr/local/lib/python3.6/dist-packages (from plotly>=4.1.1->cufflinks) (1.3.3)\n",
      "Requirement already satisfied: widgetsnbextension~=3.5.0 in /usr/local/lib/python3.6/dist-packages (from ipywidgets>=7.0.0->cufflinks) (3.5.1)\n",
      "Requirement already satisfied: nbformat>=4.2.0 in /usr/local/lib/python3.6/dist-packages (from ipywidgets>=7.0.0->cufflinks) (4.4.0)\n",
      "Requirement already satisfied: ipykernel>=4.5.1 in /usr/local/lib/python3.6/dist-packages (from ipywidgets>=7.0.0->cufflinks) (4.6.1)\n",
      "Requirement already satisfied: traitlets>=4.3.1 in /usr/local/lib/python3.6/dist-packages (from ipywidgets>=7.0.0->cufflinks) (4.3.3)\n",
      "Requirement already satisfied: python-dateutil>=2.6.1 in /usr/local/lib/python3.6/dist-packages (from pandas>=0.19.2->cufflinks) (2.6.1)\n",
      "Requirement already satisfied: pytz>=2017.2 in /usr/local/lib/python3.6/dist-packages (from pandas>=0.19.2->cufflinks) (2018.9)\n",
      "Requirement already satisfied: pickleshare in /usr/local/lib/python3.6/dist-packages (from ipython>=5.3.0->cufflinks) (0.7.5)\n",
      "Requirement already satisfied: pygments in /usr/local/lib/python3.6/dist-packages (from ipython>=5.3.0->cufflinks) (2.1.3)\n",
      "Requirement already satisfied: pexpect; sys_platform != \"win32\" in /usr/local/lib/python3.6/dist-packages (from ipython>=5.3.0->cufflinks) (4.7.0)\n",
      "Requirement already satisfied: decorator in /usr/local/lib/python3.6/dist-packages (from ipython>=5.3.0->cufflinks) (4.4.1)\n",
      "Requirement already satisfied: prompt-toolkit<2.0.0,>=1.0.4 in /usr/local/lib/python3.6/dist-packages (from ipython>=5.3.0->cufflinks) (1.0.18)\n",
      "Requirement already satisfied: simplegeneric>0.8 in /usr/local/lib/python3.6/dist-packages (from ipython>=5.3.0->cufflinks) (0.8.1)\n",
      "Requirement already satisfied: requests in /usr/local/lib/python3.6/dist-packages (from chart-studio>=1.0.0->cufflinks) (2.21.0)\n",
      "Requirement already satisfied: notebook>=4.4.1 in /usr/local/lib/python3.6/dist-packages (from widgetsnbextension~=3.5.0->ipywidgets>=7.0.0->cufflinks) (5.2.2)\n",
      "Requirement already satisfied: jupyter-core in /usr/local/lib/python3.6/dist-packages (from nbformat>=4.2.0->ipywidgets>=7.0.0->cufflinks) (4.6.1)\n",
      "Requirement already satisfied: jsonschema!=2.5.0,>=2.4 in /usr/local/lib/python3.6/dist-packages (from nbformat>=4.2.0->ipywidgets>=7.0.0->cufflinks) (2.6.0)\n",
      "Requirement already satisfied: ipython-genutils in /usr/local/lib/python3.6/dist-packages (from nbformat>=4.2.0->ipywidgets>=7.0.0->cufflinks) (0.2.0)\n",
      "Requirement already satisfied: jupyter-client in /usr/local/lib/python3.6/dist-packages (from ipykernel>=4.5.1->ipywidgets>=7.0.0->cufflinks) (5.3.4)\n",
      "Requirement already satisfied: tornado>=4.0 in /usr/local/lib/python3.6/dist-packages (from ipykernel>=4.5.1->ipywidgets>=7.0.0->cufflinks) (4.5.3)\n",
      "Requirement already satisfied: ptyprocess>=0.5 in /usr/local/lib/python3.6/dist-packages (from pexpect; sys_platform != \"win32\"->ipython>=5.3.0->cufflinks) (0.6.0)\n",
      "Requirement already satisfied: wcwidth in /usr/local/lib/python3.6/dist-packages (from prompt-toolkit<2.0.0,>=1.0.4->ipython>=5.3.0->cufflinks) (0.1.7)\n",
      "Requirement already satisfied: certifi>=2017.4.17 in /usr/local/lib/python3.6/dist-packages (from requests->chart-studio>=1.0.0->cufflinks) (2019.9.11)\n",
      "Requirement already satisfied: chardet<3.1.0,>=3.0.2 in /usr/local/lib/python3.6/dist-packages (from requests->chart-studio>=1.0.0->cufflinks) (3.0.4)\n",
      "Requirement already satisfied: urllib3<1.25,>=1.21.1 in /usr/local/lib/python3.6/dist-packages (from requests->chart-studio>=1.0.0->cufflinks) (1.24.3)\n",
      "Requirement already satisfied: idna<2.9,>=2.5 in /usr/local/lib/python3.6/dist-packages (from requests->chart-studio>=1.0.0->cufflinks) (2.8)\n",
      "Requirement already satisfied: nbconvert in /usr/local/lib/python3.6/dist-packages (from notebook>=4.4.1->widgetsnbextension~=3.5.0->ipywidgets>=7.0.0->cufflinks) (5.6.1)\n",
      "Requirement already satisfied: jinja2 in /usr/local/lib/python3.6/dist-packages (from notebook>=4.4.1->widgetsnbextension~=3.5.0->ipywidgets>=7.0.0->cufflinks) (2.10.3)\n",
      "Requirement already satisfied: terminado>=0.3.3; sys_platform != \"win32\" in /usr/local/lib/python3.6/dist-packages (from notebook>=4.4.1->widgetsnbextension~=3.5.0->ipywidgets>=7.0.0->cufflinks) (0.8.3)\n",
      "Requirement already satisfied: pyzmq>=13 in /usr/local/lib/python3.6/dist-packages (from jupyter-client->ipykernel>=4.5.1->ipywidgets>=7.0.0->cufflinks) (17.0.0)\n",
      "Requirement already satisfied: pandocfilters>=1.4.1 in /usr/local/lib/python3.6/dist-packages (from nbconvert->notebook>=4.4.1->widgetsnbextension~=3.5.0->ipywidgets>=7.0.0->cufflinks) (1.4.2)\n",
      "Requirement already satisfied: mistune<2,>=0.8.1 in /usr/local/lib/python3.6/dist-packages (from nbconvert->notebook>=4.4.1->widgetsnbextension~=3.5.0->ipywidgets>=7.0.0->cufflinks) (0.8.4)\n",
      "Requirement already satisfied: defusedxml in /usr/local/lib/python3.6/dist-packages (from nbconvert->notebook>=4.4.1->widgetsnbextension~=3.5.0->ipywidgets>=7.0.0->cufflinks) (0.6.0)\n",
      "Requirement already satisfied: bleach in /usr/local/lib/python3.6/dist-packages (from nbconvert->notebook>=4.4.1->widgetsnbextension~=3.5.0->ipywidgets>=7.0.0->cufflinks) (3.1.0)\n",
      "Requirement already satisfied: entrypoints>=0.2.2 in /usr/local/lib/python3.6/dist-packages (from nbconvert->notebook>=4.4.1->widgetsnbextension~=3.5.0->ipywidgets>=7.0.0->cufflinks) (0.3)\n",
      "Requirement already satisfied: testpath in /usr/local/lib/python3.6/dist-packages (from nbconvert->notebook>=4.4.1->widgetsnbextension~=3.5.0->ipywidgets>=7.0.0->cufflinks) (0.4.4)\n",
      "Requirement already satisfied: MarkupSafe>=0.23 in /usr/local/lib/python3.6/dist-packages (from jinja2->notebook>=4.4.1->widgetsnbextension~=3.5.0->ipywidgets>=7.0.0->cufflinks) (1.1.1)\n",
      "Requirement already satisfied: webencodings in /usr/local/lib/python3.6/dist-packages (from bleach->nbconvert->notebook>=4.4.1->widgetsnbextension~=3.5.0->ipywidgets>=7.0.0->cufflinks) (0.5.1)\n",
      "Requirement already satisfied: chart_studio in /usr/local/lib/python3.6/dist-packages (1.0.0)\n",
      "Requirement already satisfied: requests in /usr/local/lib/python3.6/dist-packages (from chart_studio) (2.21.0)\n",
      "Requirement already satisfied: six in /usr/local/lib/python3.6/dist-packages (from chart_studio) (1.12.0)\n",
      "Requirement already satisfied: retrying>=1.3.3 in /usr/local/lib/python3.6/dist-packages (from chart_studio) (1.3.3)\n",
      "Requirement already satisfied: plotly in /usr/local/lib/python3.6/dist-packages (from chart_studio) (4.1.1)\n",
      "Requirement already satisfied: idna<2.9,>=2.5 in /usr/local/lib/python3.6/dist-packages (from requests->chart_studio) (2.8)\n",
      "Requirement already satisfied: urllib3<1.25,>=1.21.1 in /usr/local/lib/python3.6/dist-packages (from requests->chart_studio) (1.24.3)\n",
      "Requirement already satisfied: certifi>=2017.4.17 in /usr/local/lib/python3.6/dist-packages (from requests->chart_studio) (2019.9.11)\n",
      "Requirement already satisfied: chardet<3.1.0,>=3.0.2 in /usr/local/lib/python3.6/dist-packages (from requests->chart_studio) (3.0.4)\n"
     ]
    }
   ],
   "source": [
    "!pip install tensorflow-gpu\n",
    "!pip install keras\n",
    "!pip install plotly\n",
    "!pip install cufflinks\n",
    "!pip install chart_studio"
   ]
  },
  {
   "cell_type": "code",
   "execution_count": 3,
   "metadata": {
    "colab": {
     "base_uri": "https://localhost:8080/",
     "height": 87
    },
    "colab_type": "code",
    "id": "Y6QdYUZZblkT",
    "outputId": "97a8db91-0fb8-4c13-e189-a213bb6a0948"
   },
   "outputs": [
    {
     "name": "stderr",
     "output_type": "stream",
     "text": [
      "Using TensorFlow backend.\n"
     ]
    },
    {
     "data": {
      "text/html": [
       "        <script type=\"text/javascript\">\n",
       "        window.PlotlyConfig = {MathJaxConfig: 'local'};\n",
       "        if (window.MathJax) {MathJax.Hub.Config({SVG: {font: \"STIX-Web\"}});}\n",
       "        if (typeof require !== 'undefined') {\n",
       "        require.undef(\"plotly\");\n",
       "        requirejs.config({\n",
       "            paths: {\n",
       "                'plotly': ['https://cdn.plot.ly/plotly-latest.min']\n",
       "            }\n",
       "        });\n",
       "        require(['plotly'], function(Plotly) {\n",
       "            window._Plotly = Plotly;\n",
       "        });\n",
       "        }\n",
       "        </script>\n",
       "        "
      ]
     },
     "metadata": {
      "tags": []
     },
     "output_type": "display_data"
    },
    {
     "name": "stdout",
     "output_type": "stream",
     "text": [
      "[nltk_data] Downloading package wordnet to /root/nltk_data...\n",
      "[nltk_data]   Unzipping corpora/wordnet.zip.\n"
     ]
    },
    {
     "data": {
      "text/plain": [
       "True"
      ]
     },
     "execution_count": 3,
     "metadata": {
      "tags": []
     },
     "output_type": "execute_result"
    }
   ],
   "source": [
    "#Imports\n",
    "\n",
    "import tensorflow\n",
    "import numpy as np \n",
    "import pandas as pd\n",
    "import matplotlib.pyplot as plt\n",
    "import seaborn as sns\n",
    "from keras.preprocessing.text import Tokenizer\n",
    "from keras.preprocessing.sequence import pad_sequences\n",
    "from tensorflow.keras.models import Sequential\n",
    "from tensorflow.keras.layers import Dense, Embedding, LSTM, SpatialDropout1D, GRU, Flatten\n",
    "from sklearn.model_selection import train_test_split\n",
    "from keras.utils.np_utils import to_categorical\n",
    "from tensorflow.keras.callbacks import EarlyStopping\n",
    "from tensorflow.keras.layers import Dropout\n",
    "import re\n",
    "import nltk\n",
    "from nltk.corpus import stopwords\n",
    "from nltk import word_tokenize\n",
    "#STOPWORDS = set(stopwords.words('english'))\n",
    "#import chart_studio.plotly.graph_objs as go\n",
    "import chart_studio.plotly as py\n",
    "import cufflinks\n",
    "from IPython.core.interactiveshell import InteractiveShell\n",
    "#import chart_studio.plotly.figure_factory as ff\n",
    "InteractiveShell.ast_node_interactivity = 'all'\n",
    "#from chart_studio.plotly.offline import iplot\n",
    "cufflinks.go_offline()\n",
    "cufflinks.set_config_file(world_readable=True, theme='pearl')\n",
    "from nltk.tokenize import RegexpTokenizer\n",
    "nltk.download('wordnet')"
   ]
  },
  {
   "cell_type": "code",
   "execution_count": 0,
   "metadata": {
    "colab": {},
    "colab_type": "code",
    "id": "o-yLYH7Cbl2h"
   },
   "outputs": [],
   "source": [
    "\n",
    "STOPWORDS = stopwords"
   ]
  },
  {
   "cell_type": "code",
   "execution_count": 0,
   "metadata": {
    "colab": {},
    "colab_type": "code",
    "id": "rRDLynUfbmSk"
   },
   "outputs": [],
   "source": [
    "#Reading in data\n",
    "\n",
    "df = pd.read_csv('clean_text.csv')\n",
    "df.drop(columns = 'Unnamed: 0', inplace = True)\n",
    "\n",
    "df.dropna(inplace = True)"
   ]
  },
  {
   "cell_type": "code",
   "execution_count": 8,
   "metadata": {
    "colab": {
     "base_uri": "https://localhost:8080/",
     "height": 316
    },
    "colab_type": "code",
    "id": "WkHD4JFFcrZU",
    "outputId": "a590a09b-e444-432f-8946-e8c8c80ea9b1"
   },
   "outputs": [
    {
     "name": "stderr",
     "output_type": "stream",
     "text": [
      "IOPub data rate exceeded.\n",
      "The notebook server will temporarily stop sending output\n",
      "to the client in order to avoid crashing it.\n",
      "To change this limit, set the config variable\n",
      "`--NotebookApp.iopub_data_rate_limit`.\n",
      "\n",
      "Current values:\n",
      "NotebookApp.iopub_data_rate_limit=1000000.0 (bytes/sec)\n",
      "NotebookApp.rate_limit_window=3.0 (secs)\n",
      "\n"
     ]
    },
    {
     "name": "stdout",
     "output_type": "stream",
     "text": [
      "[[    62      8    280 ...      0      0      0]\n",
      " [    10      8    503 ...      0      0      0]\n",
      " [     3   9939  46049 ...      0      0      0]\n",
      " ...\n",
      " [     1    523    254 ...      0      0      0]\n",
      " [167981  17071   1468 ...      0      0      0]\n",
      " [  1468    948    109 ...      0      0      0]]\n"
     ]
    }
   ],
   "source": [
    "t = Tokenizer()\n",
    "t.fit_on_texts(df['clean_text'])\n",
    "vocab_size = len(t.word_index) + 1\n",
    "# integer encode the documents\n",
    "encoded_text = t.texts_to_sequences(df['clean_text'])\n",
    "print(encoded_text)\n",
    "# pad documents to a max length of 4 words\n",
    "max_length = 500\n",
    "padded_text = pad_sequences(encoded_text, maxlen=max_length, padding='post')\n",
    "print(padded_text)"
   ]
  },
  {
   "cell_type": "code",
   "execution_count": 10,
   "metadata": {
    "colab": {
     "base_uri": "https://localhost:8080/",
     "height": 35
    },
    "colab_type": "code",
    "id": "T9eCRtN8c9i6",
    "outputId": "8e6c0f5c-7b6d-4564-90a4-8da009782ec1"
   },
   "outputs": [
    {
     "name": "stdout",
     "output_type": "stream",
     "text": [
      "Loaded 400000 word vectors.\n"
     ]
    }
   ],
   "source": [
    "# load the whole embedding into memory\n",
    "embeddings_index = dict()\n",
    "f = open('glove.6B.100d.txt')\n",
    "for line in f:\n",
    "\tvalues = line.split()\n",
    "\tword = values[0]\n",
    "\tcoefs = np.asarray(values[1:], dtype='float32')\n",
    "\tembeddings_index[word] = coefs\n",
    "f.close()\n",
    "print('Loaded %s word vectors.' % len(embeddings_index))"
   ]
  },
  {
   "cell_type": "code",
   "execution_count": 0,
   "metadata": {
    "colab": {},
    "colab_type": "code",
    "id": "EOuC1mxbfTxu"
   },
   "outputs": [],
   "source": [
    "# create a weight matrix for words in training docs\n",
    "embedding_matrix = np.zeros((vocab_size, 100))\n",
    "for word, i in t.word_index.items():\n",
    "\tembedding_vector = embeddings_index.get(word)\n",
    "\tif embedding_vector is not None:\n",
    "\t\tembedding_matrix[i] = embedding_vector"
   ]
  },
  {
   "cell_type": "code",
   "execution_count": 45,
   "metadata": {
    "colab": {
     "base_uri": "https://localhost:8080/",
     "height": 405
    },
    "colab_type": "code",
    "id": "5abzAooGfdBl",
    "outputId": "96a10e7e-93fa-4a18-ef54-5da52b6dd2f6"
   },
   "outputs": [
    {
     "ename": "ValueError",
     "evalue": "ignored",
     "output_type": "error",
     "traceback": [
      "\u001b[0;31m---------------------------------------------------------------------------\u001b[0m",
      "\u001b[0;31mValueError\u001b[0m                                Traceback (most recent call last)",
      "\u001b[0;32m<ipython-input-45-e25f3978da92>\u001b[0m in \u001b[0;36m<module>\u001b[0;34m()\u001b[0m\n\u001b[1;32m      6\u001b[0m \u001b[0mmodel\u001b[0m\u001b[0;34m.\u001b[0m\u001b[0madd\u001b[0m\u001b[0;34m(\u001b[0m\u001b[0mDense\u001b[0m\u001b[0;34m(\u001b[0m\u001b[0;36m2\u001b[0m\u001b[0;34m,\u001b[0m \u001b[0mactivation\u001b[0m\u001b[0;34m=\u001b[0m\u001b[0;34m'sigmoid'\u001b[0m\u001b[0;34m)\u001b[0m\u001b[0;34m)\u001b[0m\u001b[0;34m\u001b[0m\u001b[0;34m\u001b[0m\u001b[0m\n\u001b[1;32m      7\u001b[0m \u001b[0;31m# compile the model\u001b[0m\u001b[0;34m\u001b[0m\u001b[0;34m\u001b[0m\u001b[0;34m\u001b[0m\u001b[0m\n\u001b[0;32m----> 8\u001b[0;31m \u001b[0mmodel\u001b[0m\u001b[0;34m.\u001b[0m\u001b[0mcompile\u001b[0m\u001b[0;34m(\u001b[0m\u001b[0moptimizer\u001b[0m\u001b[0;34m=\u001b[0m\u001b[0;34m'adam'\u001b[0m\u001b[0;34m,\u001b[0m \u001b[0mloss\u001b[0m\u001b[0;34m=\u001b[0m\u001b[0;34m'binary_crossentropy'\u001b[0m\u001b[0;34m,\u001b[0m \u001b[0mmetrics\u001b[0m\u001b[0;34m=\u001b[0m\u001b[0;34m[\u001b[0m\u001b[0;34m'accuracy'\u001b[0m\u001b[0;34m,\u001b[0m \u001b[0;34m'f1_score'\u001b[0m\u001b[0;34m]\u001b[0m\u001b[0;34m)\u001b[0m\u001b[0;34m\u001b[0m\u001b[0;34m\u001b[0m\u001b[0m\n\u001b[0m\u001b[1;32m      9\u001b[0m \u001b[0;31m# summarize the model\u001b[0m\u001b[0;34m\u001b[0m\u001b[0;34m\u001b[0m\u001b[0;34m\u001b[0m\u001b[0m\n\u001b[1;32m     10\u001b[0m \u001b[0mprint\u001b[0m\u001b[0;34m(\u001b[0m\u001b[0mmodel\u001b[0m\u001b[0;34m.\u001b[0m\u001b[0msummary\u001b[0m\u001b[0;34m(\u001b[0m\u001b[0;34m)\u001b[0m\u001b[0;34m)\u001b[0m\u001b[0;34m\u001b[0m\u001b[0;34m\u001b[0m\u001b[0m\n",
      "\u001b[0;32m/usr/local/lib/python3.6/dist-packages/tensorflow_core/python/training/tracking/base.py\u001b[0m in \u001b[0;36m_method_wrapper\u001b[0;34m(self, *args, **kwargs)\u001b[0m\n\u001b[1;32m    455\u001b[0m     \u001b[0mself\u001b[0m\u001b[0;34m.\u001b[0m\u001b[0m_self_setattr_tracking\u001b[0m \u001b[0;34m=\u001b[0m \u001b[0;32mFalse\u001b[0m  \u001b[0;31m# pylint: disable=protected-access\u001b[0m\u001b[0;34m\u001b[0m\u001b[0;34m\u001b[0m\u001b[0m\n\u001b[1;32m    456\u001b[0m     \u001b[0;32mtry\u001b[0m\u001b[0;34m:\u001b[0m\u001b[0;34m\u001b[0m\u001b[0;34m\u001b[0m\u001b[0m\n\u001b[0;32m--> 457\u001b[0;31m       \u001b[0mresult\u001b[0m \u001b[0;34m=\u001b[0m \u001b[0mmethod\u001b[0m\u001b[0;34m(\u001b[0m\u001b[0mself\u001b[0m\u001b[0;34m,\u001b[0m \u001b[0;34m*\u001b[0m\u001b[0margs\u001b[0m\u001b[0;34m,\u001b[0m \u001b[0;34m**\u001b[0m\u001b[0mkwargs\u001b[0m\u001b[0;34m)\u001b[0m\u001b[0;34m\u001b[0m\u001b[0;34m\u001b[0m\u001b[0m\n\u001b[0m\u001b[1;32m    458\u001b[0m     \u001b[0;32mfinally\u001b[0m\u001b[0;34m:\u001b[0m\u001b[0;34m\u001b[0m\u001b[0;34m\u001b[0m\u001b[0m\n\u001b[1;32m    459\u001b[0m       \u001b[0mself\u001b[0m\u001b[0;34m.\u001b[0m\u001b[0m_self_setattr_tracking\u001b[0m \u001b[0;34m=\u001b[0m \u001b[0mprevious_value\u001b[0m  \u001b[0;31m# pylint: disable=protected-access\u001b[0m\u001b[0;34m\u001b[0m\u001b[0;34m\u001b[0m\u001b[0m\n",
      "\u001b[0;32m/usr/local/lib/python3.6/dist-packages/tensorflow_core/python/keras/engine/training.py\u001b[0m in \u001b[0;36mcompile\u001b[0;34m(self, optimizer, loss, metrics, loss_weights, sample_weight_mode, weighted_metrics, target_tensors, distribute, **kwargs)\u001b[0m\n\u001b[1;32m    354\u001b[0m     \u001b[0;32mwith\u001b[0m \u001b[0mK\u001b[0m\u001b[0;34m.\u001b[0m\u001b[0mget_graph\u001b[0m\u001b[0;34m(\u001b[0m\u001b[0;34m)\u001b[0m\u001b[0;34m.\u001b[0m\u001b[0mas_default\u001b[0m\u001b[0;34m(\u001b[0m\u001b[0;34m)\u001b[0m\u001b[0;34m:\u001b[0m\u001b[0;34m\u001b[0m\u001b[0;34m\u001b[0m\u001b[0m\n\u001b[1;32m    355\u001b[0m       \u001b[0;31m# Save all metric attributes per output of the model.\u001b[0m\u001b[0;34m\u001b[0m\u001b[0;34m\u001b[0m\u001b[0;34m\u001b[0m\u001b[0m\n\u001b[0;32m--> 356\u001b[0;31m       \u001b[0mself\u001b[0m\u001b[0;34m.\u001b[0m\u001b[0m_cache_output_metric_attributes\u001b[0m\u001b[0;34m(\u001b[0m\u001b[0mmetrics\u001b[0m\u001b[0;34m,\u001b[0m \u001b[0mweighted_metrics\u001b[0m\u001b[0;34m)\u001b[0m\u001b[0;34m\u001b[0m\u001b[0;34m\u001b[0m\u001b[0m\n\u001b[0m\u001b[1;32m    357\u001b[0m \u001b[0;34m\u001b[0m\u001b[0m\n\u001b[1;32m    358\u001b[0m       \u001b[0;31m# Set metric attributes on model.\u001b[0m\u001b[0;34m\u001b[0m\u001b[0;34m\u001b[0m\u001b[0;34m\u001b[0m\u001b[0m\n",
      "\u001b[0;32m/usr/local/lib/python3.6/dist-packages/tensorflow_core/python/keras/engine/training.py\u001b[0m in \u001b[0;36m_cache_output_metric_attributes\u001b[0;34m(self, metrics, weighted_metrics)\u001b[0m\n\u001b[1;32m   1899\u001b[0m         \u001b[0moutput_shapes\u001b[0m\u001b[0;34m.\u001b[0m\u001b[0mappend\u001b[0m\u001b[0;34m(\u001b[0m\u001b[0moutput\u001b[0m\u001b[0;34m.\u001b[0m\u001b[0mshape\u001b[0m\u001b[0;34m.\u001b[0m\u001b[0mas_list\u001b[0m\u001b[0;34m(\u001b[0m\u001b[0;34m)\u001b[0m\u001b[0;34m)\u001b[0m\u001b[0;34m\u001b[0m\u001b[0;34m\u001b[0m\u001b[0m\n\u001b[1;32m   1900\u001b[0m     self._per_output_metrics = training_utils.collect_per_output_metric_info(\n\u001b[0;32m-> 1901\u001b[0;31m         metrics, self.output_names, output_shapes, self.loss_functions)\n\u001b[0m\u001b[1;32m   1902\u001b[0m     self._per_output_weighted_metrics = (\n\u001b[1;32m   1903\u001b[0m         training_utils.collect_per_output_metric_info(\n",
      "\u001b[0;32m/usr/local/lib/python3.6/dist-packages/tensorflow_core/python/keras/engine/training_utils.py\u001b[0m in \u001b[0;36mcollect_per_output_metric_info\u001b[0;34m(metrics, output_names, output_shapes, loss_fns, is_weighted)\u001b[0m\n\u001b[1;32m    813\u001b[0m       \u001b[0mmetric_name\u001b[0m \u001b[0;34m=\u001b[0m \u001b[0mget_metric_name\u001b[0m\u001b[0;34m(\u001b[0m\u001b[0mmetric\u001b[0m\u001b[0;34m,\u001b[0m \u001b[0mis_weighted\u001b[0m\u001b[0;34m)\u001b[0m\u001b[0;34m\u001b[0m\u001b[0;34m\u001b[0m\u001b[0m\n\u001b[1;32m    814\u001b[0m       metric_fn = get_metric_function(\n\u001b[0;32m--> 815\u001b[0;31m           metric, output_shape=output_shapes[i], loss_fn=loss_fns[i])\n\u001b[0m\u001b[1;32m    816\u001b[0m \u001b[0;34m\u001b[0m\u001b[0m\n\u001b[1;32m    817\u001b[0m       \u001b[0;31m# If the metric function is not stateful, we create a stateful version.\u001b[0m\u001b[0;34m\u001b[0m\u001b[0;34m\u001b[0m\u001b[0;34m\u001b[0m\u001b[0m\n",
      "\u001b[0;32m/usr/local/lib/python3.6/dist-packages/tensorflow_core/python/keras/engine/training_utils.py\u001b[0m in \u001b[0;36mget_metric_function\u001b[0;34m(metric, output_shape, loss_fn)\u001b[0m\n\u001b[1;32m   1018\u001b[0m   \"\"\"\n\u001b[1;32m   1019\u001b[0m   \u001b[0;32mif\u001b[0m \u001b[0mmetric\u001b[0m \u001b[0;32mnot\u001b[0m \u001b[0;32min\u001b[0m \u001b[0;34m[\u001b[0m\u001b[0;34m'accuracy'\u001b[0m\u001b[0;34m,\u001b[0m \u001b[0;34m'acc'\u001b[0m\u001b[0;34m,\u001b[0m \u001b[0;34m'crossentropy'\u001b[0m\u001b[0;34m,\u001b[0m \u001b[0;34m'ce'\u001b[0m\u001b[0;34m]\u001b[0m\u001b[0;34m:\u001b[0m\u001b[0;34m\u001b[0m\u001b[0;34m\u001b[0m\u001b[0m\n\u001b[0;32m-> 1020\u001b[0;31m     \u001b[0;32mreturn\u001b[0m \u001b[0mmetrics_module\u001b[0m\u001b[0;34m.\u001b[0m\u001b[0mget\u001b[0m\u001b[0;34m(\u001b[0m\u001b[0mmetric\u001b[0m\u001b[0;34m)\u001b[0m\u001b[0;34m\u001b[0m\u001b[0;34m\u001b[0m\u001b[0m\n\u001b[0m\u001b[1;32m   1021\u001b[0m \u001b[0;34m\u001b[0m\u001b[0m\n\u001b[1;32m   1022\u001b[0m   is_sparse_categorical_crossentropy = (\n",
      "\u001b[0;32m/usr/local/lib/python3.6/dist-packages/tensorflow_core/python/keras/metrics.py\u001b[0m in \u001b[0;36mget\u001b[0;34m(identifier)\u001b[0m\n\u001b[1;32m   2857\u001b[0m     \u001b[0;32mreturn\u001b[0m \u001b[0mdeserialize\u001b[0m\u001b[0;34m(\u001b[0m\u001b[0midentifier\u001b[0m\u001b[0;34m)\u001b[0m\u001b[0;34m\u001b[0m\u001b[0;34m\u001b[0m\u001b[0m\n\u001b[1;32m   2858\u001b[0m   \u001b[0;32melif\u001b[0m \u001b[0misinstance\u001b[0m\u001b[0;34m(\u001b[0m\u001b[0midentifier\u001b[0m\u001b[0;34m,\u001b[0m \u001b[0msix\u001b[0m\u001b[0;34m.\u001b[0m\u001b[0mstring_types\u001b[0m\u001b[0;34m)\u001b[0m\u001b[0;34m:\u001b[0m\u001b[0;34m\u001b[0m\u001b[0;34m\u001b[0m\u001b[0m\n\u001b[0;32m-> 2859\u001b[0;31m     \u001b[0;32mreturn\u001b[0m \u001b[0mdeserialize\u001b[0m\u001b[0;34m(\u001b[0m\u001b[0mstr\u001b[0m\u001b[0;34m(\u001b[0m\u001b[0midentifier\u001b[0m\u001b[0;34m)\u001b[0m\u001b[0;34m)\u001b[0m\u001b[0;34m\u001b[0m\u001b[0;34m\u001b[0m\u001b[0m\n\u001b[0m\u001b[1;32m   2860\u001b[0m   \u001b[0;32melif\u001b[0m \u001b[0mcallable\u001b[0m\u001b[0;34m(\u001b[0m\u001b[0midentifier\u001b[0m\u001b[0;34m)\u001b[0m\u001b[0;34m:\u001b[0m\u001b[0;34m\u001b[0m\u001b[0;34m\u001b[0m\u001b[0m\n\u001b[1;32m   2861\u001b[0m     \u001b[0;32mreturn\u001b[0m \u001b[0midentifier\u001b[0m\u001b[0;34m\u001b[0m\u001b[0;34m\u001b[0m\u001b[0m\n",
      "\u001b[0;32m/usr/local/lib/python3.6/dist-packages/tensorflow_core/python/keras/metrics.py\u001b[0m in \u001b[0;36mdeserialize\u001b[0;34m(config, custom_objects)\u001b[0m\n\u001b[1;32m   2849\u001b[0m       \u001b[0mmodule_objects\u001b[0m\u001b[0;34m=\u001b[0m\u001b[0mglobals\u001b[0m\u001b[0;34m(\u001b[0m\u001b[0;34m)\u001b[0m\u001b[0;34m,\u001b[0m\u001b[0;34m\u001b[0m\u001b[0;34m\u001b[0m\u001b[0m\n\u001b[1;32m   2850\u001b[0m       \u001b[0mcustom_objects\u001b[0m\u001b[0;34m=\u001b[0m\u001b[0mcustom_objects\u001b[0m\u001b[0;34m,\u001b[0m\u001b[0;34m\u001b[0m\u001b[0;34m\u001b[0m\u001b[0m\n\u001b[0;32m-> 2851\u001b[0;31m       printable_module_name='metric function')\n\u001b[0m\u001b[1;32m   2852\u001b[0m \u001b[0;34m\u001b[0m\u001b[0m\n\u001b[1;32m   2853\u001b[0m \u001b[0;34m\u001b[0m\u001b[0m\n",
      "\u001b[0;32m/usr/local/lib/python3.6/dist-packages/tensorflow_core/python/keras/utils/generic_utils.py\u001b[0m in \u001b[0;36mdeserialize_keras_object\u001b[0;34m(identifier, module_objects, custom_objects, printable_module_name)\u001b[0m\n\u001b[1;32m    208\u001b[0m       \u001b[0mobj\u001b[0m \u001b[0;34m=\u001b[0m \u001b[0mmodule_objects\u001b[0m\u001b[0;34m.\u001b[0m\u001b[0mget\u001b[0m\u001b[0;34m(\u001b[0m\u001b[0mobject_name\u001b[0m\u001b[0;34m)\u001b[0m\u001b[0;34m\u001b[0m\u001b[0;34m\u001b[0m\u001b[0m\n\u001b[1;32m    209\u001b[0m       \u001b[0;32mif\u001b[0m \u001b[0mobj\u001b[0m \u001b[0;32mis\u001b[0m \u001b[0;32mNone\u001b[0m\u001b[0;34m:\u001b[0m\u001b[0;34m\u001b[0m\u001b[0;34m\u001b[0m\u001b[0m\n\u001b[0;32m--> 210\u001b[0;31m         \u001b[0;32mraise\u001b[0m \u001b[0mValueError\u001b[0m\u001b[0;34m(\u001b[0m\u001b[0;34m'Unknown '\u001b[0m \u001b[0;34m+\u001b[0m \u001b[0mprintable_module_name\u001b[0m \u001b[0;34m+\u001b[0m \u001b[0;34m':'\u001b[0m \u001b[0;34m+\u001b[0m \u001b[0mobject_name\u001b[0m\u001b[0;34m)\u001b[0m\u001b[0;34m\u001b[0m\u001b[0;34m\u001b[0m\u001b[0m\n\u001b[0m\u001b[1;32m    211\u001b[0m     \u001b[0;31m# Classes passed by name are instantiated with no args, functions are\u001b[0m\u001b[0;34m\u001b[0m\u001b[0;34m\u001b[0m\u001b[0;34m\u001b[0m\u001b[0m\n\u001b[1;32m    212\u001b[0m     \u001b[0;31m# returned as-is.\u001b[0m\u001b[0;34m\u001b[0m\u001b[0;34m\u001b[0m\u001b[0;34m\u001b[0m\u001b[0m\n",
      "\u001b[0;31mValueError\u001b[0m: Unknown metric function:f1_score"
     ]
    }
   ],
   "source": [
    "# define model\n",
    "model = Sequential()\n",
    "e = Embedding(vocab_size, 100, weights=[embedding_matrix], input_length=500, trainable=False)\n",
    "model.add(e)\n",
    "model.add(Dropout(0.2))\n",
    "model.add(Flatten())\n",
    "model.add(Dense(2, activation='sigmoid'))\n",
    "# compile the model\n",
    "model.compile(optimizer='adam', loss='binary_crossentropy', metrics=['accuracy'])\n",
    "# summarize the model\n",
    "print(model.summary())"
   ]
  },
  {
   "cell_type": "code",
   "execution_count": 0,
   "metadata": {
    "colab": {},
    "colab_type": "code",
    "id": "AKeszB0jfpFK"
   },
   "outputs": [],
   "source": [
    "X = padded_text\n",
    "\n",
    "y = pd.get_dummies(df['label']).values"
   ]
  },
  {
   "cell_type": "code",
   "execution_count": 0,
   "metadata": {
    "colab": {},
    "colab_type": "code",
    "id": "cATl1q2lgiJa"
   },
   "outputs": [],
   "source": [
    "from tensorflow.keras.callbacks import EarlyStopping"
   ]
  },
  {
   "cell_type": "code",
   "execution_count": 43,
   "metadata": {
    "colab": {
     "base_uri": "https://localhost:8080/",
     "height": 1000
    },
    "colab_type": "code",
    "id": "gvMEAAYzf4m4",
    "outputId": "a35e8833-d1af-4913-bcdd-9f2cbfd5beb0"
   },
   "outputs": [
    {
     "name": "stdout",
     "output_type": "stream",
     "text": [
      "Train on 19196 samples, validate on 4800 samples\n",
      "Epoch 1/100\n",
      "19196/19196 [==============================] - 6s 327us/sample - loss: 0.4967 - accuracy: 0.7824 - val_loss: 0.1978 - val_accuracy: 0.9393\n",
      "Epoch 2/100\n",
      "19196/19196 [==============================] - 6s 308us/sample - loss: 0.2326 - accuracy: 0.9124 - val_loss: 0.2343 - val_accuracy: 0.9169\n",
      "Epoch 3/100\n",
      "19196/19196 [==============================] - 6s 305us/sample - loss: 0.1487 - accuracy: 0.9529 - val_loss: 0.3016 - val_accuracy: 0.8891\n",
      "Epoch 4/100\n",
      "19196/19196 [==============================] - 6s 303us/sample - loss: 0.1134 - accuracy: 0.9672 - val_loss: 0.1906 - val_accuracy: 0.9323\n",
      "Epoch 5/100\n",
      "19196/19196 [==============================] - 6s 308us/sample - loss: 0.0866 - accuracy: 0.9793 - val_loss: 0.3266 - val_accuracy: 0.8865\n",
      "Epoch 6/100\n",
      "19196/19196 [==============================] - 6s 306us/sample - loss: 0.0769 - accuracy: 0.9803 - val_loss: 0.2745 - val_accuracy: 0.9051\n",
      "Epoch 7/100\n",
      "19196/19196 [==============================] - 6s 301us/sample - loss: 0.0643 - accuracy: 0.9850 - val_loss: 0.1766 - val_accuracy: 0.9402\n",
      "Epoch 8/100\n",
      "19196/19196 [==============================] - 6s 302us/sample - loss: 0.0544 - accuracy: 0.9886 - val_loss: 0.3043 - val_accuracy: 0.8990\n",
      "Epoch 9/100\n",
      "19196/19196 [==============================] - 6s 305us/sample - loss: 0.0488 - accuracy: 0.9895 - val_loss: 0.2579 - val_accuracy: 0.9174\n",
      "Epoch 10/100\n",
      "19196/19196 [==============================] - 6s 300us/sample - loss: 0.0437 - accuracy: 0.9908 - val_loss: 0.3103 - val_accuracy: 0.9022\n",
      "Epoch 11/100\n",
      "19196/19196 [==============================] - 6s 297us/sample - loss: 0.0440 - accuracy: 0.9901 - val_loss: 0.1926 - val_accuracy: 0.9347\n",
      "Epoch 12/100\n",
      "19196/19196 [==============================] - 6s 301us/sample - loss: 0.0351 - accuracy: 0.9932 - val_loss: 0.2818 - val_accuracy: 0.9134\n",
      "Epoch 13/100\n",
      "19196/19196 [==============================] - 6s 302us/sample - loss: 0.0351 - accuracy: 0.9918 - val_loss: 0.2510 - val_accuracy: 0.9222\n",
      "Epoch 14/100\n",
      "19196/19196 [==============================] - 6s 299us/sample - loss: 0.0328 - accuracy: 0.9920 - val_loss: 0.3216 - val_accuracy: 0.9040\n",
      "Epoch 15/100\n",
      "19196/19196 [==============================] - 6s 301us/sample - loss: 0.0361 - accuracy: 0.9907 - val_loss: 0.1749 - val_accuracy: 0.9464\n",
      "Epoch 16/100\n",
      "19196/19196 [==============================] - 6s 297us/sample - loss: 0.0333 - accuracy: 0.9910 - val_loss: 0.3334 - val_accuracy: 0.9028\n",
      "Epoch 17/100\n",
      "19196/19196 [==============================] - 6s 296us/sample - loss: 0.0320 - accuracy: 0.9916 - val_loss: 0.3513 - val_accuracy: 0.9021\n",
      "Epoch 18/100\n",
      "19196/19196 [==============================] - 6s 298us/sample - loss: 0.0293 - accuracy: 0.9924 - val_loss: 0.3619 - val_accuracy: 0.9004\n",
      "Epoch 19/100\n",
      "19196/19196 [==============================] - 6s 304us/sample - loss: 0.0266 - accuracy: 0.9936 - val_loss: 0.2749 - val_accuracy: 0.9239\n",
      "Epoch 20/100\n",
      "19196/19196 [==============================] - 6s 296us/sample - loss: 0.0315 - accuracy: 0.9917 - val_loss: 0.3058 - val_accuracy: 0.9199\n",
      "Epoch 21/100\n",
      "19196/19196 [==============================] - 6s 301us/sample - loss: 0.0263 - accuracy: 0.9929 - val_loss: 0.4240 - val_accuracy: 0.8951\n",
      "Epoch 22/100\n",
      "19196/19196 [==============================] - 6s 302us/sample - loss: 0.0289 - accuracy: 0.9917 - val_loss: 0.5798 - val_accuracy: 0.8676\n",
      "Epoch 23/100\n",
      "19196/19196 [==============================] - 6s 299us/sample - loss: 0.0265 - accuracy: 0.9922 - val_loss: 0.2812 - val_accuracy: 0.9285\n",
      "Epoch 24/100\n",
      "19196/19196 [==============================] - 6s 293us/sample - loss: 0.0247 - accuracy: 0.9927 - val_loss: 0.4691 - val_accuracy: 0.8907\n",
      "Epoch 25/100\n",
      "19196/19196 [==============================] - 6s 302us/sample - loss: 0.0223 - accuracy: 0.9934 - val_loss: 0.3896 - val_accuracy: 0.9097\n",
      "Epoch 26/100\n",
      "19196/19196 [==============================] - 6s 297us/sample - loss: 0.0225 - accuracy: 0.9929 - val_loss: 0.3967 - val_accuracy: 0.9094\n",
      "Epoch 27/100\n",
      "19196/19196 [==============================] - 6s 298us/sample - loss: 0.0284 - accuracy: 0.9909 - val_loss: 0.3920 - val_accuracy: 0.9081\n",
      "Epoch 28/100\n",
      "19196/19196 [==============================] - 6s 300us/sample - loss: 0.0243 - accuracy: 0.9926 - val_loss: 0.3707 - val_accuracy: 0.9160\n",
      "Epoch 29/100\n",
      "19196/19196 [==============================] - 6s 289us/sample - loss: 0.0271 - accuracy: 0.9915 - val_loss: 0.5764 - val_accuracy: 0.8817\n",
      "Epoch 30/100\n",
      "19196/19196 [==============================] - 6s 294us/sample - loss: 0.0271 - accuracy: 0.9911 - val_loss: 0.4869 - val_accuracy: 0.8998\n",
      "Epoch 31/100\n",
      "19196/19196 [==============================] - 6s 298us/sample - loss: 0.0334 - accuracy: 0.9883 - val_loss: 0.5037 - val_accuracy: 0.9002\n",
      "Epoch 32/100\n",
      "19196/19196 [==============================] - 6s 296us/sample - loss: 0.0231 - accuracy: 0.9924 - val_loss: 0.3277 - val_accuracy: 0.9282\n",
      "Epoch 33/100\n",
      "19196/19196 [==============================] - 6s 296us/sample - loss: 0.0242 - accuracy: 0.9921 - val_loss: 0.4680 - val_accuracy: 0.9083\n",
      "Epoch 34/100\n",
      "19196/19196 [==============================] - 6s 289us/sample - loss: 0.0272 - accuracy: 0.9907 - val_loss: 0.7540 - val_accuracy: 0.8705\n",
      "Epoch 35/100\n",
      "19196/19196 [==============================] - 6s 290us/sample - loss: 0.0233 - accuracy: 0.9926 - val_loss: 0.5292 - val_accuracy: 0.8990\n",
      "Epoch 36/100\n",
      "19196/19196 [==============================] - 6s 290us/sample - loss: 0.0235 - accuracy: 0.9922 - val_loss: 0.5065 - val_accuracy: 0.9030\n",
      "Epoch 37/100\n",
      "19196/19196 [==============================] - 6s 289us/sample - loss: 0.0240 - accuracy: 0.9921 - val_loss: 0.4272 - val_accuracy: 0.9159\n",
      "Epoch 38/100\n",
      "19196/19196 [==============================] - 6s 289us/sample - loss: 0.0229 - accuracy: 0.9926 - val_loss: 0.8783 - val_accuracy: 0.8537\n",
      "Epoch 39/100\n",
      "19196/19196 [==============================] - 6s 288us/sample - loss: 0.0261 - accuracy: 0.9916 - val_loss: 0.8658 - val_accuracy: 0.8544\n",
      "Epoch 40/100\n",
      "19196/19196 [==============================] - 5s 286us/sample - loss: 0.0197 - accuracy: 0.9939 - val_loss: 0.5888 - val_accuracy: 0.8953\n",
      "Epoch 41/100\n",
      "19196/19196 [==============================] - 6s 292us/sample - loss: 0.0201 - accuracy: 0.9937 - val_loss: 0.4789 - val_accuracy: 0.9092\n",
      "Epoch 42/100\n",
      "19196/19196 [==============================] - 6s 289us/sample - loss: 0.0196 - accuracy: 0.9935 - val_loss: 0.8543 - val_accuracy: 0.8583\n",
      "Epoch 43/100\n",
      "19196/19196 [==============================] - 5s 284us/sample - loss: 0.0260 - accuracy: 0.9914 - val_loss: 0.3439 - val_accuracy: 0.9345\n",
      "Epoch 44/100\n",
      "19196/19196 [==============================] - 6s 287us/sample - loss: 0.0232 - accuracy: 0.9918 - val_loss: 0.3940 - val_accuracy: 0.9289\n",
      "Epoch 45/100\n",
      "19196/19196 [==============================] - 6s 288us/sample - loss: 0.0211 - accuracy: 0.9935 - val_loss: 0.4014 - val_accuracy: 0.9301\n",
      "Epoch 46/100\n",
      "19196/19196 [==============================] - 6s 290us/sample - loss: 0.0227 - accuracy: 0.9928 - val_loss: 0.3689 - val_accuracy: 0.9329\n",
      "Epoch 47/100\n",
      "19196/19196 [==============================] - 6s 287us/sample - loss: 0.0229 - accuracy: 0.9927 - val_loss: 0.3959 - val_accuracy: 0.9296\n",
      "Epoch 48/100\n",
      "19196/19196 [==============================] - 5s 282us/sample - loss: 0.0242 - accuracy: 0.9919 - val_loss: 0.3825 - val_accuracy: 0.9323\n",
      "Epoch 49/100\n",
      "19196/19196 [==============================] - 6s 288us/sample - loss: 0.0200 - accuracy: 0.9933 - val_loss: 0.4462 - val_accuracy: 0.9216\n",
      "Epoch 50/100\n",
      "19196/19196 [==============================] - 6s 287us/sample - loss: 0.0193 - accuracy: 0.9936 - val_loss: 0.5005 - val_accuracy: 0.9169\n",
      "Epoch 51/100\n",
      "19196/19196 [==============================] - 6s 291us/sample - loss: 0.0202 - accuracy: 0.9934 - val_loss: 0.9157 - val_accuracy: 0.8676\n",
      "Epoch 52/100\n",
      "19196/19196 [==============================] - 6s 287us/sample - loss: 0.0252 - accuracy: 0.9911 - val_loss: 0.5109 - val_accuracy: 0.9175\n",
      "Epoch 53/100\n",
      "19196/19196 [==============================] - 6s 289us/sample - loss: 0.0201 - accuracy: 0.9932 - val_loss: 0.5595 - val_accuracy: 0.9103\n",
      "Epoch 54/100\n",
      "19196/19196 [==============================] - 5s 285us/sample - loss: 0.0174 - accuracy: 0.9939 - val_loss: 0.5701 - val_accuracy: 0.9086\n",
      "Epoch 55/100\n",
      "19196/19196 [==============================] - 5s 286us/sample - loss: 0.0155 - accuracy: 0.9951 - val_loss: 0.5867 - val_accuracy: 0.9087\n",
      "Epoch 56/100\n",
      "19196/19196 [==============================] - 5s 284us/sample - loss: 0.0174 - accuracy: 0.9944 - val_loss: 0.6468 - val_accuracy: 0.9013\n",
      "Epoch 57/100\n",
      "19196/19196 [==============================] - 6s 289us/sample - loss: 0.0198 - accuracy: 0.9934 - val_loss: 0.7106 - val_accuracy: 0.8958\n",
      "Epoch 58/100\n",
      "19196/19196 [==============================] - 6s 291us/sample - loss: 0.0160 - accuracy: 0.9946 - val_loss: 0.6985 - val_accuracy: 0.8973\n",
      "Epoch 59/100\n",
      "19196/19196 [==============================] - 6s 294us/sample - loss: 0.0187 - accuracy: 0.9939 - val_loss: 0.4604 - val_accuracy: 0.9265\n",
      "Epoch 60/100\n",
      "19196/19196 [==============================] - 5s 284us/sample - loss: 0.0245 - accuracy: 0.9917 - val_loss: 0.8314 - val_accuracy: 0.8820\n",
      "Epoch 61/100\n",
      "19196/19196 [==============================] - 6s 291us/sample - loss: 0.0195 - accuracy: 0.9939 - val_loss: 0.5169 - val_accuracy: 0.9214\n",
      "Epoch 62/100\n",
      "19196/19196 [==============================] - 6s 295us/sample - loss: 0.0197 - accuracy: 0.9933 - val_loss: 0.7750 - val_accuracy: 0.8891\n",
      "Epoch 63/100\n",
      "19196/19196 [==============================] - 5s 285us/sample - loss: 0.0185 - accuracy: 0.9935 - val_loss: 0.6231 - val_accuracy: 0.9081\n",
      "Epoch 64/100\n",
      "19196/19196 [==============================] - 5s 283us/sample - loss: 0.0285 - accuracy: 0.9909 - val_loss: 0.6972 - val_accuracy: 0.8988\n",
      "Epoch 65/100\n",
      "19196/19196 [==============================] - 5s 284us/sample - loss: 0.0180 - accuracy: 0.9941 - val_loss: 0.4103 - val_accuracy: 0.9350\n",
      "Epoch 66/100\n",
      "19196/19196 [==============================] - 6s 291us/sample - loss: 0.0174 - accuracy: 0.9948 - val_loss: 0.4296 - val_accuracy: 0.9324\n",
      "Epoch 67/100\n",
      "19196/19196 [==============================] - 5s 280us/sample - loss: 0.0207 - accuracy: 0.9935 - val_loss: 0.6948 - val_accuracy: 0.9034\n",
      "Epoch 68/100\n",
      "19196/19196 [==============================] - 5s 284us/sample - loss: 0.0178 - accuracy: 0.9943 - val_loss: 0.5774 - val_accuracy: 0.9173\n",
      "Epoch 69/100\n",
      "19196/19196 [==============================] - 5s 285us/sample - loss: 0.0208 - accuracy: 0.9930 - val_loss: 0.8349 - val_accuracy: 0.8873\n",
      "Epoch 70/100\n",
      "19196/19196 [==============================] - 5s 286us/sample - loss: 0.0158 - accuracy: 0.9949 - val_loss: 0.7793 - val_accuracy: 0.8960\n",
      "Epoch 71/100\n",
      "19196/19196 [==============================] - 5s 281us/sample - loss: 0.0146 - accuracy: 0.9951 - val_loss: 0.3959 - val_accuracy: 0.9418\n",
      "Epoch 72/100\n",
      "19196/19196 [==============================] - 5s 285us/sample - loss: 0.0185 - accuracy: 0.9940 - val_loss: 0.8385 - val_accuracy: 0.8864\n",
      "Epoch 73/100\n",
      "19196/19196 [==============================] - 6s 289us/sample - loss: 0.0231 - accuracy: 0.9926 - val_loss: 0.6036 - val_accuracy: 0.9164\n",
      "Epoch 74/100\n",
      "19196/19196 [==============================] - 5s 282us/sample - loss: 0.0155 - accuracy: 0.9949 - val_loss: 0.7882 - val_accuracy: 0.8955\n",
      "Epoch 75/100\n",
      "19196/19196 [==============================] - 5s 283us/sample - loss: 0.0140 - accuracy: 0.9954 - val_loss: 0.4958 - val_accuracy: 0.9278\n",
      "Epoch 76/100\n",
      "19196/19196 [==============================] - 5s 286us/sample - loss: 0.0149 - accuracy: 0.9951 - val_loss: 0.6821 - val_accuracy: 0.9076\n",
      "Epoch 77/100\n",
      "19196/19196 [==============================] - 6s 287us/sample - loss: 0.0170 - accuracy: 0.9948 - val_loss: 0.6568 - val_accuracy: 0.9134\n",
      "Epoch 78/100\n",
      "19196/19196 [==============================] - 5s 282us/sample - loss: 0.0181 - accuracy: 0.9943 - val_loss: 0.7029 - val_accuracy: 0.9077\n",
      "Epoch 79/100\n",
      "19196/19196 [==============================] - 5s 285us/sample - loss: 0.0153 - accuracy: 0.9953 - val_loss: 0.8101 - val_accuracy: 0.8971\n",
      "Epoch 80/100\n",
      "19196/19196 [==============================] - 5s 282us/sample - loss: 0.0194 - accuracy: 0.9938 - val_loss: 0.8542 - val_accuracy: 0.8924\n",
      "Epoch 81/100\n",
      "19196/19196 [==============================] - 5s 284us/sample - loss: 0.0162 - accuracy: 0.9950 - val_loss: 0.4910 - val_accuracy: 0.9309\n",
      "Epoch 82/100\n",
      "19196/19196 [==============================] - 5s 283us/sample - loss: 0.0202 - accuracy: 0.9933 - val_loss: 0.8478 - val_accuracy: 0.8926\n",
      "Epoch 83/100\n",
      "19196/19196 [==============================] - 5s 286us/sample - loss: 0.0170 - accuracy: 0.9946 - val_loss: 0.7484 - val_accuracy: 0.9048\n",
      "Epoch 84/100\n",
      "19196/19196 [==============================] - 6s 291us/sample - loss: 0.0177 - accuracy: 0.9945 - val_loss: 0.6779 - val_accuracy: 0.9123\n",
      "Epoch 85/100\n",
      "19196/19196 [==============================] - 5s 281us/sample - loss: 0.0151 - accuracy: 0.9952 - val_loss: 0.7421 - val_accuracy: 0.9067\n",
      "Epoch 86/100\n",
      "19196/19196 [==============================] - 5s 284us/sample - loss: 0.0179 - accuracy: 0.9946 - val_loss: 0.6519 - val_accuracy: 0.9151\n",
      "Epoch 87/100\n",
      "19196/19196 [==============================] - 5s 283us/sample - loss: 0.0151 - accuracy: 0.9954 - val_loss: 0.5454 - val_accuracy: 0.9271\n",
      "Epoch 88/100\n",
      "19196/19196 [==============================] - 6s 291us/sample - loss: 0.0171 - accuracy: 0.9943 - val_loss: 0.8900 - val_accuracy: 0.8939\n",
      "Epoch 89/100\n",
      "19196/19196 [==============================] - 6s 295us/sample - loss: 0.0168 - accuracy: 0.9946 - val_loss: 0.7421 - val_accuracy: 0.9076\n",
      "Epoch 90/100\n",
      "19196/19196 [==============================] - 5s 286us/sample - loss: 0.0160 - accuracy: 0.9950 - val_loss: 0.7388 - val_accuracy: 0.9110\n",
      "Epoch 91/100\n",
      "19196/19196 [==============================] - 5s 284us/sample - loss: 0.0179 - accuracy: 0.9947 - val_loss: 1.2447 - val_accuracy: 0.8639\n",
      "Epoch 92/100\n",
      "19196/19196 [==============================] - 5s 285us/sample - loss: 0.0195 - accuracy: 0.9940 - val_loss: 0.8886 - val_accuracy: 0.8989\n",
      "Epoch 93/100\n",
      "19196/19196 [==============================] - 6s 287us/sample - loss: 0.0138 - accuracy: 0.9962 - val_loss: 0.6403 - val_accuracy: 0.9219\n",
      "Epoch 94/100\n",
      "19196/19196 [==============================] - 5s 286us/sample - loss: 0.0136 - accuracy: 0.9954 - val_loss: 0.7519 - val_accuracy: 0.9117\n",
      "Epoch 95/100\n",
      "19196/19196 [==============================] - 5s 286us/sample - loss: 0.0173 - accuracy: 0.9947 - val_loss: 0.5940 - val_accuracy: 0.9271\n",
      "Epoch 96/100\n",
      "19196/19196 [==============================] - 5s 282us/sample - loss: 0.0167 - accuracy: 0.9950 - val_loss: 1.0573 - val_accuracy: 0.8831\n",
      "Epoch 97/100\n",
      "19196/19196 [==============================] - 5s 282us/sample - loss: 0.0133 - accuracy: 0.9956 - val_loss: 0.6342 - val_accuracy: 0.9231\n",
      "Epoch 98/100\n",
      "19196/19196 [==============================] - 5s 276us/sample - loss: 0.0168 - accuracy: 0.9945 - val_loss: 1.1885 - val_accuracy: 0.8729\n",
      "Epoch 99/100\n",
      "19196/19196 [==============================] - 5s 278us/sample - loss: 0.0160 - accuracy: 0.9949 - val_loss: 0.9518 - val_accuracy: 0.8919\n",
      "Epoch 100/100\n",
      "19196/19196 [==============================] - 5s 282us/sample - loss: 0.0211 - accuracy: 0.9939 - val_loss: 0.5814 - val_accuracy: 0.9280\n"
     ]
    }
   ],
   "source": [
    "h = model.fit(X, y, batch_size = 128, epochs=100, verbose=1, validation_split= .2)\n",
    "#callbacks=[EarlyStopping(monitor='val_accuracy', patience=2, min_delta=0.0001)]"
   ]
  },
  {
   "cell_type": "code",
   "execution_count": 44,
   "metadata": {
    "colab": {
     "base_uri": "https://localhost:8080/",
     "height": 281
    },
    "colab_type": "code",
    "id": "s-s2ZidpgwM0",
    "outputId": "651c0aeb-e845-4788-f9db-b1b10cb0bbcd"
   },
   "outputs": [
    {
     "data": {
      "image/png": "[encoded data removed]",
      "text/plain": [
       "<Figure size 432x288 with 1 Axes>"
      ]
     },
     "metadata": {
      "tags": []
     },
     "output_type": "display_data"
    }
   ],
   "source": [
    "plt.title('Accuracy')\n",
    "plt.plot(h.history['accuracy'], label='train', color = 'violet')\n",
    "plt.plot(h.history['val_accuracy'], label='test', color = 'cyan')\n",
    "plt.legend()\n",
    "plt.show();"
   ]
  },
  {
   "cell_type": "code",
   "execution_count": 48,
   "metadata": {
    "colab": {
     "base_uri": "https://localhost:8080/",
     "height": 35
    },
    "colab_type": "code",
    "id": "6-wJV3Q9p5TG",
    "outputId": "e90149ad-49c1-46bf-a27d-8233d98aa910"
   },
   "outputs": [
    {
     "data": {
      "text/plain": [
       "array([0, 0, 1, ..., 1, 0, 1])"
      ]
     },
     "execution_count": 48,
     "metadata": {
      "tags": []
     },
     "output_type": "execute_result"
    }
   ],
   "source": [
    "preds = model.predict(X)\n",
    "pred_label = model.predict_classes(X)\n",
    "\n",
    "pred_label"
   ]
  },
  {
   "cell_type": "code",
   "execution_count": 49,
   "metadata": {
    "colab": {
     "base_uri": "https://localhost:8080/",
     "height": 203
    },
    "colab_type": "code",
    "id": "9DZwZMyqiULm",
    "outputId": "79d8e056-8193-4390-afb6-709a06a23763"
   },
   "outputs": [
    {
     "data": {
      "text/html": [
       "<div>\n",
       "<style scoped>\n",
       "    .dataframe tbody tr th:only-of-type {\n",
       "        vertical-align: middle;\n",
       "    }\n",
       "\n",
       "    .dataframe tbody tr th {\n",
       "        vertical-align: top;\n",
       "    }\n",
       "\n",
       "    .dataframe thead th {\n",
       "        text-align: right;\n",
       "    }\n",
       "</style>\n",
       "<table border=\"1\" class=\"dataframe\">\n",
       "  <thead>\n",
       "    <tr style=\"text-align: right;\">\n",
       "      <th></th>\n",
       "      <th>clean_text</th>\n",
       "      <th>label</th>\n",
       "      <th>pred</th>\n",
       "      <th>prob_true</th>\n",
       "      <th>prob_fake</th>\n",
       "    </tr>\n",
       "  </thead>\n",
       "  <tbody>\n",
       "    <tr>\n",
       "      <th>0</th>\n",
       "      <td>U S Secretary of State John F Kerry said Monda...</td>\n",
       "      <td>1</td>\n",
       "      <td>0</td>\n",
       "      <td>0.238054</td>\n",
       "      <td>0.231172</td>\n",
       "    </tr>\n",
       "    <tr>\n",
       "      <th>1</th>\n",
       "      <td>It s primary day in New York and front runner ...</td>\n",
       "      <td>1</td>\n",
       "      <td>0</td>\n",
       "      <td>0.345764</td>\n",
       "      <td>0.274369</td>\n",
       "    </tr>\n",
       "    <tr>\n",
       "      <th>2</th>\n",
       "      <td>A Czech stockbroker who saved more than 650 Je...</td>\n",
       "      <td>1</td>\n",
       "      <td>1</td>\n",
       "      <td>0.374681</td>\n",
       "      <td>0.569897</td>\n",
       "    </tr>\n",
       "    <tr>\n",
       "      <th>3</th>\n",
       "      <td>Hillary Clinton and Donald Trump made some ina...</td>\n",
       "      <td>1</td>\n",
       "      <td>1</td>\n",
       "      <td>0.108573</td>\n",
       "      <td>0.363198</td>\n",
       "    </tr>\n",
       "    <tr>\n",
       "      <th>4</th>\n",
       "      <td>Iranian negotiator reportedly have made a last...</td>\n",
       "      <td>1</td>\n",
       "      <td>0</td>\n",
       "      <td>0.227945</td>\n",
       "      <td>0.206285</td>\n",
       "    </tr>\n",
       "  </tbody>\n",
       "</table>\n",
       "</div>"
      ],
      "text/plain": [
       "                                          clean_text  ...  prob_fake\n",
       "0  U S Secretary of State John F Kerry said Monda...  ...   0.231172\n",
       "1  It s primary day in New York and front runner ...  ...   0.274369\n",
       "2  A Czech stockbroker who saved more than 650 Je...  ...   0.569897\n",
       "3  Hillary Clinton and Donald Trump made some ina...  ...   0.363198\n",
       "4  Iranian negotiator reportedly have made a last...  ...   0.206285\n",
       "\n",
       "[5 rows x 5 columns]"
      ]
     },
     "execution_count": 49,
     "metadata": {
      "tags": []
     },
     "output_type": "execute_result"
    }
   ],
   "source": [
    "df['pred'] = pred_label\n",
    "\n",
    "probs = model.predict_proba(X)\n",
    "\n",
    "prob_true = []\n",
    "prob_fake = []\n",
    "\n",
    "for i in range(len(df.index)):\n",
    "    prob_true.append(probs[i][0])\n",
    "    prob_fake.append(probs[i][1])\n",
    "\n",
    "df['prob_true'] = prob_true\n",
    "df['prob_fake'] = prob_fake\n",
    "\n",
    "df.head()\n",
    "    "
   ]
  },
  {
   "cell_type": "code",
   "execution_count": 0,
   "metadata": {
    "colab": {},
    "colab_type": "code",
    "id": "vyir9Q1aqgfX"
   },
   "outputs": [],
   "source": [
    "df.to_csv('nn_preds_df.csv')"
   ]
  },
  {
   "cell_type": "code",
   "execution_count": 54,
   "metadata": {
    "colab": {
     "base_uri": "https://localhost:8080/",
     "height": 70
    },
    "colab_type": "code",
    "id": "pVXqauCErRzA",
    "outputId": "19358fd5-c798-466a-aa9c-b6663a68389a"
   },
   "outputs": [
    {
     "data": {
      "text/plain": [
       "1    15155\n",
       "0     8841\n",
       "Name: pred, dtype: int64"
      ]
     },
     "execution_count": 54,
     "metadata": {
      "tags": []
     },
     "output_type": "execute_result"
    }
   ],
   "source": [
    "df['pred'].value_counts()"
   ]
  },
  {
   "cell_type": "code",
   "execution_count": 53,
   "metadata": {
    "colab": {
     "base_uri": "https://localhost:8080/",
     "height": 70
    },
    "colab_type": "code",
    "id": "sF9NLHiXrGJE",
    "outputId": "0a011b99-b9c4-409f-cb21-134caf6e8cb8"
   },
   "outputs": [
    {
     "data": {
      "text/plain": [
       "-1    16847\n",
       " 1     7149\n",
       "Name: label, dtype: int64"
      ]
     },
     "execution_count": 53,
     "metadata": {
      "tags": []
     },
     "output_type": "execute_result"
    }
   ],
   "source": [
    "df['label'].value_counts()"
   ]
  },
  {
   "cell_type": "code",
   "execution_count": 0,
   "metadata": {
    "colab": {},
    "colab_type": "code",
    "id": "JcRcHih6rO1v"
   },
   "outputs": [],
   "source": [
    "df['label'] = df['label'].map({-1: 1, 1: 0})"
   ]
  },
  {
   "cell_type": "code",
   "execution_count": 57,
   "metadata": {
    "colab": {
     "base_uri": "https://localhost:8080/",
     "height": 70
    },
    "colab_type": "code",
    "id": "ksKwYk_uq3iy",
    "outputId": "3abae667-f113-42ef-ee85-5066ac61f030"
   },
   "outputs": [
    {
     "name": "stdout",
     "output_type": "stream",
     "text": [
      "The f1 score is 0.6472095494031624\n",
      "The precision score is 0.6833388320686242\n",
      "The recall score is 0.6147088502403989\n"
     ]
    }
   ],
   "source": [
    "from sklearn.metrics import f1_score, precision_score, recall_score, accuracy_score\n",
    "\n",
    "print(f'The f1 score is {f1_score(df[\"label\"], df[\"pred\"])}')\n",
    "\n",
    "print(f'The precision score is {precision_score(df[\"label\"], df[\"pred\"])}')\n",
    "\n",
    "print(f'The recall score is {recall_score(df[\"label\"], df[\"pred\"])}')"
   ]
  },
  {
   "cell_type": "code",
   "execution_count": 58,
   "metadata": {
    "colab": {
     "base_uri": "https://localhost:8080/",
     "height": 35
    },
    "colab_type": "code",
    "id": "zvMB1FE0rn7d",
    "outputId": "0a829ce0-188a-4484-e664-bb24c969867c"
   },
   "outputs": [
    {
     "name": "stdout",
     "output_type": "stream",
     "text": [
      "The accuracy score is 0.5295049174862477\n"
     ]
    }
   ],
   "source": [
    "print(f'The accuracy score is {accuracy_score(df[\"label\"], df[\"pred\"])}')"
   ]
  }
 ],
 "metadata": {
  "accelerator": "GPU",
  "colab": {
   "collapsed_sections": [],
   "name": "GloVe_NN.ipynb",
   "provenance": []
  },
  "kernelspec": {
   "display_name": "Python 3",
   "language": "python",
   "name": "python3"
  },
  "language_info": {
   "codemirror_mode": {
    "name": "ipython",
    "version": 3
   },
   "file_extension": ".py",
   "mimetype": "text/x-python",
   "name": "python",
   "nbconvert_exporter": "python",
   "pygments_lexer": "ipython3",
   "version": "3.6.9"
  }
 },
 "nbformat": 4,
 "nbformat_minor": 1
}
