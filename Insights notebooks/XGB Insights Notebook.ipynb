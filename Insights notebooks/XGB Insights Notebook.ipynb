{
 "cells": [
  {
   "cell_type": "code",
   "execution_count": 1,
   "metadata": {},
   "outputs": [],
   "source": [
    "import pandas as pd\n",
    "import matplotlib.pyplot as plt\n",
    "\n",
    "from sklearn.model_selection import train_test_split\n",
    "from sklearn.feature_extraction.text import CountVectorizer, TfidfVectorizer\n",
    "from sklearn.metrics import roc_auc_score, f1_score, precision_score, recall_score\n",
    "\n",
    "import xgboost\n",
    "from xgboost.sklearn import XGBClassifier"
   ]
  },
  {
   "cell_type": "code",
   "execution_count": 2,
   "metadata": {},
   "outputs": [
    {
     "data": {
      "text/plain": [
       "clean_text    0.004604\n",
       "label         0.000000\n",
       "dtype: float64"
      ]
     },
     "execution_count": 2,
     "metadata": {},
     "output_type": "execute_result"
    }
   ],
   "source": [
    "df = pd.read_csv('../../datasets/Fake_finder/clean_text.csv')\n",
    "\n",
    "df.drop(columns = 'Unnamed: 0', inplace = True)\n",
    "\n",
    "df.isna().mean()"
   ]
  },
  {
   "cell_type": "code",
   "execution_count": 3,
   "metadata": {},
   "outputs": [],
   "source": [
    "df.dropna(inplace = True)"
   ]
  },
  {
   "cell_type": "code",
   "execution_count": null,
   "metadata": {},
   "outputs": [],
   "source": []
  },
  {
   "cell_type": "code",
   "execution_count": 4,
   "metadata": {},
   "outputs": [],
   "source": [
    "tf = TfidfVectorizer(max_df=0.8, min_df = 3, stop_words = 'english', ngram_range=(1,2))\n",
    "\n",
    "X = tf.fit_transform(df['clean_text'])\n",
    "y = df['label']\n",
    "\n",
    "X_train, X_test, y_train, y_test = train_test_split(X, y, stratify=y, random_state = 42)"
   ]
  },
  {
   "cell_type": "code",
   "execution_count": 5,
   "metadata": {},
   "outputs": [
    {
     "data": {
      "text/plain": [
       "XGBClassifier(base_score=0.5, booster='gbtree', colsample_bylevel=1,\n",
       "              colsample_bynode=1, colsample_bytree=1, gamma=0,\n",
       "              learning_rate=0.1, max_delta_step=0, max_depth=8,\n",
       "              min_child_weight=1, missing=None, n_estimators=100, n_jobs=-1,\n",
       "              nthread=None, objective='binary:logistic', random_state=0,\n",
       "              reg_alpha=0, reg_lambda=1, scale_pos_weight=1, seed=None,\n",
       "              silent=None, subsample=1, verbosity=1)"
      ]
     },
     "execution_count": 5,
     "metadata": {},
     "output_type": "execute_result"
    }
   ],
   "source": [
    "xgb = xgboost.XGBClassifier(max_depth=8, n_jobs = -1, verbosity=1)\n",
    "\n",
    "xgb.fit(X_train, y_train)"
   ]
  },
  {
   "cell_type": "code",
   "execution_count": 6,
   "metadata": {},
   "outputs": [
    {
     "name": "stdout",
     "output_type": "stream",
     "text": [
      "Training score is 0.983052731010724\n",
      "Test score is 0.9444907484580763\n"
     ]
    }
   ],
   "source": [
    "print(f'Training score is {xgb.score(X_train, y_train)}')\n",
    "print(f'Test score is {xgb.score(X_test, y_test)}')"
   ]
  },
  {
   "cell_type": "code",
   "execution_count": 7,
   "metadata": {},
   "outputs": [],
   "source": [
    "probs = xgb.predict_proba(X)\n",
    "pred_label = xgb.predict(X)\n",
    "\n",
    "df['pred'] = pred_label\n",
    "\n",
    "\n",
    "prob_true = []\n",
    "prob_fake = []\n",
    "\n",
    "for i in range(len(df.index)):\n",
    "    prob_true.append(probs[i][0])\n",
    "    prob_fake.append(probs[i][1])\n",
    "\n",
    "df['prob_true'] = prob_true\n",
    "df['prob_fake'] = prob_fake"
   ]
  },
  {
   "cell_type": "code",
   "execution_count": 8,
   "metadata": {},
   "outputs": [
    {
     "name": "stdout",
     "output_type": "stream",
     "text": [
      "The f1 score is 0.9541732509696883\n",
      "The precision score is 0.9806584969732762\n",
      "The recall score is 0.9290809903483005\n"
     ]
    }
   ],
   "source": [
    "print(f'The f1 score is {f1_score(df[\"label\"], df[\"pred\"])}')\n",
    "\n",
    "\n",
    "print(f'The precision score is {precision_score(df[\"label\"], df[\"pred\"])}')\n",
    "\n",
    "\n",
    "print(f'The recall score is {recall_score(df[\"label\"], df[\"pred\"])}')"
   ]
  },
  {
   "cell_type": "code",
   "execution_count": 9,
   "metadata": {},
   "outputs": [
    {
     "data": {
      "text/plain": [
       "Index(['clean_text', 'label', 'pred', 'prob_true', 'prob_fake'], dtype='object')"
      ]
     },
     "execution_count": 9,
     "metadata": {},
     "output_type": "execute_result"
    }
   ],
   "source": [
    "df.columns"
   ]
  },
  {
   "cell_type": "code",
   "execution_count": 10,
   "metadata": {},
   "outputs": [],
   "source": [
    "df.columns = ['clean_text', 'label', 'pred', 'prob_fake', 'prob_true']"
   ]
  },
  {
   "cell_type": "code",
   "execution_count": 11,
   "metadata": {
    "scrolled": true
   },
   "outputs": [
    {
     "data": {
      "text/html": [
       "<div>\n",
       "<style scoped>\n",
       "    .dataframe tbody tr th:only-of-type {\n",
       "        vertical-align: middle;\n",
       "    }\n",
       "\n",
       "    .dataframe tbody tr th {\n",
       "        vertical-align: top;\n",
       "    }\n",
       "\n",
       "    .dataframe thead th {\n",
       "        text-align: right;\n",
       "    }\n",
       "</style>\n",
       "<table border=\"1\" class=\"dataframe\">\n",
       "  <thead>\n",
       "    <tr style=\"text-align: right;\">\n",
       "      <th></th>\n",
       "      <th>clean_text</th>\n",
       "      <th>label</th>\n",
       "      <th>pred</th>\n",
       "      <th>prob_fake</th>\n",
       "      <th>prob_true</th>\n",
       "    </tr>\n",
       "  </thead>\n",
       "  <tbody>\n",
       "    <tr>\n",
       "      <th>2191</th>\n",
       "      <td>CNN Politicians journalist and conservative ac...</td>\n",
       "      <td>1</td>\n",
       "      <td>1</td>\n",
       "      <td>0.001247</td>\n",
       "      <td>0.998753</td>\n",
       "    </tr>\n",
       "    <tr>\n",
       "      <th>1559</th>\n",
       "      <td>The strength of anti establishment fervor in t...</td>\n",
       "      <td>1</td>\n",
       "      <td>1</td>\n",
       "      <td>0.000997</td>\n",
       "      <td>0.999003</td>\n",
       "    </tr>\n",
       "    <tr>\n",
       "      <th>2587</th>\n",
       "      <td>WASHINGTON Facing an increasingly narrow path ...</td>\n",
       "      <td>1</td>\n",
       "      <td>1</td>\n",
       "      <td>0.000993</td>\n",
       "      <td>0.999007</td>\n",
       "    </tr>\n",
       "    <tr>\n",
       "      <th>1794</th>\n",
       "      <td>Hillary Clinton and Donald Trump look to rebou...</td>\n",
       "      <td>1</td>\n",
       "      <td>1</td>\n",
       "      <td>0.000740</td>\n",
       "      <td>0.999260</td>\n",
       "    </tr>\n",
       "  </tbody>\n",
       "</table>\n",
       "</div>"
      ],
      "text/plain": [
       "                                             clean_text  label  pred  \\\n",
       "2191  CNN Politicians journalist and conservative ac...      1     1   \n",
       "1559  The strength of anti establishment fervor in t...      1     1   \n",
       "2587  WASHINGTON Facing an increasingly narrow path ...      1     1   \n",
       "1794  Hillary Clinton and Donald Trump look to rebou...      1     1   \n",
       "\n",
       "      prob_fake  prob_true  \n",
       "2191   0.001247   0.998753  \n",
       "1559   0.000997   0.999003  \n",
       "2587   0.000993   0.999007  \n",
       "1794   0.000740   0.999260  "
      ]
     },
     "execution_count": 11,
     "metadata": {},
     "output_type": "execute_result"
    }
   ],
   "source": [
    "df.sort_values(by = 'prob_fake', ascending=False).tail(4)"
   ]
  },
  {
   "cell_type": "code",
   "execution_count": 12,
   "metadata": {},
   "outputs": [
    {
     "data": {
      "text/html": [
       "<div>\n",
       "<style scoped>\n",
       "    .dataframe tbody tr th:only-of-type {\n",
       "        vertical-align: middle;\n",
       "    }\n",
       "\n",
       "    .dataframe tbody tr th {\n",
       "        vertical-align: top;\n",
       "    }\n",
       "\n",
       "    .dataframe thead th {\n",
       "        text-align: right;\n",
       "    }\n",
       "</style>\n",
       "<table border=\"1\" class=\"dataframe\">\n",
       "  <thead>\n",
       "    <tr style=\"text-align: right;\">\n",
       "      <th></th>\n",
       "      <th>clean_text</th>\n",
       "      <th>label</th>\n",
       "      <th>pred</th>\n",
       "      <th>prob_fake</th>\n",
       "      <th>prob_true</th>\n",
       "    </tr>\n",
       "  </thead>\n",
       "  <tbody>\n",
       "    <tr>\n",
       "      <th>23640</th>\n",
       "      <td>Subscribe John Pilger did an interview with As...</td>\n",
       "      <td>-1</td>\n",
       "      <td>-1</td>\n",
       "      <td>0.999566</td>\n",
       "      <td>0.000434</td>\n",
       "    </tr>\n",
       "    <tr>\n",
       "      <th>20304</th>\n",
       "      <td>Billionaire Globalist Soros Exposed a Hidden H...</td>\n",
       "      <td>-1</td>\n",
       "      <td>-1</td>\n",
       "      <td>0.999550</td>\n",
       "      <td>0.000450</td>\n",
       "    </tr>\n",
       "    <tr>\n",
       "      <th>12261</th>\n",
       "      <td>Billionaire Globalist Soros Exposed a Hidden H...</td>\n",
       "      <td>-1</td>\n",
       "      <td>-1</td>\n",
       "      <td>0.999550</td>\n",
       "      <td>0.000450</td>\n",
       "    </tr>\n",
       "    <tr>\n",
       "      <th>24018</th>\n",
       "      <td>We Are Change In the last few day we have seen...</td>\n",
       "      <td>-1</td>\n",
       "      <td>-1</td>\n",
       "      <td>0.999381</td>\n",
       "      <td>0.000618</td>\n",
       "    </tr>\n",
       "  </tbody>\n",
       "</table>\n",
       "</div>"
      ],
      "text/plain": [
       "                                              clean_text  label  pred  \\\n",
       "23640  Subscribe John Pilger did an interview with As...     -1    -1   \n",
       "20304  Billionaire Globalist Soros Exposed a Hidden H...     -1    -1   \n",
       "12261  Billionaire Globalist Soros Exposed a Hidden H...     -1    -1   \n",
       "24018  We Are Change In the last few day we have seen...     -1    -1   \n",
       "\n",
       "       prob_fake  prob_true  \n",
       "23640   0.999566   0.000434  \n",
       "20304   0.999550   0.000450  \n",
       "12261   0.999550   0.000450  \n",
       "24018   0.999381   0.000618  "
      ]
     },
     "execution_count": 12,
     "metadata": {},
     "output_type": "execute_result"
    }
   ],
   "source": [
    "df.sort_values(by = 'prob_fake', ascending=False).head(4)"
   ]
  },
  {
   "cell_type": "markdown",
   "metadata": {},
   "source": [
    "1794, 2587, 1559, 2191\n",
    "\n",
    "24018, 20304, 12261, 23640"
   ]
  },
  {
   "cell_type": "code",
   "execution_count": 13,
   "metadata": {},
   "outputs": [
    {
     "data": {
      "text/plain": [
       "'Billionaire Globalist Soros Exposed a Hidden Hand Behind Trump Protests Provoking US Color Revolution Billionaire globalist financier George Soros MoveOn org ha been revealed to be a driving force beh Print Email http humansarefree com 2016 11 billionaire globalist soros exposed a html Billionaire globalist financier George Soros MoveOn org ha been revealed to be a driving force behind the organizing of nationwide protest against the election of Donald Trump exposing the protest to largely be an organized top down operation and not an organic movement of concerned Americans taking to the street a reported by the mainstream medium Wednesday saw protest in the street of at least 10 major U S city Chicago New York Los Angeles Philadelphia Boston Washington D C Portland Ore St Paul Minn Seattle and several other city saw protest according to USA Today In light of the protest and rioting that have transpired since the election of Trump a closer analysis of the dynamic at play is warranted to gauge whether it s an organic grassroots movement or something much more organized sophisticated and potentially dangerous Soros affiliated organization MoveOn org released the following press release yesterday afternoon Americans to Come Together in Hundreds Peaceful Gatherings of Solidarity Resistance and Resolve Following Election Results Hundreds of Americans dozen of organization to gather peacefully outside the White House and in city and town nationwide to take a continued stand against misogyny racism Islamophobia and xenophobia Tonight thousand of Americans will come together at hundred of peaceful gathering in city and town across the nation including outside the White House following the result of Tuesday s presidential election The gathering organized by MoveOn org and ally will affirm a continued rejection of Donald Trump s bigotry xenophobia Islamophobia and misogyny and demonstrate our resolve to fight together for the America we still believe is possible Within two hour of the call to action MoveOn member had created more than 200 gathering nationwide with the number continuing to grow on Wednesday afternoon Now come report from various protest location that reveal a substantially coordinated effort and not the organic grassroots showing by concerned Americans a the mainstream medium is reporting Photos from Austin Texas reveal a line of bus the protestors arrived in making their appearance seem substantially le than organic with a direct implication of being strategically orchestrated Anti Trump protestors in Austin today are not a organic a they seem Here are the bus they came in fakeprotests trump2016 austin pic twitter com VxhP7t6OUI erictucker erictucker November 10 2016 With evidence mounting the question must be asked is George Soros working through his front organization to foment an American revolution BeshoyBadie desjax erictucker Pretty evident that the sign were printed by Soros and Creamer group IIRC Soros linked w MB Huma pic twitter com KgXvIQr2b8 MEGATRON MEGATRONs_SMIRK November 10 2016 Note that the group is actively organizing protest to a democratic election that no one is contesting the legitimacy of in term of whether the vote wa rigged etc Essentially they are displeased with the result and are calling for people to rise up and not accept the result For an organization that feigns to promote democracy their action speak otherwise This is a disaster We fought our heart out to avert this reality But now it s here MoveOn org staff wrote to member on Wednesday The new president elect and many of his most prominent supporter have targeted demeaned and threatened million of u and million of our friend family and loved one Both chamber of Congress remain in Republican hand We are entering an era of profound and unprecedented challenge a time of danger for our community and our country In this moment we have to take care of ourselves our family and our friend especially those of u who are on the front line facing hate including Latinos woman immigrant refugee Black people Muslims LGBT Americans and so many others And we need to make it clear that we will continue to stand together Perhaps the most absurd part of the protest is that President elect Trump hasn t made a single policy decision yet and in fact the entire section of his website regarding banning Muslims wa scrubbed shortly after his election This denotes that anything said during the campaign wa most likely simple election campaign rhetoric and subsequent framing of said rhetoric by the opposition The left wing organization is one of a number of progressive organization affiliated with Soros Open Society Foundation Soros affiliated organization across the world are deeply connected to various color revolution the Arab Spring and a number of other political uprising across the globe According to a report in New Eastern Outlook The totality of what is revealed in the three hacked document show that Soros is effectively the puppet master pulling most of the string in Kiev Soros Foundation s Ukraine branch International Renaissance Foundation IRF ha been involved in Ukraine since 1989 His IRF doled out more than 100 million to Ukrainian NGOs two year before the fall of the Soviet Union creating the precondition for Ukraine s independence from Russia in 1991 Soros also admitted to financing the 2013 2014 Maidan Square protest that brought the current government into power Soros foundation were also deeply involved in the 2004 Orange Revolution that brought the corrupt but pro NATO Viktor Yushchenko into power with his American wife who had been in the US State Department In 2004 just week after Soros International Renaissance Foundation had succeeded in getting Viktor Yushchenko a President of Ukraine Michael McFaul wrote an OpEd for the Washington Post McFaul a specialist in organizing color revolution who later became US Ambassador to Russia revealed Did Americans meddle in the internal affair of Ukraine Yes The American agent of influence would prefer different language to describe their activity democratic assistance democracy promotion civil society support etc but their work however labeled seek to influence political change in Ukraine Anyone familiar with the history of the Soros Open Society Foundations in Eastern Europe and around the world since the late 1980 s will know that his supposedly philanthropic democracy building project in Poland Russia or Ukraine in the 1990 s allowed Soros the businessman to literally plunder the former communist country wealth according to the New Eastern Outlook During the 2016 presidential cycle Soros committed 25 million dollar to the 2016 campaign of Hillary Clinton Per the standard Clinton operating procedure this wa indicative of the symbiotic relationship of favor between the billionaire and his array of political puppet across the globe As a testament to the power wielded by Soros contained within WikiLeaks recent release of hacked DNC email is a message from billionaire globalist financier George Soros to Hillary Clinton while she wa U S Secretary of State that clearly reveals Clinton a a Soros puppet Found within the WikiLeaks Hillary Clinton email archive is an email with the subject Unrest in Albania in which Soros make clear to Clinton that two thing need to be done urgently The Clinton Podesta Email Scandal is All About SATANISM and Pedophilia Sacrificing a Chicken to Moloch He then directs the Secretary of State to bring the full weight of the international community to bear on Prime Minister Berisha and appoint a senior European official a mediator Revealing the influence he wields within the corridor of power Soros then provides Secretary of State Clinton with three name from which to choose Unsurprisingly Clinton acquiesced and chose one of the official recommended by Soros Miroslav Lajcak Make no mistake that the event you re seeing transpire nationwide are being orchestrated in part by a billionaire political elite class that is looking to subvert the will of the American people by attempting to foment a new American revolution Soros formula ha been duplicated in numerous nation and it look a if he now ha the U S in his sight a the next target Please share this critically import story in hope of waking people up to the globalist agenda at work here in America By Jay Syrmopoulos Dear Friends HumansAreFree is and will always be free to access and use If you appreciate my work please help me continue Stay updated via Email Newsletter Related'"
      ]
     },
     "execution_count": 13,
     "metadata": {},
     "output_type": "execute_result"
    }
   ],
   "source": [
    "df['clean_text'][20304]"
   ]
  },
  {
   "cell_type": "code",
   "execution_count": 14,
   "metadata": {
    "scrolled": true
   },
   "outputs": [
    {
     "data": {
      "text/plain": [
       "'CNN Politicians journalist and conservative activist will swoop into Des Moines this weekend for a major gathering of Republicans that s widely viewed a the first cattle call this cycle for the GOP presidential race Close to 10 potential candidate will speak at the daylong Iowa Freedom Summit on Saturday co hosted by the group Citizens United and Rep Steve King a high profile Republican from Iowa with serious clout among social conservative With Iowa the first state to vote in the presidential nominating season it s considered a must stop for White House hopeful on both side of the aisle and this weekend give 2016 player a chance to roll out their message to core caucus goer strategist say Among those expected to speak are New Jersey Gov Chris Christie Sen Ted Cruz of Texas Wisconsin Gov Scott Walker former Texas Gov Rick Perry former Arkansas Gov Mike Huckabee renowned neurosurgeon Ben Carson former Sen Rick Santorum of Pennsylvania and former Hewlett Packard CEO Carly Fiorina Notably the top two potential contender in the GOP race Jeb Bush and Mitt Romney are bypassing the event both citing scheduling conflict Also skipping Iowa this weekend are Sen Rand Paul of Kentucky who took a pas on a similar Iowa gathering of conservative back in August and Sen Marco Rubio of Florida who s holding his own retreat with donor and supporter in Miami Beach this weekend a he prepares to make a 2016 decision Rubio and Paul however will join Cruz to speak at an event in Palm Springs California on Sunday that s hosted by a group backed by the Koch Brothers The odd one out One of the most highly anticipated speaker is Christie who s considered the one not like the others at this weekend s assembly Twice elected in a blue state Christie s staked out more moderate and pragmatic territory on the political spectrum He angered social conservative when he dropped a legal challenge in 2013 against a court ruling that got rid of New Jersey s same sex marriage ban He also stirred up some controversy when he at first declined to offer his opinion on the Supreme Court s ruling in favor of Hobby Lobby last year which said private company cannot be required to pay to cover some type of contraceptive for their employee When talking about social issue Christie ha largely focused on his effort to enhance drug rehabilitation program in his state especially for non violent criminal with drug conviction The governor ha made five trip to Iowa in the past year including stop to help raise money for King and Gov Terry Branstad With Romney and Bush soaking up much of the attention and resource among establishment Republicans the summit will provide Christie a chance to stand out and earn point for simply showing up In term of optic I think it clear that Gov Christie intends to run and ha every intention to speaking to a many Iowans a possible said Nick Ryan a Republican strategist from Iowa That s how you build a winning coalition and he seems to get that What we ll be looking for Christie ha also been mum on his view about immigration reform Political observer will be watching to see what candidate say about the issue in Iowa this week King one of the GOP s most vocal and flashy opponent of a pathway to citizenship for undocumented worker made headline recently when he referred to a guest at the State of the Union address a a deportable While King s comment on immigration have agitated even those within his party he s still considered popular in his home state and a highly sought after name when candidate stop through Iowa Other issue that could get frequent mention this weekend include same sex marriage and abortion Both topic have seen renewed attention in the last week after the Supreme Court decided a week ago to take up same sex marriag e this year The court will essentially decide whether state have the right to ban gay and lesbian couple from getting married Also on the social front the House in a battle that pitted Republicans against each other passed a measure Thursday banning all taxpayer money for abortion after it failed to pas a bill that would ban so called late term abortion This week also marked the 42nd anniversary of the Roe v Wade decision and ten of thousand of anti abortion right activist marched in the nation s capital to bring attention to the issue Like Christie some Republicans have also taken on criminal justice reform and anti poverty policy a key talking point in their platform We ll see how potential candidate tackle those issue this weekend especially a the party on the national level ha made effort to appeal to a wider audience Several of the potential candidate plan to stay longer in Iowa Huckabee ha book signing on Sunday in Cedar Rapids and Windsor Heights Iowa while Perry is staying until Monday and Santorum until Tuesday for multiple event throughout the state'"
      ]
     },
     "execution_count": 14,
     "metadata": {},
     "output_type": "execute_result"
    }
   ],
   "source": [
    "df['clean_text'][2191]"
   ]
  },
  {
   "cell_type": "code",
   "execution_count": 23,
   "metadata": {},
   "outputs": [],
   "source": [
    "df_close = df[(df['prob_fake'] < .55) & (df['prob_fake'] > .45 )]"
   ]
  },
  {
   "cell_type": "code",
   "execution_count": 24,
   "metadata": {
    "scrolled": true
   },
   "outputs": [
    {
     "data": {
      "text/plain": [
       "Int64Index([   41,    78,    87,    88,   125,   129,   192,   203,   226,\n",
       "              293,\n",
       "            ...\n",
       "            22387, 22448, 22850, 22979, 23085, 23105, 23143, 23151, 23268,\n",
       "            23483],\n",
       "           dtype='int64', length=257)"
      ]
     },
     "execution_count": 24,
     "metadata": {},
     "output_type": "execute_result"
    }
   ],
   "source": [
    "df_close.index"
   ]
  },
  {
   "cell_type": "markdown",
   "metadata": {},
   "source": [
    "78, 226, 22850"
   ]
  },
  {
   "cell_type": "code",
   "execution_count": 51,
   "metadata": {
    "scrolled": false
   },
   "outputs": [
    {
     "data": {
      "text/plain": [
       "clean_text    BNI Store Nov 6 2016 UK Muslim family who conv...\n",
       "label                                                        -1\n",
       "pred                                                          1\n",
       "Name: 10748, dtype: object"
      ]
     },
     "execution_count": 51,
     "metadata": {},
     "output_type": "execute_result"
    }
   ],
   "source": [
    "df_close[['clean_text', 'label', 'pred']].iloc[203]"
   ]
  },
  {
   "cell_type": "code",
   "execution_count": 52,
   "metadata": {},
   "outputs": [
    {
     "data": {
      "text/plain": [
       "'BNI Store Nov 6 2016 UK Muslim family who converted to Christianity forced to flee Manningham home a violence and threat by Muslims against them continue to escalate A British Christian convert who said he suffered seven year of persecution from Muslims ha been forced to flee his home under armed guard amid fear for his safety Nissar Hussain wa with his family when police arrived and moved him to a safe place The Telegraph and Argus Mr Hussain said the culmination of the extreme persecution had devastated his family and the dramatic arrival of armed police wa a complete surprise My family are distraught and extremely traumatised to be leaving said Mr Hussain But when your life is at stake there is no other choice Mr Hussain converted to Christianity 20 year ago but say in recent year he ha been subjected to harassment and violence by section of the Islamic community This extreme persecution by certain people in the Muslim community because we are convert ha broken u a a family he said From left to right Leena Anniesa Nissar Sarah Kubra Issar and Miriam Hussain a Christian family who have been threatened with death for converting from Islam in West Yorkshire England We are fragmented and I do not know how we will recover from this We haven t functioned properly for year He said serious question needed to be answered Last year Mr Hussain wa hospitalized after his kneecap wa smashed and his hand broken during an attack outside his home in St Paul s Road Manningham Two hooded men one armed with a pick axe handle assaulted him in a vicious attack caught on CCTV See video below At the time Mr Hussain said he and his family were being driven out of the city and he wa making plan to leave This week he had started packing up his belonging when the police arrived on Thursday The 50 year old who wa a nurse before leaving work due to post traumatic stress disorder said his six child aged eight to 24 and wife would never see their friend again Nissar Hussain 49 wa hospitalised on 17 November 2015 with a smashed kneecap and broken arm after a violent attack which wa captured on CCTV He said he wa attacked because he converted from Islam to Christianity and that his trouble started after he appeared on a Channel 4 documentary on how Islam convert are treated He had been expecting an attack for some month but when the police arrived he wa none the wiser that he wa at such serious risk The armed police arrived at about 3pm on Thursday he said I had been loading a van up with our belonging for eight hour having to stealthily check no one could see what I wa doing before they arrived Hussein stand in front of his car that wa vandalized by Muslims It took me completely by surprise but their the police professionalism wa deeply reassuring and they escorted my family and I to a safe haven outside Yorkshire Last night a West Yorkshire Police spokesman said Our priority ha always been to work effectively with our partner to minimise the risk to Mr Hussain and ensure that we maximise opportunity to put control measure in place to safeguard him his family and consider any wider impact upon the community across West Yorkshire he added Neighbors demand justice for the persecuted Hussein family We are disappointed that Mr Hussain and his family have decided to leave Bradford particularly a police and partner have been working together for some time to try and resolve the situation to the benefit of all party concerned All the incident reported by Mr Hussain have been recorded in line with National guidance and we continue to proactively pursue line of enquiry to identify the perpetrator and are committed to ensuring that a thorough and effective investigation is undertaken to mitigate the threat posed in the first instance and where possible bring the perpetrator to justice'"
      ]
     },
     "execution_count": 52,
     "metadata": {},
     "output_type": "execute_result"
    }
   ],
   "source": [
    "df_close['clean_text'].iloc[203]"
   ]
  },
  {
   "cell_type": "code",
   "execution_count": 46,
   "metadata": {},
   "outputs": [
    {
     "data": {
      "text/plain": [
       "clean_text    WARS AND RUMORS OF WARS Russia unveils Satan 2...\n",
       "label                                                        -1\n",
       "pred                                                          1\n",
       "Name: 15394, dtype: object"
      ]
     },
     "execution_count": 46,
     "metadata": {},
     "output_type": "execute_result"
    }
   ],
   "source": [
    "df_close[['clean_text', 'label', 'pred']].iloc[226]"
   ]
  },
  {
   "cell_type": "code",
   "execution_count": 39,
   "metadata": {
    "scrolled": false
   },
   "outputs": [
    {
     "data": {
      "text/plain": [
       "'WARS AND RUMORS OF WARS Russia unveils Satan 2 missile Nuclear weapon could wipe out France or Texas report say Published 7 hour ago CNN A Russian missile design company ha unveiled the first image of a new weapon in Russia s arsenal the Sarmat intercontinental ballistic missile nicknamed Satan 2 The RS 28 Sarmat rocket is capable of wiping out part of the earth the size of Texas or France Russian state news outlet Sputnik reported in May The image wa published by the Makeyev Rocket Design Bureau on it website Russian Deputy Defense Minister Yuri Borsiov said the Sarmat warhead wa capable of destroying target flying across both North and South Poles Russian state news agency TASS reported Tuesday'"
      ]
     },
     "execution_count": 39,
     "metadata": {},
     "output_type": "execute_result"
    }
   ],
   "source": [
    "df_close['clean_text'].iloc[226]"
   ]
  },
  {
   "cell_type": "code",
   "execution_count": 45,
   "metadata": {
    "scrolled": false
   },
   "outputs": [
    {
     "data": {
      "text/plain": [
       "'The Onion s Special Coverage Of Election Day 2016 Pinned Articles 5 51 PM Report Turnout Fairly Unattractive Throughout Suburban Philadelphia Our correspondent are reporting a steady turnout of homely and hideous resident throughout the suburban Philadelphia area that show no sign of slowing down In Montgomery County polling place are said to be bustling with score of schlubby overweight voter while Bucks and Delaware county were reportedly busy all morning with an influx of unsightly poorly groomed constituent with many of the local oinkers having to wait upwards of an hour in line to cast their ballot Overall turnout in the area appears to be way uglier than analyst initially predicted Compiled from report out of The Onion s Philadelphia bureau a part of our Precinct Watch initiative dedicated to covering all voting right obstacle encountered by the feckless and feeble minded American electorate The Onion 9 51 PM The Onion Calls Upon The Cowardly State Of Iowa To Stop Its Dithering And Declare Itself For One Candidate Or The Other With 42 percent of precinct reporting and the margin between the candidate holding at le than a percentage point The Onion call upon the spineless state of Iowa to quit it tarrying pull itself together and make a goddamn choice already According to The Onion s electoral model the Midwestern state need to get it shit in order and figure out which way it s going to go because this isn t even that complicated for Christ s sake The Onion project that the timid little Hawkeye State ha 20 minute or so to decide which candidate will get it six puny electoral vote or we ll just go ahead and call it for Jill Stein and you ll just have to deal with it The Onion 9 46 PM Nation s Optimists Need To Shut The Fuck Up Right Now WASHINGTON Saying their rosy attitude about the state of the election wa not helping anything given what is currently transpiring source confirmed Tuesday night that the nation s optimist need to seriously shut the fuck up a soon a humanly fucking possible Sure thing may look bad right now but even if the worst happens it s only four year we re talking about here said Santa Fe NM resident Pete Mirenge one of hundred of thousand of positive thinker across the nation who would do everyone a huge goddamn favor by closing their fucking trap right this fucking second and keeping them sealed for the foreseeable future This is exactly why we have a system of check and balance to ensure that whatever happens in the election the executive branch never get too much power Think about it Has any president been able to carry out their platform to the letter No Nothing s ever a bad a it seems believe me According to source a calm and composed Mirenge who reportedly ha about five second before his mouth is shut for him then added that the country s been through much worse and everything turned out okay 9 27 PM Tim Kaine Shows Hillary His Belly Button To Cheer Her Up After Losing Ohio After it wa officially projected that Donald Trump would take the critical swing state of Ohio and it 18 electoral vote vice presidential nominee Tim Kaine quickly ran over to a visibly disappointed Hillary Clinton and attempted to lift her spirit by pulling his shirt up above his midriff and showing her his belly button The Virginia senator spent several minute holding up the bottom of his shirt with his chin while repeatedly pointing at his navel and informing Clinton that he ha a innie sic prompting Clinton to curtly nod and say Yes that s right before craning her neck to look past him at the electoral map to track her progress in Florida and Nevada Onion chief political correspondent Martin Hazelton is reporting live from Clinton HQ in New York City throughout the evening The Onion Jill Stein Addresses Voters On Twitter The Onion 8 38 PM A Recap Of The Onion s Exit Polls The Onion ha been camped out at polling location nationwide to collect the most accurate exit poll data and offer the only journalistic refuge in a world teeming with chaos and lie Here are the highlight The Onion 8 13 PM How Ordinary Americans Feel About What Remains Of This Country Every four year against anyone s better judgment the American people are entrusted to elect the next president The Onion let them tell their story 7 58 PM Clinton Leaves Office On Motorcycle To Hunt Down Precinct Leaders Who Haven t Reported Yet With the majority of poll now closed across the country and no victor yet declared Hillary Clinton reportedly left her campaign watch party moment ago jumped on a red Suzuki Hayabusa motorcycle and sped off to track down any precinct leader who ha yet to report their county s election return Secretary Clinton could be seen weaving between car in Manhattan driving on the sidewalk to get past several area of heavy traffic and then accelerating to speed in excess of 110 mile per hour once she reached the interstate Reporters were unable to keep up with the Democratic nominee but numerous witness confirmed that Clinton had a baseball bat stowed next to her and appeared incredibly irate before she pulled down the tinted visor on her helmet revved the motorcycle s engine and tore away Onion chief political correspondent Martin Hazelton is reporting live from Clinton HQ in New York City throughout the evening The Onion 7 51 PM Wolf Blitzer Walks Into Middle Of Olive Garden Commercial To Announce Breaking Election Results NEW YORK Briskly striding into frame and interrupting a jubilant family meal CNN anchor Wolf Blitzer reportedly entered the middle of an Olive Garden commercial airing during the network s election coverage Tuesday night to announce a late breaking election result Breaking news CNN is calling Nevada for Hillary Clinton said Blitzer stepping directly in front of a smiling mother passing a heaping plate of fettucine alfredo to her daughter and shushing the laughter of surrounding table so that he could add that the victory dealt a severe blow to Donald Trump s chance of reaching the Oval Office We are projecting that Secretary Clinton will take the crucial swing state s six electoral vote putting her on the inside track to securing the 270 electoral vote needed hey excuse me will you please keep it down needed to win the presidency At press time Blitzer wa ducking in panic a the Olive Garden logo came swooping into frame The Onion 7 36 PM Election Flashback Nation Finally Shitty Enough To Make Social Progress 2008 WASHINGTON After emerging victorious from one of the most pivotal election in history president elect Barack Obama will assume the role of commander in chief on Jan 20 shattering a racial barrier the United States is at long last shitty enough to overcome Although poll going into the final week of October showed Sen Obama in the lead it remained unclear whether the failing economy dilapidated housing market crumbling national infrastructure health care crisis energy crisis and five year long disastrous war in Iraq had made the nation crappy enough to rise above 300 year of racial prejudice and make lasting change Today the American people have made their voice heard and they have said Things are finally a terrible a we re willing to tolerate said Obama addressing a crowd of unemployed uninsured and debt ridden supporter To elect a black man in this country and at this time these last eight year must have really broken you Added Obama It s a great day for our nation'"
      ]
     },
     "execution_count": 45,
     "metadata": {},
     "output_type": "execute_result"
    }
   ],
   "source": [
    "df_close['clean_text'][22850]"
   ]
  },
  {
   "cell_type": "code",
   "execution_count": 56,
   "metadata": {
    "scrolled": false
   },
   "outputs": [
    {
     "data": {
      "text/html": [
       "<div>\n",
       "<style scoped>\n",
       "    .dataframe tbody tr th:only-of-type {\n",
       "        vertical-align: middle;\n",
       "    }\n",
       "\n",
       "    .dataframe tbody tr th {\n",
       "        vertical-align: top;\n",
       "    }\n",
       "\n",
       "    .dataframe thead th {\n",
       "        text-align: right;\n",
       "    }\n",
       "</style>\n",
       "<table border=\"1\" class=\"dataframe\">\n",
       "  <thead>\n",
       "    <tr style=\"text-align: right;\">\n",
       "      <th></th>\n",
       "      <th>clean_text</th>\n",
       "      <th>label</th>\n",
       "      <th>pred</th>\n",
       "      <th>prob_fake</th>\n",
       "      <th>prob_true</th>\n",
       "    </tr>\n",
       "  </thead>\n",
       "  <tbody>\n",
       "    <tr>\n",
       "      <th>616</th>\n",
       "      <td>In the two year since the horrific marathon bo...</td>\n",
       "      <td>1</td>\n",
       "      <td>-1</td>\n",
       "      <td>0.500809</td>\n",
       "      <td>0.499191</td>\n",
       "    </tr>\n",
       "    <tr>\n",
       "      <th>2239</th>\n",
       "      <td>Top Dems want White House to call off Part B d...</td>\n",
       "      <td>1</td>\n",
       "      <td>-1</td>\n",
       "      <td>0.541699</td>\n",
       "      <td>0.458301</td>\n",
       "    </tr>\n",
       "    <tr>\n",
       "      <th>2897</th>\n",
       "      <td>Top Dems want White House to call off Part B d...</td>\n",
       "      <td>1</td>\n",
       "      <td>-1</td>\n",
       "      <td>0.541699</td>\n",
       "      <td>0.458301</td>\n",
       "    </tr>\n",
       "    <tr>\n",
       "      <th>2326</th>\n",
       "      <td>Atrocities such a the horrific shooting in Cha...</td>\n",
       "      <td>1</td>\n",
       "      <td>-1</td>\n",
       "      <td>0.513872</td>\n",
       "      <td>0.486128</td>\n",
       "    </tr>\n",
       "    <tr>\n",
       "      <th>1822</th>\n",
       "      <td>Clinton who resigned from her philanthropy s b...</td>\n",
       "      <td>1</td>\n",
       "      <td>-1</td>\n",
       "      <td>0.505925</td>\n",
       "      <td>0.494075</td>\n",
       "    </tr>\n",
       "    <tr>\n",
       "      <th>5344</th>\n",
       "      <td>Here is a look at the life of former Texas Gov...</td>\n",
       "      <td>1</td>\n",
       "      <td>-1</td>\n",
       "      <td>0.507597</td>\n",
       "      <td>0.492403</td>\n",
       "    </tr>\n",
       "    <tr>\n",
       "      <th>2935</th>\n",
       "      <td>Top Dems want White House to call off Part B d...</td>\n",
       "      <td>1</td>\n",
       "      <td>-1</td>\n",
       "      <td>0.541699</td>\n",
       "      <td>0.458301</td>\n",
       "    </tr>\n",
       "    <tr>\n",
       "      <th>813</th>\n",
       "      <td>Top Dems want White House to call off Part B d...</td>\n",
       "      <td>1</td>\n",
       "      <td>-1</td>\n",
       "      <td>0.541699</td>\n",
       "      <td>0.458301</td>\n",
       "    </tr>\n",
       "    <tr>\n",
       "      <th>5470</th>\n",
       "      <td>A Chinese investment of nearly 1bn in Britain ...</td>\n",
       "      <td>1</td>\n",
       "      <td>-1</td>\n",
       "      <td>0.510867</td>\n",
       "      <td>0.489133</td>\n",
       "    </tr>\n",
       "    <tr>\n",
       "      <th>2526</th>\n",
       "      <td>When President Obama called for two year of fr...</td>\n",
       "      <td>1</td>\n",
       "      <td>-1</td>\n",
       "      <td>0.518821</td>\n",
       "      <td>0.481179</td>\n",
       "    </tr>\n",
       "  </tbody>\n",
       "</table>\n",
       "</div>"
      ],
      "text/plain": [
       "                                             clean_text  label  pred  \\\n",
       "616   In the two year since the horrific marathon bo...      1    -1   \n",
       "2239  Top Dems want White House to call off Part B d...      1    -1   \n",
       "2897  Top Dems want White House to call off Part B d...      1    -1   \n",
       "2326  Atrocities such a the horrific shooting in Cha...      1    -1   \n",
       "1822  Clinton who resigned from her philanthropy s b...      1    -1   \n",
       "5344  Here is a look at the life of former Texas Gov...      1    -1   \n",
       "2935  Top Dems want White House to call off Part B d...      1    -1   \n",
       "813   Top Dems want White House to call off Part B d...      1    -1   \n",
       "5470  A Chinese investment of nearly 1bn in Britain ...      1    -1   \n",
       "2526  When President Obama called for two year of fr...      1    -1   \n",
       "\n",
       "      prob_fake  prob_true  \n",
       "616    0.500809   0.499191  \n",
       "2239   0.541699   0.458301  \n",
       "2897   0.541699   0.458301  \n",
       "2326   0.513872   0.486128  \n",
       "1822   0.505925   0.494075  \n",
       "5344   0.507597   0.492403  \n",
       "2935   0.541699   0.458301  \n",
       "813    0.541699   0.458301  \n",
       "5470   0.510867   0.489133  \n",
       "2526   0.518821   0.481179  "
      ]
     },
     "execution_count": 56,
     "metadata": {},
     "output_type": "execute_result"
    }
   ],
   "source": [
    "df_close[(df_close['label'] == 1) & (df_close['pred'] == -1)].sample(10)"
   ]
  },
  {
   "cell_type": "code",
   "execution_count": 57,
   "metadata": {},
   "outputs": [
    {
     "data": {
      "text/plain": [
       "'Here is a look at the life of former Texas Governor Rick Perry March 4 1950Paint Creek Texas James Richard Perry Joseph Ray Perry a farmerAmelia Holt Perry Anita Thigpen Perry November 6 1982 present Sydney GriffinTexas A M University B S 1972 US Air Force 1972 1977 MethodistIs an Eagle Scout Met his wife Anita in elementary school Is the longest serving governor in Texas history Serves in the US Air Force flying transport plane Returns to Prairie Creek Texas to live and work on his father s farm Forms JR Perry Farms with his father Member of the Texas House of Representatives a a Democrat from the 64th District Switches to the Republican Party Commissioner of the Texas Department of Agriculture Lieutenant Governor of Texas Perry is sworn in a governor after resigns to become president of the United States Perry is elected to a four year term Is re elected governor Perry s book On My Honor Why the American Values of the Boy Scouts Are Worth Fighting For is published Perry is elected for a third term in office Declares his during a speech in South Carolina Suspends his presidential campaign and endorses a Texas governor in 2014 A grand jury indicts Rick Perry on charge of coercion of a public servant and abuse of his official capacity He allegedly threatened to veto funding for a statewide public integrity unit run by Travis County District Attorney Rosemary Lehmberg unless she resigned following her arrest on a drunk driving charge She stayed in office and he later vetoed the funding to be booked and fingerprinted and to have his mug shot taken He pleads not guilty to charge of coercion of a public servant and abuse of official capacity The next day he make the first of six campaign style stop across New Hampshire Steps down a governor at a rally in Addison Texas A Texas appeal The court agrees with the argument from Perry s legal team that a Texas law concerning coercion of a public servant violates Perry s First Amendment freedom of speech right The court is allowing a charge related to abuse of power to move forward Suspends his campaign for the presidency Perry The Texas Court of Criminal Appeals alleging he abused his power while in office Perry is revealed a one of the member of the Is eliminated from Dancing With The Stars Returns to Dancing With The Stars for the season finale Perry dance with Vanilla Ice during a live performance of Ice Ice Baby President elect Donald Trump announces he ha selected Perry to be his'"
      ]
     },
     "execution_count": 57,
     "metadata": {},
     "output_type": "execute_result"
    }
   ],
   "source": [
    "df_close['clean_text'][5344]"
   ]
  },
  {
   "cell_type": "code",
   "execution_count": null,
   "metadata": {},
   "outputs": [],
   "source": []
  },
  {
   "cell_type": "code",
   "execution_count": 35,
   "metadata": {},
   "outputs": [
    {
     "ename": "IndexError",
     "evalue": "single positional indexer is out-of-bounds",
     "output_type": "error",
     "traceback": [
      "\u001b[1;31m---------------------------------------------------------------------------\u001b[0m",
      "\u001b[1;31mIndexError\u001b[0m                                Traceback (most recent call last)",
      "\u001b[1;32m<ipython-input-35-b57fc1304633>\u001b[0m in \u001b[0;36m<module>\u001b[1;34m\u001b[0m\n\u001b[1;32m----> 1\u001b[1;33m \u001b[0mdf_close\u001b[0m\u001b[1;33m[\u001b[0m\u001b[1;33m[\u001b[0m\u001b[1;34m'clean_text'\u001b[0m\u001b[1;33m,\u001b[0m \u001b[1;34m'label'\u001b[0m\u001b[1;33m,\u001b[0m \u001b[1;34m'pred'\u001b[0m\u001b[1;33m]\u001b[0m\u001b[1;33m]\u001b[0m\u001b[1;33m.\u001b[0m\u001b[0miloc\u001b[0m\u001b[1;33m[\u001b[0m\u001b[1;36m293\u001b[0m\u001b[1;33m]\u001b[0m\u001b[1;33m\u001b[0m\u001b[1;33m\u001b[0m\u001b[0m\n\u001b[0m",
      "\u001b[1;32m~\\Anaconda3\\envs\\nltktb\\lib\\site-packages\\pandas\\core\\indexing.py\u001b[0m in \u001b[0;36m__getitem__\u001b[1;34m(self, key)\u001b[0m\n\u001b[0;32m   1422\u001b[0m \u001b[1;33m\u001b[0m\u001b[0m\n\u001b[0;32m   1423\u001b[0m             \u001b[0mmaybe_callable\u001b[0m \u001b[1;33m=\u001b[0m \u001b[0mcom\u001b[0m\u001b[1;33m.\u001b[0m\u001b[0mapply_if_callable\u001b[0m\u001b[1;33m(\u001b[0m\u001b[0mkey\u001b[0m\u001b[1;33m,\u001b[0m \u001b[0mself\u001b[0m\u001b[1;33m.\u001b[0m\u001b[0mobj\u001b[0m\u001b[1;33m)\u001b[0m\u001b[1;33m\u001b[0m\u001b[1;33m\u001b[0m\u001b[0m\n\u001b[1;32m-> 1424\u001b[1;33m             \u001b[1;32mreturn\u001b[0m \u001b[0mself\u001b[0m\u001b[1;33m.\u001b[0m\u001b[0m_getitem_axis\u001b[0m\u001b[1;33m(\u001b[0m\u001b[0mmaybe_callable\u001b[0m\u001b[1;33m,\u001b[0m \u001b[0maxis\u001b[0m\u001b[1;33m=\u001b[0m\u001b[0maxis\u001b[0m\u001b[1;33m)\u001b[0m\u001b[1;33m\u001b[0m\u001b[1;33m\u001b[0m\u001b[0m\n\u001b[0m\u001b[0;32m   1425\u001b[0m \u001b[1;33m\u001b[0m\u001b[0m\n\u001b[0;32m   1426\u001b[0m     \u001b[1;32mdef\u001b[0m \u001b[0m_is_scalar_access\u001b[0m\u001b[1;33m(\u001b[0m\u001b[0mself\u001b[0m\u001b[1;33m,\u001b[0m \u001b[0mkey\u001b[0m\u001b[1;33m:\u001b[0m \u001b[0mTuple\u001b[0m\u001b[1;33m)\u001b[0m\u001b[1;33m:\u001b[0m\u001b[1;33m\u001b[0m\u001b[1;33m\u001b[0m\u001b[0m\n",
      "\u001b[1;32m~\\Anaconda3\\envs\\nltktb\\lib\\site-packages\\pandas\\core\\indexing.py\u001b[0m in \u001b[0;36m_getitem_axis\u001b[1;34m(self, key, axis)\u001b[0m\n\u001b[0;32m   2155\u001b[0m \u001b[1;33m\u001b[0m\u001b[0m\n\u001b[0;32m   2156\u001b[0m             \u001b[1;31m# validate the location\u001b[0m\u001b[1;33m\u001b[0m\u001b[1;33m\u001b[0m\u001b[1;33m\u001b[0m\u001b[0m\n\u001b[1;32m-> 2157\u001b[1;33m             \u001b[0mself\u001b[0m\u001b[1;33m.\u001b[0m\u001b[0m_validate_integer\u001b[0m\u001b[1;33m(\u001b[0m\u001b[0mkey\u001b[0m\u001b[1;33m,\u001b[0m \u001b[0maxis\u001b[0m\u001b[1;33m)\u001b[0m\u001b[1;33m\u001b[0m\u001b[1;33m\u001b[0m\u001b[0m\n\u001b[0m\u001b[0;32m   2158\u001b[0m \u001b[1;33m\u001b[0m\u001b[0m\n\u001b[0;32m   2159\u001b[0m             \u001b[1;32mreturn\u001b[0m \u001b[0mself\u001b[0m\u001b[1;33m.\u001b[0m\u001b[0m_get_loc\u001b[0m\u001b[1;33m(\u001b[0m\u001b[0mkey\u001b[0m\u001b[1;33m,\u001b[0m \u001b[0maxis\u001b[0m\u001b[1;33m=\u001b[0m\u001b[0maxis\u001b[0m\u001b[1;33m)\u001b[0m\u001b[1;33m\u001b[0m\u001b[1;33m\u001b[0m\u001b[0m\n",
      "\u001b[1;32m~\\Anaconda3\\envs\\nltktb\\lib\\site-packages\\pandas\\core\\indexing.py\u001b[0m in \u001b[0;36m_validate_integer\u001b[1;34m(self, key, axis)\u001b[0m\n\u001b[0;32m   2086\u001b[0m         \u001b[0mlen_axis\u001b[0m \u001b[1;33m=\u001b[0m \u001b[0mlen\u001b[0m\u001b[1;33m(\u001b[0m\u001b[0mself\u001b[0m\u001b[1;33m.\u001b[0m\u001b[0mobj\u001b[0m\u001b[1;33m.\u001b[0m\u001b[0m_get_axis\u001b[0m\u001b[1;33m(\u001b[0m\u001b[0maxis\u001b[0m\u001b[1;33m)\u001b[0m\u001b[1;33m)\u001b[0m\u001b[1;33m\u001b[0m\u001b[1;33m\u001b[0m\u001b[0m\n\u001b[0;32m   2087\u001b[0m         \u001b[1;32mif\u001b[0m \u001b[0mkey\u001b[0m \u001b[1;33m>=\u001b[0m \u001b[0mlen_axis\u001b[0m \u001b[1;32mor\u001b[0m \u001b[0mkey\u001b[0m \u001b[1;33m<\u001b[0m \u001b[1;33m-\u001b[0m\u001b[0mlen_axis\u001b[0m\u001b[1;33m:\u001b[0m\u001b[1;33m\u001b[0m\u001b[1;33m\u001b[0m\u001b[0m\n\u001b[1;32m-> 2088\u001b[1;33m             \u001b[1;32mraise\u001b[0m \u001b[0mIndexError\u001b[0m\u001b[1;33m(\u001b[0m\u001b[1;34m\"single positional indexer is out-of-bounds\"\u001b[0m\u001b[1;33m)\u001b[0m\u001b[1;33m\u001b[0m\u001b[1;33m\u001b[0m\u001b[0m\n\u001b[0m\u001b[0;32m   2089\u001b[0m \u001b[1;33m\u001b[0m\u001b[0m\n\u001b[0;32m   2090\u001b[0m     \u001b[1;32mdef\u001b[0m \u001b[0m_getitem_tuple\u001b[0m\u001b[1;33m(\u001b[0m\u001b[0mself\u001b[0m\u001b[1;33m,\u001b[0m \u001b[0mtup\u001b[0m\u001b[1;33m)\u001b[0m\u001b[1;33m:\u001b[0m\u001b[1;33m\u001b[0m\u001b[1;33m\u001b[0m\u001b[0m\n",
      "\u001b[1;31mIndexError\u001b[0m: single positional indexer is out-of-bounds"
     ]
    }
   ],
   "source": [
    "df_close[['clean_text', 'label', 'pred']].iloc[293]"
   ]
  }
 ],
 "metadata": {
  "kernelspec": {
   "display_name": "Python 3",
   "language": "python",
   "name": "python3"
  },
  "language_info": {
   "codemirror_mode": {
    "name": "ipython",
    "version": 3
   },
   "file_extension": ".py",
   "mimetype": "text/x-python",
   "name": "python",
   "nbconvert_exporter": "python",
   "pygments_lexer": "ipython3",
   "version": "3.6.9"
  }
 },
 "nbformat": 4,
 "nbformat_minor": 2
}
